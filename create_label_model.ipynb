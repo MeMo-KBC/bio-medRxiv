{
 "cells": [
  {
   "cell_type": "code",
   "execution_count": 1,
   "metadata": {},
   "outputs": [],
   "source": [
    "from fonduer.supervision import Labeler\n",
    "from fonduer.supervision.models import GoldLabel\n",
    "from fonduer.features import Featurizer\n",
    "from fonduer.candidates.models import Candidate\n",
    "from fonduer.parser.models import Document\n",
    "\n",
    "from snorkel.labeling import LFAnalysis\n",
    "from snorkel.labeling.model import LabelModel\n",
    "\n",
    "from MeMoKBC.pipeline.utils import get_session, load_candidates, match_label_matrix\n",
    "from MeMoKBC.definitions.candidates import NameFullAbbr, NameAbbrTask\n",
    "from MeMoKBC.pipeline.lfs.name_short_long_lfs import short_long_lfs\n",
    "from MeMoKBC.pipeline.lfs.name_short_task_lfs import name_abbr_task_lfs\n",
    "from MeMoKBC.gold_label_matcher import match_gold_label\n",
    "\n",
    "import numpy as np\n",
    "from random import sample\n",
    "import random\n",
    "random.seed(1)"
   ]
  },
  {
   "cell_type": "code",
   "execution_count": 2,
   "metadata": {},
   "outputs": [
    {
     "name": "stderr",
     "output_type": "stream",
     "text": [
      "[2023-07-06 20:23:53,550][INFO] fonduer.meta:49 - Setting logging directory to: /tmp/2023-07-06_20-23-53\n"
     ]
    }
   ],
   "source": [
    "session = get_session(\"pipeline6\")"
   ]
  },
  {
   "cell_type": "code",
   "execution_count": 3,
   "metadata": {},
   "outputs": [],
   "source": [
    "candidates = [NameFullAbbr, NameAbbrTask]"
   ]
  },
  {
   "cell_type": "code",
   "execution_count": 4,
   "metadata": {},
   "outputs": [
    {
     "name": "stderr",
     "output_type": "stream",
     "text": [
      "[2023-07-06 20:23:53,827][INFO] fonduer.meta:134 - Connecting user:postgres to fonduer-postgres-dev:5432/pipeline6\n",
      "[2023-07-06 20:23:53,829][INFO] fonduer.meta:162 - Initializing the storage schema\n",
      "[2023-07-06 20:23:54,076][INFO] root:88 - Found relations for 22 documents\n",
      "[2023-07-06 20:23:54,372][INFO] root:93 - Found 6820 candidates for <class 'fonduer.candidates.models.candidate.NameAbbrTask'>\n",
      "[2023-07-06 20:23:54,832][INFO] root:93 - Found 28105 candidates for <class 'fonduer.candidates.models.candidate.NameFullAbbr'>\n",
      "[2023-07-06 20:23:55,224][INFO] root:102 - Found candidates for 40 documents\n"
     ]
    }
   ],
   "source": [
    "# Load goldlabels from json file and compare to candidates in database\n",
    "gold_labels = match_gold_label(\n",
    "    \"pipeline6\",\n",
    "    \"/data/Goldlabel_biomedRxiv/goldlabel1_docs801-840_laura/goldlabel_authorlong_short_task_medRxiv.json\",\n",
    "    [NameAbbrTask, NameFullAbbr]\n",
    ")\n",
    "\n",
    "# filter potential goldlabels after candidate class\n",
    "nat_cands = []\n",
    "nfa_cands = []\n",
    "for cand in gold_labels:\n",
    "    if type(cand) == NameAbbrTask:\n",
    "        # remove candidates where short and long name are not in the same sentence\n",
    "        if cand[0].context.sentence.id == cand[1].context.sentence.id:\n",
    "            # append the id of the candidate to the list\n",
    "            nat_cands.append(cand.id)\n",
    "    elif type(cand) == NameFullAbbr:\n",
    "        # append the id of the candidate to the list\n",
    "        nfa_cands.append(cand.id)"
   ]
  },
  {
   "attachments": {},
   "cell_type": "markdown",
   "metadata": {},
   "source": [
    "Now that know which Candidates are our GoldLabels we still need to inform Fonduer of this. To be able to write this information into the db Fonduer needs a funktion that labels these candidates as Goldlabels."
   ]
  },
  {
   "cell_type": "code",
   "execution_count": 5,
   "metadata": {},
   "outputs": [
    {
     "name": "stderr",
     "output_type": "stream",
     "text": [
      "/workspaces/bio-medRxiv/.venv/lib/python3.8/site-packages/fonduer/utils/utils_udf.py:217: SAWarning: Coercing Subquery object into a select() for use in IN(); please pass a select() construct explicitly\n",
      "  .filter(candidate_class.id.in_(sub_query))\n",
      "[2023-07-06 20:24:08,989][INFO] fonduer.supervision.labeler:330 - Clearing Labels (split 0)\n",
      "/workspaces/bio-medRxiv/.venv/lib/python3.8/site-packages/fonduer/supervision/labeler.py:340: SAWarning: Coercing Subquery object into a select() for use in IN(); please pass a select() construct explicitly\n",
      "  query = self.session.query(table).filter(table.candidate_id.in_(sub_query))\n",
      "[2023-07-06 20:24:09,033][INFO] fonduer.utils.udf:67 - Running UDF...\n"
     ]
    },
    {
     "data": {
      "application/vnd.jupyter.widget-view+json": {
       "model_id": "32f723702fb348e7b783bc1249e2f7ff",
       "version_major": 2,
       "version_minor": 0
      },
      "text/plain": [
       "  0%|          | 0/14 [00:00<?, ?it/s]"
      ]
     },
     "metadata": {},
     "output_type": "display_data"
    },
    {
     "name": "stderr",
     "output_type": "stream",
     "text": [
      "[2023-07-06 20:24:13,881][INFO] fonduer.supervision.labeler:330 - Clearing Labels (split 1)\n",
      "[2023-07-06 20:24:13,916][INFO] fonduer.utils.udf:67 - Running UDF...\n"
     ]
    },
    {
     "data": {
      "application/vnd.jupyter.widget-view+json": {
       "model_id": "5b5f00cb4c734dfc8d98809c075254e9",
       "version_major": 2,
       "version_minor": 0
      },
      "text/plain": [
       "  0%|          | 0/13 [00:00<?, ?it/s]"
      ]
     },
     "metadata": {},
     "output_type": "display_data"
    },
    {
     "name": "stderr",
     "output_type": "stream",
     "text": [
      "[2023-07-06 20:24:20,374][INFO] fonduer.supervision.labeler:330 - Clearing Labels (split 2)\n",
      "[2023-07-06 20:24:20,426][INFO] fonduer.utils.udf:67 - Running UDF...\n"
     ]
    },
    {
     "data": {
      "application/vnd.jupyter.widget-view+json": {
       "model_id": "c831e9f502b04d009671e699a1e8353c",
       "version_major": 2,
       "version_minor": 0
      },
      "text/plain": [
       "  0%|          | 0/13 [00:00<?, ?it/s]"
      ]
     },
     "metadata": {},
     "output_type": "display_data"
    }
   ],
   "source": [
    "# create labeler object\n",
    "labeler = Labeler(session, candidates)\n",
    "\n",
    "# write function that returns gold label for a candidate\n",
    "def gold(c: Candidate) -> int:\n",
    "    if type(c) == NameAbbrTask:\n",
    "\n",
    "        # check if the candidate id is inside the list of goldlabel candidate id's\n",
    "        if c.id in nat_cands:\n",
    "            return 1\n",
    "        else:\n",
    "            return 0\n",
    "\n",
    "    elif type(c) == NameFullAbbr:\n",
    "        \n",
    "        # check if the candidate id is inside the list of goldlabel candidate id's\n",
    "        if c.id in nfa_cands:\n",
    "            return 1\n",
    "        else:\n",
    "            return 0\n",
    "    # if the candidate id is not inside the list of goldlabel candidate id's return FALSE\n",
    "    return 0\n",
    "\n",
    "# Apply the gold label function for each candidate class\n",
    "labeler.apply(lfs=[[gold], [gold]], table=GoldLabel, split=0, clear=True)\n",
    "labeler.apply(lfs=[[gold], [gold]], table=GoldLabel, split=1)\n",
    "labeler.apply(lfs=[[gold], [gold]], table=GoldLabel, split=2)"
   ]
  },
  {
   "attachments": {},
   "cell_type": "markdown",
   "metadata": {},
   "source": [
    "To be able to train our Model we need to tell it a set of candidates and their Goldlabels. This input is in the form of two list where each entry represents a candidate. For each candidate their are multiple entries that represent the outcome of the different Labeling functions. The same applies to the GoldLabels, we need a complete list of all candidates where each entry represents the output of the gold function."
   ]
  },
  {
   "cell_type": "code",
   "execution_count": 6,
   "metadata": {},
   "outputs": [],
   "source": [
    "# load candidates\n",
    "train_cands = load_candidates(session, 0, candidates)\n",
    "\n",
    "# match the candidates with the outcome of the labeling functions to generate input for the label model\n",
    "L_train_NFA, L_train_NAT = match_label_matrix(session, candidates, 0) \n",
    "\n",
    " # load gold labels list\n",
    "L_gold_train_NFA, L_gold_train_NAT = labeler.get_gold_labels(train_cands)"
   ]
  },
  {
   "attachments": {},
   "cell_type": "markdown",
   "metadata": {},
   "source": [
    "### IMPORTANT filter out candidates"
   ]
  },
  {
   "cell_type": "code",
   "execution_count": 60,
   "metadata": {},
   "outputs": [
    {
     "data": {
      "text/plain": [
       "(5090, 1)"
      ]
     },
     "execution_count": 60,
     "metadata": {},
     "output_type": "execute_result"
    }
   ],
   "source": [
    "L_gold_train_NFA.shape"
   ]
  },
  {
   "cell_type": "code",
   "execution_count": 59,
   "metadata": {},
   "outputs": [
    {
     "data": {
      "text/plain": [
       "134"
      ]
     },
     "execution_count": 59,
     "metadata": {},
     "output_type": "execute_result"
    }
   ],
   "source": [
    "L_gold_train_NFA.sum()"
   ]
  },
  {
   "cell_type": "code",
   "execution_count": 7,
   "metadata": {},
   "outputs": [],
   "source": [
    "labels_to_use_NFA = sample(list(np.where(L_gold_train_NFA == 0)[0]), int(sum(L_gold_train_NFA) * 10))\n",
    "labels_to_use_NFA.extend(np.where(L_gold_train_NFA == 1)[0])\n",
    "labels_to_use_NFA.sort()"
   ]
  },
  {
   "cell_type": "code",
   "execution_count": 61,
   "metadata": {},
   "outputs": [
    {
     "data": {
      "text/plain": [
       "(1736, 1)"
      ]
     },
     "execution_count": 61,
     "metadata": {},
     "output_type": "execute_result"
    }
   ],
   "source": [
    "L_gold_train_NAT.shape"
   ]
  },
  {
   "cell_type": "code",
   "execution_count": 58,
   "metadata": {},
   "outputs": [
    {
     "data": {
      "text/plain": [
       "109"
      ]
     },
     "execution_count": 58,
     "metadata": {},
     "output_type": "execute_result"
    }
   ],
   "source": [
    "L_gold_train_NAT.sum()"
   ]
  },
  {
   "cell_type": "code",
   "execution_count": 52,
   "metadata": {},
   "outputs": [],
   "source": [
    "labels_to_use_NAT = sample(list(np.where(L_gold_train_NAT == 0)[0]), int(sum(L_gold_train_NAT) * 2))\n",
    "labels_to_use_NAT.extend(np.where(L_gold_train_NAT == 1)[0])\n",
    "labels_to_use_NAT.sort()"
   ]
  },
  {
   "attachments": {},
   "cell_type": "markdown",
   "metadata": {},
   "source": [
    "Create the Label Models"
   ]
  },
  {
   "cell_type": "code",
   "execution_count": 53,
   "metadata": {},
   "outputs": [],
   "source": [
    "from pathlib import Path\n",
    "\n",
    "gen_model_NFA = LabelModel(cardinality=2)\n",
    "gen_model_NAT = LabelModel(cardinality=2)"
   ]
  },
  {
   "attachments": {},
   "cell_type": "markdown",
   "metadata": {},
   "source": [
    "Because the output of the gold labels is 2 dimensional e.g [[0], [1], [0]] we still need to reshape the goldlabels with .reshape(-1) to reduce 1 dimension which will result in -> [0, 1, 0]"
   ]
  },
  {
   "cell_type": "code",
   "execution_count": 10,
   "metadata": {},
   "outputs": [
    {
     "name": "stderr",
     "output_type": "stream",
     "text": [
      "[2023-07-06 20:24:37,080][INFO] root:905 - Computing O...\n",
      "[2023-07-06 20:24:37,085][INFO] root:911 - Estimating \\mu...\n",
      "  0%|          | 0/500 [00:00<?, ?epoch/s][2023-07-06 20:24:37,094][INFO] root:79 - [0 epochs]: TRAIN:[loss=13.414]\n",
      "[2023-07-06 20:24:37,174][INFO] root:79 - [100 epochs]: TRAIN:[loss=0.391]\n"
     ]
    },
    {
     "name": "stderr",
     "output_type": "stream",
     "text": [
      " 24%|██▍       | 119/500 [00:00<00:00, 1186.76epoch/s][2023-07-06 20:24:37,251][INFO] root:79 - [200 epochs]: TRAIN:[loss=0.223]\n",
      " 49%|████▉     | 246/500 [00:00<00:00, 1232.18epoch/s][2023-07-06 20:24:37,333][INFO] root:79 - [300 epochs]: TRAIN:[loss=0.029]\n",
      " 74%|███████▍  | 371/500 [00:00<00:00, 1236.56epoch/s][2023-07-06 20:24:37,415][INFO] root:79 - [400 epochs]: TRAIN:[loss=0.014]\n",
      "100%|██████████| 500/500 [00:00<00:00, 1249.90epoch/s]\n",
      "[2023-07-06 20:24:37,491][INFO] root:977 - Finished Training\n"
     ]
    }
   ],
   "source": [
    "gen_model_NFA.fit(L_train=L_train_NFA[labels_to_use_NFA], Y_dev=L_gold_train_NFA.reshape(-1)[labels_to_use_NFA], n_epochs=500, log_freq=100)\n",
    "gen_model_NFA.save(destination=\"models/label_model_NFA.pkl\")"
   ]
  },
  {
   "cell_type": "code",
   "execution_count": 54,
   "metadata": {},
   "outputs": [
    {
     "name": "stderr",
     "output_type": "stream",
     "text": [
      "[2023-07-06 20:34:46,504][INFO] root:905 - Computing O...\n",
      "[2023-07-06 20:34:46,507][INFO] root:911 - Estimating \\mu...\n",
      "  0%|          | 0/500 [00:00<?, ?epoch/s][2023-07-06 20:34:46,511][INFO] root:79 - [0 epochs]: TRAIN:[loss=1.009]\n",
      "[2023-07-06 20:34:46,592][INFO] root:79 - [100 epochs]: TRAIN:[loss=0.008]\n",
      " 25%|██▍       | 124/500 [00:00<00:00, 1235.56epoch/s][2023-07-06 20:34:46,671][INFO] root:79 - [200 epochs]: TRAIN:[loss=0.007]\n",
      " 51%|█████     | 256/500 [00:00<00:00, 1281.59epoch/s][2023-07-06 20:34:46,743][INFO] root:79 - [300 epochs]: TRAIN:[loss=0.006]\n",
      " 79%|███████▉  | 397/500 [00:00<00:00, 1336.31epoch/s][2023-07-06 20:34:46,815][INFO] root:79 - [400 epochs]: TRAIN:[loss=0.005]\n",
      "100%|██████████| 500/500 [00:00<00:00, 1327.41epoch/s]\n",
      "[2023-07-06 20:34:46,888][INFO] root:977 - Finished Training\n"
     ]
    }
   ],
   "source": [
    "gen_model_NAT.fit(L_train=L_train_NAT[labels_to_use_NAT], Y_dev=L_gold_train_NAT.reshape(-1)[labels_to_use_NAT], n_epochs=500, log_freq=100)\n",
    "gen_model_NAT.save(destination=\"models/label_model_NAT.pkl\")"
   ]
  },
  {
   "attachments": {},
   "cell_type": "markdown",
   "metadata": {},
   "source": [
    "### Generating train marginals"
   ]
  },
  {
   "cell_type": "code",
   "execution_count": 12,
   "metadata": {},
   "outputs": [],
   "source": [
    "train_marginals_NFA = gen_model_NFA.predict_proba(L_train_NFA[labels_to_use_NFA])"
   ]
  },
  {
   "cell_type": "code",
   "execution_count": 55,
   "metadata": {},
   "outputs": [],
   "source": [
    "train_marginals_NAT = gen_model_NAT.predict_proba(L_train_NAT[labels_to_use_NAT])"
   ]
  },
  {
   "cell_type": "code",
   "execution_count": 56,
   "metadata": {},
   "outputs": [
    {
     "data": {
      "image/png": "[encoded data removed]",
      "text/plain": [
       "<Figure size 1200x400 with 2 Axes>"
      ]
     },
     "metadata": {},
     "output_type": "display_data"
    }
   ],
   "source": [
    "import matplotlib.pyplot as plt\n",
    "\n",
    "fig, ax = plt.subplots(1,2)\n",
    "fig.set_figheight(4)\n",
    "fig.set_figwidth(12)\n",
    "fig.set_tight_layout(\"w_pad\")\n",
    "\n",
    "bins=20\n",
    "\n",
    "ax[0].hist(train_marginals_NFA[:, 1], bins=bins)\n",
    "ax[0].set_title(\"NFA(TRUE)\")\n",
    "\n",
    "ax[1].hist(train_marginals_NAT[:, 1], bins=bins)\n",
    "ax[1].set_title(\"NAT(TRUE)\")\n",
    "plt.show()"
   ]
  },
  {
   "attachments": {},
   "cell_type": "markdown",
   "metadata": {},
   "source": [
    "### Iterate on LFs"
   ]
  },
  {
   "cell_type": "code",
   "execution_count": 15,
   "metadata": {},
   "outputs": [],
   "source": [
    "labeler = Labeler(session, candidates)"
   ]
  },
  {
   "cell_type": "code",
   "execution_count": 16,
   "metadata": {},
   "outputs": [],
   "source": [
    "dev_cands = load_candidates(session, split=1, candidate_list=candidates)\n",
    "\n",
    "L_dev_NFA, L_dev_NAT = match_label_matrix(session, candidates, 1)"
   ]
  },
  {
   "cell_type": "code",
   "execution_count": 17,
   "metadata": {},
   "outputs": [],
   "source": [
    "L_gold_dev_NFA, L_gold_dev_NAT = labeler.get_gold_labels(dev_cands)"
   ]
  },
  {
   "cell_type": "code",
   "execution_count": 18,
   "metadata": {},
   "outputs": [
    {
     "data": {
      "text/html": [
       "<div>\n",
       "<style scoped>\n",
       "    .dataframe tbody tr th:only-of-type {\n",
       "        vertical-align: middle;\n",
       "    }\n",
       "\n",
       "    .dataframe tbody tr th {\n",
       "        vertical-align: top;\n",
       "    }\n",
       "\n",
       "    .dataframe thead th {\n",
       "        text-align: right;\n",
       "    }\n",
       "</style>\n",
       "<table border=\"1\" class=\"dataframe\">\n",
       "  <thead>\n",
       "    <tr style=\"text-align: right;\">\n",
       "      <th></th>\n",
       "      <th>j</th>\n",
       "      <th>Polarity</th>\n",
       "      <th>Coverage</th>\n",
       "      <th>Overlaps</th>\n",
       "      <th>Conflicts</th>\n",
       "      <th>Correct</th>\n",
       "      <th>Incorrect</th>\n",
       "      <th>Emp. Acc.</th>\n",
       "    </tr>\n",
       "  </thead>\n",
       "  <tbody>\n",
       "    <tr>\n",
       "      <th>name_short_outside_half_percentile_sentence_wise</th>\n",
       "      <td>0</td>\n",
       "      <td>[0, 1]</td>\n",
       "      <td>1.000000</td>\n",
       "      <td>1.000000</td>\n",
       "      <td>0.094554</td>\n",
       "      <td>5258</td>\n",
       "      <td>453</td>\n",
       "      <td>0.920679</td>\n",
       "    </tr>\n",
       "    <tr>\n",
       "      <th>name_full_in_top_percentile_sentence_wise</th>\n",
       "      <td>1</td>\n",
       "      <td>[0]</td>\n",
       "      <td>0.140781</td>\n",
       "      <td>0.140781</td>\n",
       "      <td>0.094554</td>\n",
       "      <td>717</td>\n",
       "      <td>87</td>\n",
       "      <td>0.891791</td>\n",
       "    </tr>\n",
       "    <tr>\n",
       "      <th>word_count</th>\n",
       "      <td>2</td>\n",
       "      <td>[0]</td>\n",
       "      <td>0.055682</td>\n",
       "      <td>0.055682</td>\n",
       "      <td>0.000700</td>\n",
       "      <td>318</td>\n",
       "      <td>0</td>\n",
       "      <td>1.000000</td>\n",
       "    </tr>\n",
       "    <tr>\n",
       "      <th>small_letter_count</th>\n",
       "      <td>3</td>\n",
       "      <td>[0]</td>\n",
       "      <td>0.030468</td>\n",
       "      <td>0.030468</td>\n",
       "      <td>0.001926</td>\n",
       "      <td>174</td>\n",
       "      <td>0</td>\n",
       "      <td>1.000000</td>\n",
       "    </tr>\n",
       "    <tr>\n",
       "      <th>check_all_uppercase_letters</th>\n",
       "      <td>4</td>\n",
       "      <td>[0]</td>\n",
       "      <td>0.125897</td>\n",
       "      <td>0.125897</td>\n",
       "      <td>0.080721</td>\n",
       "      <td>632</td>\n",
       "      <td>87</td>\n",
       "      <td>0.878999</td>\n",
       "    </tr>\n",
       "    <tr>\n",
       "      <th>check_uppercase_letters</th>\n",
       "      <td>5</td>\n",
       "      <td>[0]</td>\n",
       "      <td>0.125897</td>\n",
       "      <td>0.125897</td>\n",
       "      <td>0.080721</td>\n",
       "      <td>632</td>\n",
       "      <td>87</td>\n",
       "      <td>0.878999</td>\n",
       "    </tr>\n",
       "    <tr>\n",
       "      <th>check_horizont_abr_short</th>\n",
       "      <td>6</td>\n",
       "      <td>[0]</td>\n",
       "      <td>1.000000</td>\n",
       "      <td>1.000000</td>\n",
       "      <td>0.094554</td>\n",
       "      <td>5624</td>\n",
       "      <td>87</td>\n",
       "      <td>0.984766</td>\n",
       "    </tr>\n",
       "    <tr>\n",
       "      <th>check_uppercase_letters_short_in_long</th>\n",
       "      <td>7</td>\n",
       "      <td>[0]</td>\n",
       "      <td>0.409560</td>\n",
       "      <td>0.409560</td>\n",
       "      <td>0.059884</td>\n",
       "      <td>2274</td>\n",
       "      <td>65</td>\n",
       "      <td>0.972210</td>\n",
       "    </tr>\n",
       "    <tr>\n",
       "      <th>check_long_name_not_upper</th>\n",
       "      <td>8</td>\n",
       "      <td>[0]</td>\n",
       "      <td>0.873577</td>\n",
       "      <td>0.873577</td>\n",
       "      <td>0.089126</td>\n",
       "      <td>4902</td>\n",
       "      <td>87</td>\n",
       "      <td>0.982562</td>\n",
       "    </tr>\n",
       "    <tr>\n",
       "      <th>check_all_abbr_letters_in_long</th>\n",
       "      <td>9</td>\n",
       "      <td>[0]</td>\n",
       "      <td>0.996323</td>\n",
       "      <td>0.996323</td>\n",
       "      <td>0.094554</td>\n",
       "      <td>5603</td>\n",
       "      <td>87</td>\n",
       "      <td>0.984710</td>\n",
       "    </tr>\n",
       "  </tbody>\n",
       "</table>\n",
       "</div>"
      ],
      "text/plain": [
       "                                                  j Polarity  Coverage  \\\n",
       "name_short_outside_half_percentile_sentence_wise  0   [0, 1]  1.000000   \n",
       "name_full_in_top_percentile_sentence_wise         1      [0]  0.140781   \n",
       "word_count                                        2      [0]  0.055682   \n",
       "small_letter_count                                3      [0]  0.030468   \n",
       "check_all_uppercase_letters                       4      [0]  0.125897   \n",
       "check_uppercase_letters                           5      [0]  0.125897   \n",
       "check_horizont_abr_short                          6      [0]  1.000000   \n",
       "check_uppercase_letters_short_in_long             7      [0]  0.409560   \n",
       "check_long_name_not_upper                         8      [0]  0.873577   \n",
       "check_all_abbr_letters_in_long                    9      [0]  0.996323   \n",
       "\n",
       "                                                  Overlaps  Conflicts  \\\n",
       "name_short_outside_half_percentile_sentence_wise  1.000000   0.094554   \n",
       "name_full_in_top_percentile_sentence_wise         0.140781   0.094554   \n",
       "word_count                                        0.055682   0.000700   \n",
       "small_letter_count                                0.030468   0.001926   \n",
       "check_all_uppercase_letters                       0.125897   0.080721   \n",
       "check_uppercase_letters                           0.125897   0.080721   \n",
       "check_horizont_abr_short                          1.000000   0.094554   \n",
       "check_uppercase_letters_short_in_long             0.409560   0.059884   \n",
       "check_long_name_not_upper                         0.873577   0.089126   \n",
       "check_all_abbr_letters_in_long                    0.996323   0.094554   \n",
       "\n",
       "                                                  Correct  Incorrect  \\\n",
       "name_short_outside_half_percentile_sentence_wise     5258        453   \n",
       "name_full_in_top_percentile_sentence_wise             717         87   \n",
       "word_count                                            318          0   \n",
       "small_letter_count                                    174          0   \n",
       "check_all_uppercase_letters                           632         87   \n",
       "check_uppercase_letters                               632         87   \n",
       "check_horizont_abr_short                             5624         87   \n",
       "check_uppercase_letters_short_in_long                2274         65   \n",
       "check_long_name_not_upper                            4902         87   \n",
       "check_all_abbr_letters_in_long                       5603         87   \n",
       "\n",
       "                                                  Emp. Acc.  \n",
       "name_short_outside_half_percentile_sentence_wise   0.920679  \n",
       "name_full_in_top_percentile_sentence_wise          0.891791  \n",
       "word_count                                         1.000000  \n",
       "small_letter_count                                 1.000000  \n",
       "check_all_uppercase_letters                        0.878999  \n",
       "check_uppercase_letters                            0.878999  \n",
       "check_horizont_abr_short                           0.984766  \n",
       "check_uppercase_letters_short_in_long              0.972210  \n",
       "check_long_name_not_upper                          0.982562  \n",
       "check_all_abbr_letters_in_long                     0.984710  "
      ]
     },
     "execution_count": 18,
     "metadata": {},
     "output_type": "execute_result"
    }
   ],
   "source": [
    "LFAnalysis(L=L_dev_NFA, lfs=short_long_lfs).lf_summary(Y=L_gold_dev_NFA)"
   ]
  },
  {
   "cell_type": "code",
   "execution_count": 20,
   "metadata": {},
   "outputs": [
    {
     "data": {
      "text/html": [
       "<div>\n",
       "<style scoped>\n",
       "    .dataframe tbody tr th:only-of-type {\n",
       "        vertical-align: middle;\n",
       "    }\n",
       "\n",
       "    .dataframe tbody tr th {\n",
       "        vertical-align: top;\n",
       "    }\n",
       "\n",
       "    .dataframe thead th {\n",
       "        text-align: right;\n",
       "    }\n",
       "</style>\n",
       "<table border=\"1\" class=\"dataframe\">\n",
       "  <thead>\n",
       "    <tr style=\"text-align: right;\">\n",
       "      <th></th>\n",
       "      <th>j</th>\n",
       "      <th>Polarity</th>\n",
       "      <th>Coverage</th>\n",
       "      <th>Overlaps</th>\n",
       "      <th>Conflicts</th>\n",
       "      <th>Correct</th>\n",
       "      <th>Incorrect</th>\n",
       "      <th>Emp. Acc.</th>\n",
       "    </tr>\n",
       "  </thead>\n",
       "  <tbody>\n",
       "    <tr>\n",
       "      <th>lf_length_more_than_three_words</th>\n",
       "      <td>0</td>\n",
       "      <td>[0]</td>\n",
       "      <td>0.406737</td>\n",
       "      <td>0.406737</td>\n",
       "      <td>0.006519</td>\n",
       "      <td>1123</td>\n",
       "      <td>0</td>\n",
       "      <td>1.000000</td>\n",
       "    </tr>\n",
       "    <tr>\n",
       "      <th>lf_name_short_in_first_words</th>\n",
       "      <td>1</td>\n",
       "      <td>[1]</td>\n",
       "      <td>0.014125</td>\n",
       "      <td>0.014125</td>\n",
       "      <td>0.014125</td>\n",
       "      <td>12</td>\n",
       "      <td>27</td>\n",
       "      <td>0.307692</td>\n",
       "    </tr>\n",
       "    <tr>\n",
       "      <th>is_medical_abbreviation</th>\n",
       "      <td>2</td>\n",
       "      <td>[0]</td>\n",
       "      <td>1.000000</td>\n",
       "      <td>0.789569</td>\n",
       "      <td>0.323434</td>\n",
       "      <td>2679</td>\n",
       "      <td>82</td>\n",
       "      <td>0.970301</td>\n",
       "    </tr>\n",
       "    <tr>\n",
       "      <th>sentence_beginning</th>\n",
       "      <td>3</td>\n",
       "      <td>[0]</td>\n",
       "      <td>0.234335</td>\n",
       "      <td>0.234335</td>\n",
       "      <td>0.197030</td>\n",
       "      <td>647</td>\n",
       "      <td>0</td>\n",
       "      <td>1.000000</td>\n",
       "    </tr>\n",
       "    <tr>\n",
       "      <th>common_verbs_following_abbr</th>\n",
       "      <td>4</td>\n",
       "      <td>[1]</td>\n",
       "      <td>0.189062</td>\n",
       "      <td>0.189062</td>\n",
       "      <td>0.189062</td>\n",
       "      <td>16</td>\n",
       "      <td>506</td>\n",
       "      <td>0.030651</td>\n",
       "    </tr>\n",
       "    <tr>\n",
       "      <th>verbs_ending_with_past</th>\n",
       "      <td>5</td>\n",
       "      <td>[1]</td>\n",
       "      <td>0.255704</td>\n",
       "      <td>0.255704</td>\n",
       "      <td>0.255704</td>\n",
       "      <td>26</td>\n",
       "      <td>680</td>\n",
       "      <td>0.036827</td>\n",
       "    </tr>\n",
       "    <tr>\n",
       "      <th>word_before_abbr</th>\n",
       "      <td>6</td>\n",
       "      <td>[1]</td>\n",
       "      <td>0.028975</td>\n",
       "      <td>0.028975</td>\n",
       "      <td>0.028975</td>\n",
       "      <td>23</td>\n",
       "      <td>57</td>\n",
       "      <td>0.287500</td>\n",
       "    </tr>\n",
       "    <tr>\n",
       "      <th>abbr_is_complete</th>\n",
       "      <td>7</td>\n",
       "      <td>[0]</td>\n",
       "      <td>0.065556</td>\n",
       "      <td>0.065556</td>\n",
       "      <td>0.000000</td>\n",
       "      <td>181</td>\n",
       "      <td>0</td>\n",
       "      <td>1.000000</td>\n",
       "    </tr>\n",
       "  </tbody>\n",
       "</table>\n",
       "</div>"
      ],
      "text/plain": [
       "                                 j Polarity  Coverage  Overlaps  Conflicts  \\\n",
       "lf_length_more_than_three_words  0      [0]  0.406737  0.406737   0.006519   \n",
       "lf_name_short_in_first_words     1      [1]  0.014125  0.014125   0.014125   \n",
       "is_medical_abbreviation          2      [0]  1.000000  0.789569   0.323434   \n",
       "sentence_beginning               3      [0]  0.234335  0.234335   0.197030   \n",
       "common_verbs_following_abbr      4      [1]  0.189062  0.189062   0.189062   \n",
       "verbs_ending_with_past           5      [1]  0.255704  0.255704   0.255704   \n",
       "word_before_abbr                 6      [1]  0.028975  0.028975   0.028975   \n",
       "abbr_is_complete                 7      [0]  0.065556  0.065556   0.000000   \n",
       "\n",
       "                                 Correct  Incorrect  Emp. Acc.  \n",
       "lf_length_more_than_three_words     1123          0   1.000000  \n",
       "lf_name_short_in_first_words          12         27   0.307692  \n",
       "is_medical_abbreviation             2679         82   0.970301  \n",
       "sentence_beginning                   647          0   1.000000  \n",
       "common_verbs_following_abbr           16        506   0.030651  \n",
       "verbs_ending_with_past                26        680   0.036827  \n",
       "word_before_abbr                      23         57   0.287500  \n",
       "abbr_is_complete                     181          0   1.000000  "
      ]
     },
     "execution_count": 20,
     "metadata": {},
     "output_type": "execute_result"
    }
   ],
   "source": [
    "LFAnalysis(L=L_dev_NAT, lfs=name_abbr_task_lfs).lf_summary(Y=L_gold_dev_NAT)"
   ]
  },
  {
   "attachments": {},
   "cell_type": "markdown",
   "metadata": {},
   "source": [
    "## Discriminative Model"
   ]
  },
  {
   "cell_type": "code",
   "execution_count": 21,
   "metadata": {},
   "outputs": [],
   "source": [
    "# calculate the diff between true and false prediction probability of each candidate\n",
    "# the bigger the difference the more certain the model is\n",
    "# Example True = 0.4 False = 0.6\n",
    "# diff = 0.6 - 0.4 = 0.2 --> model is very unsure \n",
    "diffs_NAT = train_marginals_NAT.max(axis=1) - train_marginals_NAT.min(axis=1)\n",
    "diffs_NFA = train_marginals_NFA.max(axis=1) - train_marginals_NFA.min(axis=1)\n",
    "\n",
    "# filter out all candidates where labelmodel is very unsure\n",
    "# unsure is a diff of smaller then 0.000001\n",
    "train_idxs_NAT = np.where(diffs_NAT > 0.2)[0].astype(np.int64)\n",
    "train_idxs_NFA = np.where(diffs_NFA > 0.2)[0].astype(np.int64)\n",
    "\n",
    "filtered_NAT = train_marginals_NAT[train_idxs_NAT, 1]\n",
    "filtered_NFA = train_marginals_NFA[train_idxs_NFA, 1]\n",
    "\n",
    "# Cast continous values to binary for logistic regression model\n",
    "y_NAT = np.where(filtered_NAT > 0.5, 1, 0)\n",
    "y_NFA = np.where(filtered_NFA > 0.5, 1, 0)"
   ]
  },
  {
   "attachments": {},
   "cell_type": "markdown",
   "metadata": {},
   "source": [
    "Get feature matrix and filter with previous filter"
   ]
  },
  {
   "cell_type": "code",
   "execution_count": 22,
   "metadata": {},
   "outputs": [],
   "source": [
    "featurizer = Featurizer(session, candidates)"
   ]
  },
  {
   "cell_type": "code",
   "execution_count": 23,
   "metadata": {},
   "outputs": [],
   "source": [
    "F_train_NFA, F_train_NAT = featurizer.get_feature_matrices(train_cands)\n",
    "X_NFA = F_train_NFA #[train_idxs_NFA, :]\n",
    "X_NAT = F_train_NAT # [train_idxs_NAT, :]\n"
   ]
  },
  {
   "attachments": {},
   "cell_type": "markdown",
   "metadata": {},
   "source": [
    "train logistic regression model"
   ]
  },
  {
   "cell_type": "code",
   "execution_count": 31,
   "metadata": {},
   "outputs": [],
   "source": [
    "from sklearn.linear_model import LogisticRegression, BayesianRidge\n",
    "\n",
    "y_NFA = np.where(train_marginals_NFA[:, 1] > 0.5, 1, 0)\n",
    "clf_NFA = LogisticRegression(max_iter=200).fit(F_train_NFA[labels_to_use_NFA], y_NFA)\n",
    "\n",
    "y_NAT = np.where(train_marginals_NAT[:, 1] > 0.5, 1, 0)\n",
    "clf_NAT = LogisticRegression(max_iter=200).fit(F_train_NAT[labels_to_use_NAT], y_NAT)"
   ]
  },
  {
   "cell_type": "code",
   "execution_count": 34,
   "metadata": {},
   "outputs": [],
   "source": [
    "test_cands = load_candidates(session, 2, candidates)\n",
    "F_test_NFA, F_test_NAT = featurizer.get_feature_matrices(test_cands)\n"
   ]
  },
  {
   "cell_type": "code",
   "execution_count": 26,
   "metadata": {},
   "outputs": [],
   "source": [
    "L_gold_test_NFA, L_gold_test_NAT = labeler.get_gold_labels(test_cands)"
   ]
  },
  {
   "cell_type": "code",
   "execution_count": 38,
   "metadata": {},
   "outputs": [],
   "source": [
    "labels_to_use_test_NFA = sample(list(np.where(L_gold_test_NFA == 0)[0]), int(sum(L_gold_test_NFA) * 10))\n",
    "labels_to_use_test_NFA.extend(np.where(L_gold_test_NFA == 1)[0])\n",
    "labels_to_use_test_NFA.sort()\n",
    "\n",
    "labels_to_use_test_NAT = sample(list(np.where(L_gold_test_NAT == 0)[0]), int(sum(L_gold_test_NAT) * 2))\n",
    "labels_to_use_test_NAT.extend(np.where(L_gold_test_NAT == 1)[0])\n",
    "labels_to_use_test_NAT.sort()"
   ]
  },
  {
   "cell_type": "code",
   "execution_count": 66,
   "metadata": {},
   "outputs": [],
   "source": [
    "preds_NFA = clf_NFA.predict(F_test_NFA[labels_to_use_test_NFA])\n",
    "preds_NAT = clf_NAT.predict(F_test_NAT[labels_to_use_test_NAT])"
   ]
  },
  {
   "cell_type": "code",
   "execution_count": 67,
   "metadata": {},
   "outputs": [],
   "source": [
    "from sklearn.metrics import f1_score"
   ]
  },
  {
   "cell_type": "code",
   "execution_count": 69,
   "metadata": {},
   "outputs": [
    {
     "data": {
      "text/plain": [
       "0.7208121827411167"
      ]
     },
     "execution_count": 69,
     "metadata": {},
     "output_type": "execute_result"
    }
   ],
   "source": [
    "f1_score(y_true=L_gold_test_NFA.reshape(-1)[labels_to_use_test_NFA], y_pred=preds_NFA)"
   ]
  },
  {
   "cell_type": "code",
   "execution_count": 70,
   "metadata": {},
   "outputs": [
    {
     "data": {
      "text/plain": [
       "0.5365853658536586"
      ]
     },
     "execution_count": 70,
     "metadata": {},
     "output_type": "execute_result"
    }
   ],
   "source": [
    "f1_score(y_true=L_gold_test_NAT.reshape(-1)[labels_to_use_test_NAT], y_pred=preds_NAT)"
   ]
  },
  {
   "cell_type": "code",
   "execution_count": null,
   "metadata": {},
   "outputs": [],
   "source": []
  }
 ],
 "metadata": {
  "kernelspec": {
   "display_name": ".venv",
   "language": "python",
   "name": "python3"
  },
  "language_info": {
   "codemirror_mode": {
    "name": "ipython",
    "version": 3
   },
   "file_extension": ".py",
   "mimetype": "text/x-python",
   "name": "python",
   "nbconvert_exporter": "python",
   "pygments_lexer": "ipython3",
   "version": "3.8.16"
  },
  "orig_nbformat": 4,
  "vscode": {
   "interpreter": {
    "hash": "949777d72b0d2535278d3dc13498b2535136f6dfe0678499012e853ee9abcab1"
   }
  }
 },
 "nbformat": 4,
 "nbformat_minor": 2
}
