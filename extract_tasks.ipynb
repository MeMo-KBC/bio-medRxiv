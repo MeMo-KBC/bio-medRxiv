{
 "cells": [
  {
   "cell_type": "code",
   "execution_count": 1,
   "metadata": {},
   "outputs": [],
   "source": [
    "import json\n",
    "\n",
    "export = json.load(open(\"data/project-5-at-2023-05-31-10-30-ed26f4c3.json\"))"
   ]
  },
  {
   "cell_type": "code",
   "execution_count": 4,
   "metadata": {},
   "outputs": [],
   "source": [
    "tasks_list = []\n",
    "\n",
    "for document in export:\n",
    "    data = document[\"data\"]\n",
    "    tasks = []\n",
    "\n",
    "    for task in document[\"annotations\"][0][\"result\"]:\n",
    "        if \"value\" not in match.keys():\n",
    "            continue\n",
    "        if any(\"Task\" == label for label in task[\"value\"][\"hypertextlabels\"]):\n",
    "            try:\n",
    "                activity = task[\"value\"][\"text\"]\n",
    "                tasks.append(activity)\n",
    "            except:\n",
    "                # print(match)\n",
    "                continue\n",
    "        else:\n",
    "            continue\n",
    "    tasks_list.append(tasks)\n",
    "\n"
   ]
  },
  {
   "cell_type": "code",
   "execution_count": 5,
   "metadata": {},
   "outputs": [
    {
     "name": "stdout",
     "output_type": "stream",
     "text": [
      "[['Conceptualization', 'Formal analysis', 'Investigation', 'Methods development', 'Resources', 'Data and sample curation', 'Writing, original draft', 'Writing, review, and editing', 'Visualization', 'Supervision', 'Funding Acquisition'], ['designed the study', 'analyzed the data', 'implemented the software code', 'wrote the manuscript', 'interpreted the results'], ['conceived the project', 'oversaw data collection', 'provided TVB data', 'organized the data', 'converted to BIDS', 'conducted the analyses', 'generated the figures', 'annotated the data', 'marked clips of data to be used', 'provided input on the data and experimental design', 'localized electrode coordinates', 'performed co-registration to obtain brain figures', 'helped run HFO experiments', 'wrote the paper', 'with input from', 'guidance on TVB simulations'], ['Conceptualisation and funding acquisition', 'Project supervision and methodology', 'Recruitment supervision', 'data collection', 'data analysis', 'data visualisation', 'verified the identifiable participant data', 'verified linked non-identifiable microbiological and genomic data'], ['designed the study', 'performed all analyses', 'interpreted the results', 'wrote the manuscript', 'assisted in the design and interpretation of the study', 'provided critical input in writing the manuscript', 'obtained grant support for this work', 'designed the study', 'interpreted the results', 'helped write the manuscript'], ['were responsible for the study conception and design', 'was responsible for the design of the database searches', 'carried out the searches', 'contributed to data extraction, coding, and evaluation of included studies', 'were responsible for study coordination', 'were involved in data analysis', 'contributed to interpretation of results as knowledge translation partners', 'drafted the manuscript', 'provided a critical review and approved the final manuscript', 'guarantor'], ['Data analysis', 'Data', 'Group authorship', 'Writing'], ['Conceptualization', 'methodology', 'Software', 'Formal analysis', 'Original draft preparation', 'Writing', 'Review & editing'], ['data curation', 'conceptualization', 'formal analysis', 'investigation', 'methodology', 'software', 'validation', 'visualization', 'writing', 'data curation', 'critical review', 'data curation', 'adaptive immune receptor recombination read extractions from the Moffitt TCC cohort RNAseq files', 'statistical analysis', 'validation', 'critical review', 'logistic support', 'data curation', 'statistical analysis', 'critical review', 'logistic support', 'data curation', 'statistical analysis', 'critical review', 'investigation', 'critical review', 'logistic support', 'data curation', 'logistic support', 'data curation', 'critical review', 'data curation', 'adaptive immune receptor recombination read extractions from the Moffitt TCC cohort RNAseq files', 'data curation', 'adaptive immune receptor recombination read extractions from the Moffitt TCC cohort RNAseq files', 'logistic support', 'data curation', 'adaptive immune receptor recombination read extractions from the Moffitt TCC cohort RNAseq files', 'critical review', 'study supervision', 'conceptualization', 'investigation', 'methodology', 'validation', 'critical review', 'writing', 'study supervision', 'conceptualization', 'investigation', 'methodology', 'software', 'validation', 'critical review', 'writing', 'study supervision'], ['conceived the study', 'analyzed the data', 'contributions from', 'contributed with conceptual input on methods and/or interpretation of results', 'wrote the first draft of the paper', 'contributed to the final manuscript'], ['Experimental design', 'Case and control recruitment and characterization', 'Biostatistical analysis', 'Bioinformatics analysis', 'Data interpretation', 'functional analysis', 'Writing and review of manuscript before submission for publication'], ['created, extracted and organised the imaging and clinical data', 'carried out the imaging analyses', 'co-supervised the statistical analyses', 'contributed to the creation of the UK Biobank COVID-19 re-imaging project', 'conceived the brain imaging study', 'interpreted the results', 'wrote the paper', 'revised the paper'], ['designed the study', 'curated data', 'performed computational analyses', 'developed and implemented software', 'acquired computing resources', 'drafted the manuscript', 'contributed to the final version of the paper'], ['designed research', 'conducted simulations, calibration, analysis, figure generation', 'wrote the first draft of the paper', 'developed Covasim', 'provided feedback and resources to perform calibration and analysis', 'provided data and data administration resources', 'acquired funding', 'interpreted results', 'reviewed and edited the final version of the paper'], ['Conceptualization', 'Data collection', 'Formal Analysis', 'Investigation', 'Methodology', 'Project Administration', 'Supervision', 'Writing – Original Draft', 'Writing – Review & Editing'], ['Conceptualization', 'Data curation', 'Formal analysis', 'Investigation', 'Methodology', 'Software', 'Supervision', 'Validation', 'Visualization', 'Writing-original draft', 'Writing-review & editing'], ['Conceptualization', 'Methodology', 'Validation', 'Investigation', 'Data curation', 'Software', 'Formal analysis', 'Visualization', 'Writing-Original draft preparation', 'Writing-Reviewing and Editing', 'Supervision', 'Project administration', 'Methodology', 'Formal analysis', 'Visualization', 'Validation', 'Writing-Reviewing and Editing', 'Resources', 'Investigation', 'Validation', 'Writing-Reviewing and Editing', 'Resources', 'Writing-Reviewing and Editing', 'Project administration', 'Resources', 'Writing-Reviewing and Editing'], ['built the decision-analytical model', 'analyzed data', 'wrote and edited the manuscript'], ['designed and wrote the manuscript', 'contributed to data analysis and interpretation', 'contributed by revising the manuscript and overall editing', 'contributed by supervision'], ['conceived and designed jointly', 'implemented the methods in code', 'performed all data analysis', 'participated in writing the manuscript', ' approved the final manuscript prior to submission'], ['developed and verified the epidemiological model', 'developed the parameter identification method', 'examined calculation results in an alternative solution algorithm', 'have read and agreed to the published version of the manuscript'], ['designed the project', 'contributed code and methods', 'designed the R package structure', 'wrote the first draft of this manuscript', 'contributed to manuscript revisions'], ['designed the study', 'planned the study procedure', 'conducted the clinical trials', 'performed the laboratory analysis', 'established equivalence with ELISA', 'analyzed the data', 'analyzed user hormone trends', 'wrote the manuscript', 'were involved in editing the manuscript'], ['contributed to the study design', 'were responsible for patient selection and data collection', 'contributed to data extraction and pre-processing', 'were responsible for experiments and data analysis', 'created the figures', 'contributed to the analysis', 'contributed to the data interpretation and to the writing', 'were the senior supervisors of the project'], ['conceived the VAP-SIRS model', 'input and feedback on the model and results', 'performed the stability analysis', 'implemented model simulations and the Shiny application for visualizations', 'implemented the stability analysis', 'performed literature search', 'supervised the study', 'wrote and provided critical feedback to the manuscript'], ['Conceptualization', 'Methodology', 'Software', 'Formal analysis', 'Data curation', 'Writing – Original draft', 'Writing – Review & Editing', 'Visualization', 'Data curation', 'Writing – Review & Editing', 'Supervision', 'Funding acquisition'], ['designed & performed NPC experiments', 'wrote the first draft', 'prepared figures', 'read and approved the final manuscript', 'Performed q-PCR', 'Performed NPC quantitative movement data analysis', 'MRI data analysis', 'Transcriptome data analysis', 'Helped with the migration experiments', 'Standardised the primers', 'Performed clinical assessments', 'Helped with the migration experiments', 'Supervision of cellular experiments', 'read and approved the final manuscript', 'Supervision of experiments', 'read and approved the final manuscript', 'Supervision of cellular experiments', 'editing drafts', 'read and approved the final manuscript', 'supervised clinical assessments and cellular experiments', 'read and approved the final manuscript', 'contributed to and have approved the final manuscript'], ['conceived and designed the study', 'analysed the data', ' wrote the first draft', 'provided critical revisions', 'read and approved the submitted manuscript'], ['Conceptualization', 'Methodology', 'Data Curation', 'Formal Analysis', 'Investigation', 'Writing – Original Draft', 'Writing – Review/Edit', 'Funding Acquisition', 'Resources', 'Supervision'], ['Conceptualization', 'Preparation of genomic data', 'Recombination Analysis', 'Haplotype Reconstruction', 'writing - original draft preparation', 'writing - review and editing: all authors'], ['Conceptualization', 'Methodology', 'Data curation', 'Formal analysis', 'Supervision', 'Writing - original draft', 'Writing - review & editing', 'Visualization', 'Writing - original draft', 'Writing - review & editing', 'Investigation', 'Data curation', 'Writing - original draft', 'Conceptualization', 'Methodology', 'Resources', 'Funding acquisition', 'Supervision', 'Writing - review & editing', 'Conceptualization', 'Methodology', 'Resources', 'Funding acquisition', 'Investigation', 'Project administration', 'Supervision', 'Writing - original draft', 'Writing - review & editing'], ['analysed and interpreted the data', 'was primarily responsible for the drafting of the manuscript', 'contributed to the topic', 'statistical analysis', 'interpretation of the findings', 'revised the manuscript', 'launched the study', 'reviewed, critically appraised and approved the final manuscript']]\n"
     ]
    }
   ],
   "source": [
    "print(tasks_list)"
   ]
  }
 ],
 "metadata": {
  "kernelspec": {
   "display_name": "Python 3",
   "language": "python",
   "name": "python3"
  },
  "language_info": {
   "codemirror_mode": {
    "name": "ipython",
    "version": 3
   },
   "file_extension": ".py",
   "mimetype": "text/x-python",
   "name": "python",
   "nbconvert_exporter": "python",
   "pygments_lexer": "ipython3",
   "version": "3.10.6"
  },
  "orig_nbformat": 4
 },
 "nbformat": 4,
 "nbformat_minor": 2
}
