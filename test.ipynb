{
 "cells": [
  {
   "attachments": {},
   "cell_type": "markdown",
   "metadata": {},
   "source": [
    "### Notebook to test setup\n",
    "\n",
    "You can use this notebook to test commands and so forth. This notebook will not be pushed.\n",
    "If it appears in git status just run `git update-index --assume-unchanged test.ipynb`."
   ]
  },
  {
   "cell_type": "code",
   "execution_count": null,
   "metadata": {},
   "outputs": [],
   "source": [
    "%load_ext autoreload\n",
    "%autoreload 2\n",
    "%matplotlib inline\n",
    "import os\n",
    "import sys\n",
    "import logging\n",
    "from pprint import pprint\n",
    "\n",
    "from fonduer import Meta, init_logging\n",
    "\n",
    "\n",
    "PARALLEL = 4 # assuming a quad-core machine\n",
    "ATTRIBUTE = \"\" # name of your db\n",
    "conn_string = f'postgresql://postgres@fonduer-postgres-dev:5432/{ATTRIBUTE}'\n",
    "\n",
    "# Configure logging for Fonduer\n",
    "init_logging(log_dir=\"logs\")\n"
   ]
  },
  {
   "cell_type": "code",
   "execution_count": null,
   "metadata": {},
   "outputs": [],
   "source": [
    "# imports\n",
    "from fonduer.meta import Meta\n",
    "from fonduer.parser.preprocessors import HTMLDocPreprocessor\n",
    "from fonduer.parser import Parser\n",
    "\n",
    "from parser_function import extract_html_files\n",
    "\n",
    "# path strings // path strings may need to be changed depending on the rxiv_publications-folder location\n",
    "dir_to_extract = \"./data\"\n",
    "dir_of_files_bio = \"./rxiv_publications/bio\"\n",
    "dir_of_files_med = \"./rxiv_publications/med\"\n",
    "\n",
    "\n",
    "def main():\n",
    "    session = Meta.init(conn_string).Session()\n",
    "    extract_html_files(dir_to_extract, dir_of_files_bio, dir_of_files_med)\n",
    "\n",
    "    docs_path = dir_to_extract\n",
    "    doc_preprocessor = HTMLDocPreprocessor(docs_path)\n",
    "    corpus_parser = Parser(session, structural=True, lingual=True)\n",
    "    corpus_parser.apply(doc_preprocessor, parallelism=PARALLEL)\n",
    "\n",
    "\n",
    "if __name__ == '__main__':\n",
    "    main()"
   ]
  }
 ],
 "metadata": {
  "kernelspec": {
   "display_name": "Python 3",
   "language": "python",
   "name": "python3"
  },
  "language_info": {
   "codemirror_mode": {
    "name": "ipython",
    "version": 3
   },
   "file_extension": ".py",
   "mimetype": "text/x-python",
   "name": "python",
   "nbconvert_exporter": "python",
   "pygments_lexer": "ipython3",
   "version": "3.7.16"
  },
  "orig_nbformat": 4
 },
 "nbformat": 4,
 "nbformat_minor": 2
}
