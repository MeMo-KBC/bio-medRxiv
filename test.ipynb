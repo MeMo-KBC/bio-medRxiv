{
 "cells": [
  {
   "cell_type": "code",
   "execution_count": 3,
   "metadata": {},
   "outputs": [
    {
     "name": "stderr",
     "output_type": "stream",
     "text": [
      "UsageError: Line magic function `%createdb` not found.\n"
     ]
    }
   ],
   "source": [
    "%createdb -h fonduer-postgres-dev -U postgres jkracht\n",
    "#%dropdb -h fonduer-postgres-dev -U postgres jkracht"
   ]
  },
  {
   "cell_type": "code",
   "execution_count": 3,
   "metadata": {},
   "outputs": [
    {
     "name": "stderr",
     "output_type": "stream",
     "text": [
      "[2023-05-15 22:43:53,969][INFO] fonduer.meta:53 - Logging was already initialized to use logs/2023-05-15_22-42-19.  To configure logging manually, call fonduer.init_logging before initialiting Meta.\n",
      "[2023-05-15 22:43:53,994][INFO] fonduer.meta:135 - Connecting user:postgres to fonduer-postgres-dev:5432/jkracht\n"
     ]
    },
    {
     "name": "stdout",
     "output_type": "stream",
     "text": [
      "The autoreload extension is already loaded. To reload it, use:\n",
      "  %reload_ext autoreload\n"
     ]
    },
    {
     "name": "stderr",
     "output_type": "stream",
     "text": [
      "[2023-05-15 22:43:54,448][INFO] fonduer.meta:162 - Initializing the storage schema\n"
     ]
    }
   ],
   "source": [
    "%load_ext autoreload\n",
    "%autoreload 2\n",
    "%matplotlib inline\n",
    "import os\n",
    "import sys\n",
    "import subprocess\n",
    "import logging\n",
    "from pprint import pprint\n",
    "\n",
    "subprocess.check_call([sys.executable, '-m', 'pip', 'install', 'nltk'])\n",
    "\n",
    "from nltk.corpus import wordnet as wn\n",
    "import nltk\n",
    "nltk.download('wordnet')\n",
    "\n",
    "from fonduer.candidates.matchers import LambdaFunctionMatcher, Union, Intersect, RegexMatchSpan\n",
    "\n",
    "from fonduer import Meta, init_logging\n",
    "from fonduer.parser.preprocessors import HTMLDocPreprocessor\n",
    "from fonduer.parser import Parser\n",
    "from fonduer.parser.models import Document, Sentence\n",
    "\n",
    "PARALLEL = 4\n",
    "ATTRIBUTE = \"jkracht\"\n",
    "conn_string = f'postgresql://postgres@fonduer-postgres-dev:5432/{ATTRIBUTE}'\n",
    "\n",
    "init_logging(log_dir=\"logs\")\n",
    "\n",
    "session = Meta.init(conn_string).Session()\n",
    "\n",
    "# Document parser\n",
    "docs_path = \"data/test_collection/\"\n",
    "doc_preprocessor = HTMLDocPreprocessor(docs_path)\n",
    "\n",
    "\n",
    "print(f\"Documents: {session.query(Document).count()}\")\n",
    "print(f\"Sentences: {session.query(Sentence).count()}\")"
   ]
  },
  {
   "cell_type": "code",
   "execution_count": null,
   "metadata": {},
   "outputs": [],
   "source": [
    "for i in session.query(Document).all():\n",
    "    print(i.title)"
   ]
  },
  {
   "cell_type": "code",
   "execution_count": 9,
   "metadata": {},
   "outputs": [],
   "source": [
    "# mention\n",
    "from fonduer.candidates.models import mention_subclass\n",
    "from fonduer.candidates import MentionExtractor\n",
    "from fonduer.candidates import MentionNgrams\n",
    "from fonduer.candidates.mentions import MentionSentences\n",
    "\n",
    "Task = mention_subclass(\"Task\")\n",
    "\n",
    "def mention_span_in_acknowledments_matches_verb(mention):\n",
    "    # read in span/word\n",
    "    span_string = mention.get_span() \n",
    "\n",
    "    # Task(SpanMention(\"RefWorks Tagged\", sentence=61332, chars=[0,14], words=[0,1]))\n",
    "    \n",
    "    for word in span_string.split(): # mention.get_span()[0]\n",
    "        #print(word)\n",
    "        try:\n",
    "            if wn.synsets(word)[0].pos() == \"v\":\n",
    "                #print(word)\n",
    "                return True\n",
    "        except:\n",
    "            pass\n",
    "    return False\n",
    "\n",
    "\n",
    "    # mention space???\n",
    "    \n",
    "\n",
    "matcher_task = LambdaFunctionMatcher(func = mention_span_in_acknowledments_matches_verb)\n",
    "\n",
    "task_sentences = MentionSentences() ## hier muss noch die Mention-Space eingetragen werden\n",
    "docs = session.query(Document).all()\n",
    "\n",
    "mention_extractor = MentionExtractor(\n",
    "    session,\n",
    "    [Task],\n",
    "    [task_sentences],\n",
    "    [matcher_task],\n",
    "    parallelism=PARALLEL,\n",
    ")\n",
    "\n",
    "mention_extractor.apply(docs, parallelism=PARALLEL, clear=True)\n",
    "print(\n",
    "    f\"Number of Tasks: {session.query(Task).count()}\",\n",
    ")\n"
   ]
  }
 ],
 "metadata": {
  "kernelspec": {
   "display_name": "Python 3",
   "language": "python",
   "name": "python3"
  },
  "language_info": {
   "codemirror_mode": {
    "name": "ipython",
    "version": 3
   },
   "file_extension": ".py",
   "mimetype": "text/x-python",
   "name": "python",
   "nbconvert_exporter": "python",
   "pygments_lexer": "ipython3",
   "version": "3.7.16"
  },
  "orig_nbformat": 4
 },
 "nbformat": 4,
 "nbformat_minor": 2
}
