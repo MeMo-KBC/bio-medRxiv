{
 "cells": [
  {
   "attachments": {},
   "cell_type": "markdown",
   "id": "58e374ae",
   "metadata": {},
   "source": [
    "# Classyfing the contributions\n",
    "\n",
    "Based on the assumption, that certain keywords are linked to specific classes of contribution, this notebook aimes to use Machine Learning to assign a contribution class to the description of the contribution which can be found within the documents and in the future should be extracted with the help of Fonduer.\n",
    "\n",
    "The following dataset was created manually by the Labelteam and transformed by Thorben for the purpose of ML. Every contribution is linked to a class_label."
   ]
  },
  {
   "cell_type": "code",
   "execution_count": 3,
   "id": "e420bc12",
   "metadata": {
    "scrolled": true
   },
   "outputs": [
    {
     "data": {
      "text/html": [
       "<div>\n",
       "<style scoped>\n",
       "    .dataframe tbody tr th:only-of-type {\n",
       "        vertical-align: middle;\n",
       "    }\n",
       "\n",
       "    .dataframe tbody tr th {\n",
       "        vertical-align: top;\n",
       "    }\n",
       "\n",
       "    .dataframe thead th {\n",
       "        text-align: right;\n",
       "    }\n",
       "</style>\n",
       "<table border=\"1\" class=\"dataframe\">\n",
       "  <thead>\n",
       "    <tr style=\"text-align: right;\">\n",
       "      <th></th>\n",
       "      <th>contribution</th>\n",
       "      <th>class_label</th>\n",
       "    </tr>\n",
       "  </thead>\n",
       "  <tbody>\n",
       "    <tr>\n",
       "      <th>0</th>\n",
       "      <td>analysed data</td>\n",
       "      <td>Formal analysis</td>\n",
       "    </tr>\n",
       "    <tr>\n",
       "      <th>1</th>\n",
       "      <td>analysed experiments</td>\n",
       "      <td>Formal analysis</td>\n",
       "    </tr>\n",
       "    <tr>\n",
       "      <th>2</th>\n",
       "      <td>analysed the data collection</td>\n",
       "      <td>Formal analysis</td>\n",
       "    </tr>\n",
       "    <tr>\n",
       "      <th>3</th>\n",
       "      <td>analysed transcriptomic</td>\n",
       "      <td>Formal analysis</td>\n",
       "    </tr>\n",
       "    <tr>\n",
       "      <th>4</th>\n",
       "      <td>analyzed data</td>\n",
       "      <td>Formal analysis</td>\n",
       "    </tr>\n",
       "    <tr>\n",
       "      <th>...</th>\n",
       "      <td>...</td>\n",
       "      <td>...</td>\n",
       "    </tr>\n",
       "    <tr>\n",
       "      <th>194</th>\n",
       "      <td>wrote manuscript draft</td>\n",
       "      <td>Writing - original draft</td>\n",
       "    </tr>\n",
       "    <tr>\n",
       "      <th>195</th>\n",
       "      <td>wrote paper</td>\n",
       "      <td>Writing - original draft</td>\n",
       "    </tr>\n",
       "    <tr>\n",
       "      <th>196</th>\n",
       "      <td>wrote programm</td>\n",
       "      <td>Software</td>\n",
       "    </tr>\n",
       "    <tr>\n",
       "      <th>197</th>\n",
       "      <td>wrote R package for data fittting</td>\n",
       "      <td>Software</td>\n",
       "    </tr>\n",
       "    <tr>\n",
       "      <th>198</th>\n",
       "      <td>wrote software</td>\n",
       "      <td>Software</td>\n",
       "    </tr>\n",
       "  </tbody>\n",
       "</table>\n",
       "<p>199 rows × 2 columns</p>\n",
       "</div>"
      ],
      "text/plain": [
       "                          contribution               class_label\n",
       "0                        analysed data           Formal analysis\n",
       "1                 analysed experiments           Formal analysis\n",
       "2         analysed the data collection           Formal analysis\n",
       "3              analysed transcriptomic           Formal analysis\n",
       "4                        analyzed data           Formal analysis\n",
       "..                                 ...                       ...\n",
       "194             wrote manuscript draft  Writing - original draft\n",
       "195                        wrote paper  Writing - original draft\n",
       "196                     wrote programm                  Software\n",
       "197  wrote R package for data fittting                  Software\n",
       "198                     wrote software                  Software\n",
       "\n",
       "[199 rows x 2 columns]"
      ]
     },
     "execution_count": 3,
     "metadata": {},
     "output_type": "execute_result"
    }
   ],
   "source": [
    "import pandas as pd\n",
    "\n",
    "data = pd.read_excel(\"./labeled_contribution_samples_jk.xlsx\")\n",
    "\n",
    "data"
   ]
  },
  {
   "cell_type": "code",
   "execution_count": 4,
   "id": "4860329f",
   "metadata": {},
   "outputs": [],
   "source": [
    "import numpy as np\n",
    "label_dict = dict(enumerate(np.sort(data.class_label.unique()).flatten(),0))"
   ]
  },
  {
   "attachments": {},
   "cell_type": "markdown",
   "id": "a957bdd1",
   "metadata": {},
   "source": [
    "There are 15 class labels available:"
   ]
  },
  {
   "cell_type": "code",
   "execution_count": 5,
   "id": "3e89ac4d",
   "metadata": {},
   "outputs": [
    {
     "data": {
      "text/plain": [
       "{0: 'Conceptualization / Conceptualisation',\n",
       " 1: 'Data curation',\n",
       " 2: 'Formal analysis',\n",
       " 3: 'Investigation',\n",
       " 4: 'Methodology',\n",
       " 5: 'Project administration',\n",
       " 6: 'Resources',\n",
       " 7: 'Software',\n",
       " 8: 'Sonstiges',\n",
       " 9: 'Supervision',\n",
       " 10: 'Support',\n",
       " 11: 'Validation',\n",
       " 12: 'Visualization / Visualisation',\n",
       " 13: 'Writing - original draft',\n",
       " 14: 'Writing - review & editing'}"
      ]
     },
     "execution_count": 5,
     "metadata": {},
     "output_type": "execute_result"
    }
   ],
   "source": [
    "label_dict"
   ]
  },
  {
   "attachments": {},
   "cell_type": "markdown",
   "id": "9a7b1ec1",
   "metadata": {},
   "source": [
    "Assign a code to the respective class_labels"
   ]
  },
  {
   "cell_type": "code",
   "execution_count": 6,
   "id": "4174595f",
   "metadata": {},
   "outputs": [],
   "source": [
    "label_df = pd.DataFrame.from_dict(label_dict, orient = 'index', columns = ['class_label']).reset_index(names = 'label_code')"
   ]
  },
  {
   "cell_type": "code",
   "execution_count": 7,
   "id": "f7302dab",
   "metadata": {},
   "outputs": [],
   "source": [
    "contributions_df = data.merge(label_df)"
   ]
  },
  {
   "attachments": {},
   "cell_type": "markdown",
   "id": "3632bef1",
   "metadata": {},
   "source": [
    "Shuffle the dataset."
   ]
  },
  {
   "cell_type": "code",
   "execution_count": 8,
   "id": "33cb82ef",
   "metadata": {},
   "outputs": [
    {
     "data": {
      "text/html": [
       "<div>\n",
       "<style scoped>\n",
       "    .dataframe tbody tr th:only-of-type {\n",
       "        vertical-align: middle;\n",
       "    }\n",
       "\n",
       "    .dataframe tbody tr th {\n",
       "        vertical-align: top;\n",
       "    }\n",
       "\n",
       "    .dataframe thead th {\n",
       "        text-align: right;\n",
       "    }\n",
       "</style>\n",
       "<table border=\"1\" class=\"dataframe\">\n",
       "  <thead>\n",
       "    <tr style=\"text-align: right;\">\n",
       "      <th></th>\n",
       "      <th>contribution</th>\n",
       "      <th>class_label</th>\n",
       "      <th>label_code</th>\n",
       "    </tr>\n",
       "  </thead>\n",
       "  <tbody>\n",
       "    <tr>\n",
       "      <th>0</th>\n",
       "      <td>directed study</td>\n",
       "      <td>Project administration</td>\n",
       "      <td>5</td>\n",
       "    </tr>\n",
       "    <tr>\n",
       "      <th>1</th>\n",
       "      <td>wrote manuscript draft</td>\n",
       "      <td>Writing - original draft</td>\n",
       "      <td>13</td>\n",
       "    </tr>\n",
       "    <tr>\n",
       "      <th>2</th>\n",
       "      <td>constructed  strains and some of the plasmids</td>\n",
       "      <td>Formal analysis</td>\n",
       "      <td>2</td>\n",
       "    </tr>\n",
       "    <tr>\n",
       "      <th>3</th>\n",
       "      <td>carried out analysis</td>\n",
       "      <td>Formal analysis</td>\n",
       "      <td>2</td>\n",
       "    </tr>\n",
       "    <tr>\n",
       "      <th>4</th>\n",
       "      <td>provided useful suggestions for the evaluation</td>\n",
       "      <td>Resources</td>\n",
       "      <td>6</td>\n",
       "    </tr>\n",
       "    <tr>\n",
       "      <th>...</th>\n",
       "      <td>...</td>\n",
       "      <td>...</td>\n",
       "      <td>...</td>\n",
       "    </tr>\n",
       "    <tr>\n",
       "      <th>194</th>\n",
       "      <td>analysed experiments</td>\n",
       "      <td>Formal analysis</td>\n",
       "      <td>2</td>\n",
       "    </tr>\n",
       "    <tr>\n",
       "      <th>195</th>\n",
       "      <td>assisted all experiments</td>\n",
       "      <td>Investigation</td>\n",
       "      <td>3</td>\n",
       "    </tr>\n",
       "    <tr>\n",
       "      <th>196</th>\n",
       "      <td>devised experimental strategy</td>\n",
       "      <td>Project administration</td>\n",
       "      <td>5</td>\n",
       "    </tr>\n",
       "    <tr>\n",
       "      <th>197</th>\n",
       "      <td>contributed to discussion</td>\n",
       "      <td>Investigation</td>\n",
       "      <td>3</td>\n",
       "    </tr>\n",
       "    <tr>\n",
       "      <th>198</th>\n",
       "      <td>conceptualised project</td>\n",
       "      <td>Conceptualization / Conceptualisation</td>\n",
       "      <td>0</td>\n",
       "    </tr>\n",
       "  </tbody>\n",
       "</table>\n",
       "<p>199 rows × 3 columns</p>\n",
       "</div>"
      ],
      "text/plain": [
       "                                       contribution  \\\n",
       "0                                    directed study   \n",
       "1                            wrote manuscript draft   \n",
       "2     constructed  strains and some of the plasmids   \n",
       "3                              carried out analysis   \n",
       "4    provided useful suggestions for the evaluation   \n",
       "..                                              ...   \n",
       "194                            analysed experiments   \n",
       "195                        assisted all experiments   \n",
       "196                 devised experimental strategy     \n",
       "197                       contributed to discussion   \n",
       "198                          conceptualised project   \n",
       "\n",
       "                               class_label  label_code  \n",
       "0                   Project administration           5  \n",
       "1                 Writing - original draft          13  \n",
       "2                          Formal analysis           2  \n",
       "3                          Formal analysis           2  \n",
       "4                                Resources           6  \n",
       "..                                     ...         ...  \n",
       "194                        Formal analysis           2  \n",
       "195                          Investigation           3  \n",
       "196                 Project administration           5  \n",
       "197                          Investigation           3  \n",
       "198  Conceptualization / Conceptualisation           0  \n",
       "\n",
       "[199 rows x 3 columns]"
      ]
     },
     "execution_count": 8,
     "metadata": {},
     "output_type": "execute_result"
    }
   ],
   "source": [
    "contributions_df_shuffled = contributions_df.sample(frac=1).reset_index(drop=True)\n",
    "contributions_df_shuffled"
   ]
  },
  {
   "attachments": {},
   "cell_type": "markdown",
   "id": "a256c719",
   "metadata": {},
   "source": [
    "Hot encoding of words in contribution"
   ]
  },
  {
   "cell_type": "code",
   "execution_count": 16,
   "id": "6e153e0a",
   "metadata": {},
   "outputs": [
    {
     "name": "stdout",
     "output_type": "stream",
     "text": [
      "[[62, 18], [14, 5, 46], [47, 97, 10, 48, 11, 1, 49], [21, 22, 2], [3, 98, 99, 19, 1, 63], [100, 101, 11], [50, 102], [16, 37, 51], [64, 28], [65, 5], [103, 1, 23, 104], [3, 105], [29, 1, 38], [24, 1, 2, 11, 1, 4], [8, 2], [14, 5], [8, 6], [14, 66, 46, 11, 1, 5], [17, 106, 107], [17, 2], [52, 39], [8, 13, 15, 25], [12, 108, 9, 67, 68], [53, 19, 40], [16, 37], [69, 23], [70, 54, 26, 37, 109], [30, 37, 51], [71, 10, 41, 1, 42, 5], [7, 110], [30, 51], [71, 5], [55, 1, 5], [12, 9, 2], [7, 111, 2], [72, 15, 4], [21, 22, 112, 2], [29, 6], [113, 114, 56, 4], [7, 115, 116], [3, 117, 10, 118, 31], [8, 13, 48, 6], [57, 6], [32, 6], [12, 9, 119], [7, 15, 68], [3, 28], [29, 18], [7, 120, 121], [7, 2], [33, 28, 19, 23], [14, 34], [24, 13, 122, 6], [55, 123], [14, 73, 58, 19, 4, 124], [50, 5], [74, 35], [24, 125, 1, 126], [75, 76], [20, 34, 58], [65, 35], [47, 49], [16, 73, 58, 19, 4, 127], [128, 77, 129], [7, 130, 131], [33, 28], [12, 9, 5, 78], [132, 133], [21, 22, 134, 79], [41, 5], [24, 9, 135, 1, 136], [7, 137], [32, 80], [8, 43, 36], [14, 138], [47, 49], [33, 10, 64], [3, 139, 26, 18, 25, 81, 6, 4, 2, 10, 5, 78], [8, 13, 82, 6], [3, 28, 10, 140], [52, 6], [8, 26, 81, 6], [62, 141, 142, 11, 1, 143], [3, 144, 145, 19, 1, 146], [8, 43, 83], [7, 4, 2], [24, 13, 4, 2], [3, 147], [148, 59], [8, 48, 6], [84, 34], [7, 149, 150], [3, 27, 60, 10, 15, 31], [3, 4, 2], [8, 13, 43, 83], [52, 38], [16, 85], [3, 151, 152], [16, 34], [86, 35], [153, 5], [21, 22, 1, 4, 36], [54, 25, 11, 1, 18], [14, 66, 46], [53, 40], [24, 13, 63, 11, 1, 18], [17, 154, 155], [16, 156], [55, 157], [3, 87], [57, 39], [21, 22, 40, 11, 158], [88, 56, 5], [44, 4], [17, 77, 159, 160], [8, 13, 2], [161, 162, 89], [7, 163], [16, 164, 10, 165, 166], [53, 167, 40], [17, 4, 2], [21, 22, 6], [3, 27, 60, 10, 15, 31], [168, 4], [17, 79], [169, 170, 10, 171, 172], [69, 6], [20, 90], [3, 173, 45, 10, 87], [8, 13, 91], [20, 4, 2], [92, 6], [72, 174, 93], [7, 175], [41, 5, 176, 9, 177], [17, 178, 2], [30, 179], [20, 67, 23], [12, 9, 180, 1, 5], [181, 42, 89, 19, 182], [8, 13, 43, 36], [44, 1, 4, 36], [86, 5], [7, 26, 183, 2], [16, 85, 11, 184, 185, 2], [7, 6], [17, 6], [70, 54, 26, 186, 38], [187, 188, 189, 190], [14, 191, 61, 11, 1, 5], [84, 90], [50, 1, 76], [33, 10, 192, 4], [3, 193, 194], [7, 2, 195], [29, 23], [7, 196, 2], [75, 4], [8, 23], [12, 9, 15, 94], [30, 39], [3, 27, 95, 45], [7, 197, 198, 2], [12, 9, 15, 25], [32, 4], [41, 42, 61, 9, 199, 200], [3, 201], [202, 93], [203, 10, 32, 204, 205, 11, 1, 18], [7, 206, 13, 207, 208, 209, 210], [3, 27, 95, 45, 4, 2, 10, 96, 31], [211, 2], [20, 59, 26], [32, 1, 4, 36], [29, 35], [14, 35], [8, 91], [44, 80], [12, 9, 34, 212], [12, 9, 18, 25], [88, 56, 42, 61], [8, 15, 25], [3, 213, 27, 214], [20, 39], [30, 59], [12, 9, 215, 11, 4], [33, 4], [20, 216], [217, 218], [3, 96, 31], [3, 27, 45, 219, 220, 1, 5], [3, 60], [74, 5], [12, 9, 221, 222], [44, 6], [8, 82, 6], [92, 15, 94], [12, 9, 223], [57, 38]]\n",
      "[[0. 0. 0. ... 0. 0. 0.]\n",
      " [0. 0. 0. ... 0. 0. 0.]\n",
      " [0. 1. 0. ... 0. 0. 0.]\n",
      " ...\n",
      " [0. 0. 0. ... 0. 0. 0.]\n",
      " [0. 0. 0. ... 0. 0. 0.]\n",
      " [0. 0. 0. ... 0. 0. 0.]]\n",
      "Found 223 unique tokens.\n",
      "{'the': 1, 'analysis': 2, 'provided': 3, 'data': 4, 'manuscript': 5, 'experiments': 6, 'performed': 7, 'assisted': 8, 'to': 9, 'and': 10, 'of': 11, 'contributed': 12, 'with': 13, 'wrote': 14, 'experimental': 15, 'developed': 16, 'conducted': 17, 'study': 18, 'for': 19, 'designed': 20, 'carried': 21, 'out': 22, 'research': 23, 'helped': 24, 'design': 25, 'in': 26, 'critical': 27, 'samples': 28, 'supervised': 29, 'implemented': 30, 'support': 31, 'analyzed': 32, 'collected': 33, 'software': 34, 'paper': 35, 'collection': 36, 'model': 37, 'project': 38, 'task': 39, 'sequencing': 40, 'approved': 41, 'final': 42, 'sample': 43, 'analysed': 44, 'input': 45, 'draft': 46, 'constructed': 47, 'some': 48, 'plasmids': 49, 'discussed': 50, 'simulations': 51, 'conceptualized': 52, 'supported': 53, 'involved': 54, 'prepared': 55, 'on': 56, 'conceptualised': 57, 'package': 58, 'algorithms': 59, 'reagents': 60, 'version': 61, 'directed': 62, 'evaluation': 63, 'processed': 64, 'revised': 65, 'first': 66, 'this': 67, 'work': 68, 'conceived': 69, 'was': 70, 'read': 71, 'generated': 72, 'r': 73, 'drafted': 74, 'interpreted': 75, 'results': 76, 'drug': 77, 'revision': 78, 'analyses': 79, 'transcriptomic': 80, 'conducting': 81, 'all': 82, 'classification': 83, 'tested': 84, 'methodology': 85, 'reviewed': 86, 'resources': 87, 'commented': 88, 'approval': 89, 'statistic': 90, 'staining': 91, 'devised': 92, 'plants': 93, 'strategy': 94, 'scientific': 95, 'logistical': 96, 'strains': 97, 'useful': 98, 'suggestions': 99, 'coordinated': 100, 'recruitment': 101, 'findings': 102, 'formulated': 103, 'question': 104, 'emissions': 105, 'celluar': 106, 'assays': 107, 'equally': 108, 'discussions': 109, 'endoscropy': 110, 'bioinformatic': 111, 'benchmarking': 112, 'ran': 113, 'gingko': 114, 'laboratory': 115, 'procedures': 116, 'intelectual': 117, 'technical': 118, 'annotation': 119, 'literatur': 120, 'review': 121, 'specific': 122, 'figures': 123, 'fittting': 124, 'write': 125, 'manuscripts': 126, 'fitting': 127, 'selected': 128, 'targets': 129, 'transcriptional': 130, 'profiling': 131, 'oversaw': 132, 'anaylses': 133, 'qpcr': 134, 'refine': 135, 'method': 136, 'sfraps': 137, 'programm': 138, 'oversight': 139, 'pretreatment': 140, 'theorethical': 141, 'aspects': 142, 'projekt': 143, 'main': 144, 'text': 145, 'section': 146, 'methods': 147, 'prototyped': 148, 'quality': 149, 'control': 150, 'key': 151, 'comments': 152, 'edited': 153, 'dna': 154, 'extraction': 155, 'mathematics': 156, 'tables': 157, 'libraries': 158, 'target': 159, 'prioritisation': 160, 'gained': 161, 'ethical': 162, 'surgery': 163, 'database': 164, 'web': 165, 'browser': 166, 'by': 167, 'aquire': 168, 'determined': 169, 'gene': 170, 'protein': 171, 'expression': 172, 'intellectual': 173, 'transgenic': 174, 'modelling': 175, 'prior': 176, 'submission': 177, 'graph': 178, 'copymix': 179, 'writing': 180, 'gave': 181, 'publication': 182, 'silico': 183, 'age': 184, 'related': 185, 'entire': 186, 'provide': 187, 'med': 188, 'associates': 189, 'code': 190, 'initial': 191, 'preprocessed': 192, 'endoscopic': 193, 'biopsies': 194, 'proving': 195, 'statistical': 196, 'profile': 197, 'likelyhood': 198, 'be': 199, 'published': 200, 'dataset': 201, 'characterized': 202, 'coupled': 203, 'different': 204, 'datasets': 205, 'implementation': 206, 'tghe': 207, 'local': 208, 'optimization': 209, 'algorithm': 210, 'planned': 211, 'development': 212, 'important': 213, 'revisions': 214, 'interpretion': 215, 'survey': 216, 'established': 217, 'cohort': 218, 'into': 219, 'editing': 220, 'mathematical': 221, 'derivations': 222, 'discussion': 223}\n"
     ]
    }
   ],
   "source": [
    "from tensorflow.keras.preprocessing.text import Tokenizer\n",
    "\n",
    "contributions_list = contributions_df_shuffled[\"contribution\"].to_list()\n",
    "\n",
    "# create a tokenizer, configured to only take the top N=1000 most common words\n",
    "tokenizer = Tokenizer(num_words=1000)\n",
    "\n",
    "# this builds the word index\n",
    "tokenizer.fit_on_texts(contributions_list)\n",
    "\n",
    "\n",
    "# this turns strings into lists of integer indices\n",
    "sequences = tokenizer.texts_to_sequences(contributions_list)\n",
    "print(sequences)\n",
    "\n",
    "# directly get the one-hot binary representation\n",
    "one_hot_results = tokenizer.texts_to_matrix(contributions_list, mode='binary') \n",
    "print(one_hot_results)\n",
    "\n",
    "# recover the word index that was computed\n",
    "word_index = tokenizer.word_index\n",
    "print('Found %s unique tokens.' % len(word_index))\n",
    "print(word_index)"
   ]
  },
  {
   "attachments": {},
   "cell_type": "markdown",
   "id": "851fe057",
   "metadata": {},
   "source": [
    "Create datasets for training, validating and testing. \n",
    "  \n",
    "70 % / 20 % / 10 %"
   ]
  },
  {
   "cell_type": "code",
   "execution_count": 20,
   "id": "b7ce3213",
   "metadata": {},
   "outputs": [
    {
     "name": "stdout",
     "output_type": "stream",
     "text": [
      "139, 40, 20\n"
     ]
    }
   ],
   "source": [
    "from tensorflow.keras.utils import to_categorical\n",
    "\n",
    "# where to slice the dataset:\n",
    "train_size = int(round(0.7 * contributions_df_shuffled.shape[0],0))\n",
    "val_size = int(round(0.2 * contributions_df_shuffled.shape[0],0))\n",
    "test_size = int(round(0.1 * contributions_df_shuffled.shape[0],0))\n",
    "\n",
    "print(\"%s, %s, %s\" % (train_size, val_size, test_size))\n",
    "\n",
    "# slice data\n",
    "train_data = one_hot_results[:train_size]\n",
    "val_data = one_hot_results[train_size:train_size + val_size]\n",
    "test_data = one_hot_results[train_size+val_size:]\n",
    "\n",
    "# slice labels\n",
    "train_labels = to_categorical(contributions_df_shuffled.label_code)[:train_size]\n",
    "val_labels = to_categorical(contributions_df_shuffled.label_code)[train_size:train_size + val_size]\n",
    "test_labels = to_categorical(contributions_df_shuffled.label_code)[train_size+val_size:]"
   ]
  },
  {
   "cell_type": "code",
   "execution_count": 21,
   "id": "b3723dd5",
   "metadata": {},
   "outputs": [
    {
     "data": {
      "text/plain": [
       "15"
      ]
     },
     "execution_count": 21,
     "metadata": {},
     "output_type": "execute_result"
    }
   ],
   "source": [
    "len(train_labels[0])"
   ]
  },
  {
   "attachments": {},
   "cell_type": "markdown",
   "id": "75e4fc1c",
   "metadata": {},
   "source": [
    "### Simple ANN model\n"
   ]
  },
  {
   "attachments": {},
   "cell_type": "markdown",
   "id": "39f67925",
   "metadata": {},
   "source": [
    "Building a first really simple model"
   ]
  },
  {
   "cell_type": "code",
   "execution_count": 22,
   "id": "e1af37f2",
   "metadata": {},
   "outputs": [],
   "source": [
    "from tensorflow.keras import models\n",
    "from tensorflow.keras import layers\n",
    "\n",
    "model = models.Sequential()\n",
    "\n",
    "model.add(layers.Dense(64, activation='relu', input_shape=(1000,)))\n",
    "model.add(layers.Dense(64, activation='relu', input_shape=(1000,)))\n",
    "model.add(layers.Dense(15, activation='softmax'))\n",
    "\n",
    "model.compile(optimizer='rmsprop', loss='binary_crossentropy', metrics=['accuracy'])"
   ]
  },
  {
   "attachments": {},
   "cell_type": "markdown",
   "id": "02de09b4",
   "metadata": {},
   "source": [
    "Training the ANN for 20 epochs with batch_size=512 and use the history object."
   ]
  },
  {
   "cell_type": "code",
   "execution_count": 43,
   "id": "c3f4c57f",
   "metadata": {},
   "outputs": [
    {
     "name": "stdout",
     "output_type": "stream",
     "text": [
      "Epoch 1/100\n",
      "1/3 [=========>....................] - ETA: 0s - loss: 0.2280 - accuracy: 0.2188"
     ]
    },
    {
     "name": "stdout",
     "output_type": "stream",
     "text": [
      "3/3 [==============================] - 0s 28ms/step - loss: 0.2302 - accuracy: 0.2374 - val_loss: 0.2173 - val_accuracy: 0.3000\n",
      "Epoch 2/100\n",
      "3/3 [==============================] - 0s 16ms/step - loss: 0.2271 - accuracy: 0.2374 - val_loss: 0.2158 - val_accuracy: 0.3000\n",
      "Epoch 3/100\n",
      "3/3 [==============================] - 0s 14ms/step - loss: 0.2253 - accuracy: 0.2374 - val_loss: 0.2116 - val_accuracy: 0.3000\n",
      "Epoch 4/100\n",
      "3/3 [==============================] - 0s 16ms/step - loss: 0.2221 - accuracy: 0.2374 - val_loss: 0.2104 - val_accuracy: 0.3000\n",
      "Epoch 5/100\n",
      "3/3 [==============================] - 0s 13ms/step - loss: 0.2200 - accuracy: 0.2374 - val_loss: 0.2072 - val_accuracy: 0.3000\n",
      "Epoch 6/100\n",
      "3/3 [==============================] - 0s 14ms/step - loss: 0.2179 - accuracy: 0.2518 - val_loss: 0.2066 - val_accuracy: 0.3500\n",
      "Epoch 7/100\n",
      "3/3 [==============================] - 0s 13ms/step - loss: 0.2156 - accuracy: 0.3165 - val_loss: 0.2066 - val_accuracy: 0.3750\n",
      "Epoch 8/100\n",
      "3/3 [==============================] - 0s 13ms/step - loss: 0.2143 - accuracy: 0.3309 - val_loss: 0.2044 - val_accuracy: 0.3250\n",
      "Epoch 9/100\n",
      "3/3 [==============================] - 0s 13ms/step - loss: 0.2115 - accuracy: 0.3165 - val_loss: 0.2015 - val_accuracy: 0.3250\n",
      "Epoch 10/100\n",
      "3/3 [==============================] - 0s 14ms/step - loss: 0.2088 - accuracy: 0.3165 - val_loss: 0.1993 - val_accuracy: 0.3750\n",
      "Epoch 11/100\n",
      "3/3 [==============================] - 0s 13ms/step - loss: 0.2069 - accuracy: 0.3237 - val_loss: 0.1981 - val_accuracy: 0.3750\n",
      "Epoch 12/100\n",
      "3/3 [==============================] - 0s 12ms/step - loss: 0.2041 - accuracy: 0.3381 - val_loss: 0.1965 - val_accuracy: 0.3250\n",
      "Epoch 13/100\n",
      "3/3 [==============================] - 0s 12ms/step - loss: 0.2017 - accuracy: 0.3165 - val_loss: 0.1945 - val_accuracy: 0.3500\n",
      "Epoch 14/100\n",
      "3/3 [==============================] - 0s 15ms/step - loss: 0.1988 - accuracy: 0.3165 - val_loss: 0.1924 - val_accuracy: 0.4250\n",
      "Epoch 15/100\n",
      "3/3 [==============================] - 0s 14ms/step - loss: 0.1947 - accuracy: 0.3525 - val_loss: 0.1906 - val_accuracy: 0.3750\n",
      "Epoch 16/100\n",
      "3/3 [==============================] - 0s 17ms/step - loss: 0.1927 - accuracy: 0.3309 - val_loss: 0.1879 - val_accuracy: 0.3750\n",
      "Epoch 17/100\n",
      "3/3 [==============================] - 0s 15ms/step - loss: 0.1891 - accuracy: 0.3525 - val_loss: 0.1845 - val_accuracy: 0.3750\n",
      "Epoch 18/100\n",
      "3/3 [==============================] - 0s 13ms/step - loss: 0.1852 - accuracy: 0.3597 - val_loss: 0.1830 - val_accuracy: 0.4000\n",
      "Epoch 19/100\n",
      "3/3 [==============================] - 0s 13ms/step - loss: 0.1817 - accuracy: 0.3885 - val_loss: 0.1819 - val_accuracy: 0.4000\n",
      "Epoch 20/100\n",
      "3/3 [==============================] - 0s 12ms/step - loss: 0.1790 - accuracy: 0.3957 - val_loss: 0.1795 - val_accuracy: 0.4500\n",
      "Epoch 21/100\n",
      "3/3 [==============================] - 0s 15ms/step - loss: 0.1749 - accuracy: 0.4245 - val_loss: 0.1765 - val_accuracy: 0.4750\n",
      "Epoch 22/100\n",
      "3/3 [==============================] - 0s 14ms/step - loss: 0.1714 - accuracy: 0.4388 - val_loss: 0.1757 - val_accuracy: 0.4750\n",
      "Epoch 23/100\n",
      "3/3 [==============================] - 0s 13ms/step - loss: 0.1680 - accuracy: 0.4604 - val_loss: 0.1738 - val_accuracy: 0.4750\n",
      "Epoch 24/100\n",
      "3/3 [==============================] - 0s 13ms/step - loss: 0.1646 - accuracy: 0.5252 - val_loss: 0.1706 - val_accuracy: 0.4250\n",
      "Epoch 25/100\n",
      "3/3 [==============================] - 0s 13ms/step - loss: 0.1620 - accuracy: 0.4892 - val_loss: 0.1685 - val_accuracy: 0.4250\n",
      "Epoch 26/100\n",
      "3/3 [==============================] - 0s 13ms/step - loss: 0.1578 - accuracy: 0.5324 - val_loss: 0.1681 - val_accuracy: 0.4000\n",
      "Epoch 27/100\n",
      "3/3 [==============================] - 0s 13ms/step - loss: 0.1546 - accuracy: 0.5324 - val_loss: 0.1635 - val_accuracy: 0.5000\n",
      "Epoch 28/100\n",
      "3/3 [==============================] - 0s 13ms/step - loss: 0.1504 - accuracy: 0.5899 - val_loss: 0.1602 - val_accuracy: 0.4750\n",
      "Epoch 29/100\n",
      "3/3 [==============================] - 0s 14ms/step - loss: 0.1468 - accuracy: 0.6115 - val_loss: 0.1592 - val_accuracy: 0.4750\n",
      "Epoch 30/100\n",
      "3/3 [==============================] - 0s 13ms/step - loss: 0.1442 - accuracy: 0.6115 - val_loss: 0.1571 - val_accuracy: 0.5250\n",
      "Epoch 31/100\n",
      "3/3 [==============================] - 0s 13ms/step - loss: 0.1402 - accuracy: 0.5899 - val_loss: 0.1561 - val_accuracy: 0.5250\n",
      "Epoch 32/100\n",
      "3/3 [==============================] - 0s 16ms/step - loss: 0.1372 - accuracy: 0.6475 - val_loss: 0.1549 - val_accuracy: 0.5250\n",
      "Epoch 33/100\n",
      "3/3 [==============================] - 0s 13ms/step - loss: 0.1338 - accuracy: 0.6835 - val_loss: 0.1551 - val_accuracy: 0.5250\n",
      "Epoch 34/100\n",
      "3/3 [==============================] - 0s 12ms/step - loss: 0.1307 - accuracy: 0.6691 - val_loss: 0.1547 - val_accuracy: 0.5500\n",
      "Epoch 35/100\n",
      "3/3 [==============================] - 0s 13ms/step - loss: 0.1276 - accuracy: 0.7770 - val_loss: 0.1517 - val_accuracy: 0.5250\n",
      "Epoch 36/100\n",
      "3/3 [==============================] - 0s 13ms/step - loss: 0.1242 - accuracy: 0.7626 - val_loss: 0.1461 - val_accuracy: 0.5250\n",
      "Epoch 37/100\n",
      "3/3 [==============================] - 0s 12ms/step - loss: 0.1207 - accuracy: 0.7482 - val_loss: 0.1460 - val_accuracy: 0.5750\n",
      "Epoch 38/100\n",
      "3/3 [==============================] - 0s 13ms/step - loss: 0.1169 - accuracy: 0.7914 - val_loss: 0.1457 - val_accuracy: 0.5500\n",
      "Epoch 39/100\n",
      "3/3 [==============================] - 0s 12ms/step - loss: 0.1150 - accuracy: 0.7266 - val_loss: 0.1412 - val_accuracy: 0.5500\n",
      "Epoch 40/100\n",
      "3/3 [==============================] - 0s 20ms/step - loss: 0.1109 - accuracy: 0.7842 - val_loss: 0.1427 - val_accuracy: 0.5500\n",
      "Epoch 41/100\n",
      "3/3 [==============================] - 0s 13ms/step - loss: 0.1082 - accuracy: 0.7842 - val_loss: 0.1421 - val_accuracy: 0.5500\n",
      "Epoch 42/100\n",
      "3/3 [==============================] - 0s 14ms/step - loss: 0.1048 - accuracy: 0.7842 - val_loss: 0.1418 - val_accuracy: 0.5750\n",
      "Epoch 43/100\n",
      "3/3 [==============================] - 0s 16ms/step - loss: 0.1023 - accuracy: 0.8058 - val_loss: 0.1358 - val_accuracy: 0.6250\n",
      "Epoch 44/100\n",
      "3/3 [==============================] - 0s 13ms/step - loss: 0.0988 - accuracy: 0.8201 - val_loss: 0.1343 - val_accuracy: 0.6250\n",
      "Epoch 45/100\n",
      "3/3 [==============================] - 0s 13ms/step - loss: 0.0959 - accuracy: 0.8129 - val_loss: 0.1354 - val_accuracy: 0.6500\n",
      "Epoch 46/100\n",
      "3/3 [==============================] - 0s 13ms/step - loss: 0.0921 - accuracy: 0.8345 - val_loss: 0.1335 - val_accuracy: 0.6000\n",
      "Epoch 47/100\n",
      "3/3 [==============================] - 0s 14ms/step - loss: 0.0894 - accuracy: 0.8489 - val_loss: 0.1340 - val_accuracy: 0.6500\n",
      "Epoch 48/100\n",
      "3/3 [==============================] - 0s 15ms/step - loss: 0.0869 - accuracy: 0.8273 - val_loss: 0.1342 - val_accuracy: 0.6000\n",
      "Epoch 49/100\n",
      "3/3 [==============================] - 0s 12ms/step - loss: 0.0834 - accuracy: 0.8417 - val_loss: 0.1313 - val_accuracy: 0.6750\n",
      "Epoch 50/100\n",
      "3/3 [==============================] - 0s 12ms/step - loss: 0.0810 - accuracy: 0.8561 - val_loss: 0.1320 - val_accuracy: 0.6500\n",
      "Epoch 51/100\n",
      "3/3 [==============================] - 0s 13ms/step - loss: 0.0782 - accuracy: 0.8705 - val_loss: 0.1329 - val_accuracy: 0.6500\n",
      "Epoch 52/100\n",
      "3/3 [==============================] - 0s 13ms/step - loss: 0.0757 - accuracy: 0.8633 - val_loss: 0.1355 - val_accuracy: 0.6000\n",
      "Epoch 53/100\n",
      "3/3 [==============================] - 0s 13ms/step - loss: 0.0740 - accuracy: 0.8489 - val_loss: 0.1338 - val_accuracy: 0.6500\n",
      "Epoch 54/100\n",
      "3/3 [==============================] - 0s 12ms/step - loss: 0.0712 - accuracy: 0.8705 - val_loss: 0.1278 - val_accuracy: 0.7000\n",
      "Epoch 55/100\n",
      "3/3 [==============================] - 0s 13ms/step - loss: 0.0679 - accuracy: 0.8849 - val_loss: 0.1270 - val_accuracy: 0.6250\n",
      "Epoch 56/100\n",
      "3/3 [==============================] - 0s 13ms/step - loss: 0.0663 - accuracy: 0.8993 - val_loss: 0.1306 - val_accuracy: 0.6250\n",
      "Epoch 57/100\n",
      "3/3 [==============================] - 0s 12ms/step - loss: 0.0640 - accuracy: 0.8705 - val_loss: 0.1268 - val_accuracy: 0.7000\n",
      "Epoch 58/100\n",
      "3/3 [==============================] - 0s 13ms/step - loss: 0.0609 - accuracy: 0.8993 - val_loss: 0.1280 - val_accuracy: 0.6750\n",
      "Epoch 59/100\n",
      "3/3 [==============================] - 0s 12ms/step - loss: 0.0595 - accuracy: 0.9065 - val_loss: 0.1298 - val_accuracy: 0.7000\n",
      "Epoch 60/100\n",
      "3/3 [==============================] - 0s 17ms/step - loss: 0.0567 - accuracy: 0.8993 - val_loss: 0.1266 - val_accuracy: 0.7000\n",
      "Epoch 61/100\n",
      "3/3 [==============================] - 0s 15ms/step - loss: 0.0552 - accuracy: 0.9065 - val_loss: 0.1318 - val_accuracy: 0.6500\n",
      "Epoch 62/100\n",
      "3/3 [==============================] - 0s 16ms/step - loss: 0.0540 - accuracy: 0.9137 - val_loss: 0.1259 - val_accuracy: 0.6750\n",
      "Epoch 63/100\n",
      "3/3 [==============================] - 0s 14ms/step - loss: 0.0507 - accuracy: 0.9137 - val_loss: 0.1270 - val_accuracy: 0.7000\n",
      "Epoch 64/100\n",
      "3/3 [==============================] - 0s 14ms/step - loss: 0.0489 - accuracy: 0.9065 - val_loss: 0.1245 - val_accuracy: 0.6750\n",
      "Epoch 65/100\n",
      "3/3 [==============================] - 0s 15ms/step - loss: 0.0467 - accuracy: 0.9137 - val_loss: 0.1277 - val_accuracy: 0.6750\n",
      "Epoch 66/100\n",
      "3/3 [==============================] - 0s 17ms/step - loss: 0.0453 - accuracy: 0.9137 - val_loss: 0.1285 - val_accuracy: 0.6750\n",
      "Epoch 67/100\n",
      "3/3 [==============================] - 0s 16ms/step - loss: 0.0432 - accuracy: 0.9424 - val_loss: 0.1316 - val_accuracy: 0.7000\n",
      "Epoch 68/100\n",
      "3/3 [==============================] - 0s 13ms/step - loss: 0.0413 - accuracy: 0.9424 - val_loss: 0.1353 - val_accuracy: 0.6750\n",
      "Epoch 69/100\n",
      "3/3 [==============================] - 0s 14ms/step - loss: 0.0400 - accuracy: 0.9496 - val_loss: 0.1346 - val_accuracy: 0.6750\n",
      "Epoch 70/100\n",
      "3/3 [==============================] - 0s 13ms/step - loss: 0.0383 - accuracy: 0.9640 - val_loss: 0.1305 - val_accuracy: 0.6500\n",
      "Epoch 71/100\n",
      "3/3 [==============================] - 0s 13ms/step - loss: 0.0371 - accuracy: 0.9640 - val_loss: 0.1308 - val_accuracy: 0.7000\n",
      "Epoch 72/100\n",
      "3/3 [==============================] - 0s 17ms/step - loss: 0.0353 - accuracy: 0.9568 - val_loss: 0.1319 - val_accuracy: 0.6500\n",
      "Epoch 73/100\n",
      "3/3 [==============================] - 0s 14ms/step - loss: 0.0342 - accuracy: 0.9496 - val_loss: 0.1318 - val_accuracy: 0.6500\n",
      "Epoch 74/100\n",
      "3/3 [==============================] - 0s 13ms/step - loss: 0.0322 - accuracy: 0.9640 - val_loss: 0.1390 - val_accuracy: 0.6750\n",
      "Epoch 75/100\n",
      "3/3 [==============================] - 0s 14ms/step - loss: 0.0313 - accuracy: 0.9640 - val_loss: 0.1346 - val_accuracy: 0.6750\n",
      "Epoch 76/100\n",
      "3/3 [==============================] - 0s 17ms/step - loss: 0.0301 - accuracy: 0.9568 - val_loss: 0.1359 - val_accuracy: 0.6500\n",
      "Epoch 77/100\n",
      "3/3 [==============================] - 0s 12ms/step - loss: 0.0297 - accuracy: 0.9712 - val_loss: 0.1385 - val_accuracy: 0.6500\n",
      "Epoch 78/100\n",
      "3/3 [==============================] - 0s 16ms/step - loss: 0.0273 - accuracy: 0.9640 - val_loss: 0.1342 - val_accuracy: 0.6500\n",
      "Epoch 79/100\n",
      "3/3 [==============================] - 0s 13ms/step - loss: 0.0262 - accuracy: 0.9712 - val_loss: 0.1348 - val_accuracy: 0.6250\n",
      "Epoch 80/100\n",
      "3/3 [==============================] - 0s 13ms/step - loss: 0.0249 - accuracy: 0.9784 - val_loss: 0.1363 - val_accuracy: 0.6500\n",
      "Epoch 81/100\n",
      "3/3 [==============================] - 0s 13ms/step - loss: 0.0236 - accuracy: 0.9784 - val_loss: 0.1338 - val_accuracy: 0.6750\n",
      "Epoch 82/100\n",
      "3/3 [==============================] - 0s 13ms/step - loss: 0.0227 - accuracy: 0.9856 - val_loss: 0.1365 - val_accuracy: 0.6250\n",
      "Epoch 83/100\n",
      "3/3 [==============================] - 0s 12ms/step - loss: 0.0224 - accuracy: 0.9928 - val_loss: 0.1371 - val_accuracy: 0.6250\n",
      "Epoch 84/100\n",
      "3/3 [==============================] - 0s 16ms/step - loss: 0.0211 - accuracy: 0.9784 - val_loss: 0.1359 - val_accuracy: 0.6500\n",
      "Epoch 85/100\n",
      "3/3 [==============================] - 0s 14ms/step - loss: 0.0200 - accuracy: 0.9784 - val_loss: 0.1340 - val_accuracy: 0.6500\n",
      "Epoch 86/100\n",
      "3/3 [==============================] - 0s 12ms/step - loss: 0.0198 - accuracy: 0.9856 - val_loss: 0.1413 - val_accuracy: 0.6250\n",
      "Epoch 87/100\n",
      "3/3 [==============================] - 0s 13ms/step - loss: 0.0186 - accuracy: 0.9856 - val_loss: 0.1413 - val_accuracy: 0.6500\n",
      "Epoch 88/100\n",
      "3/3 [==============================] - 0s 14ms/step - loss: 0.0178 - accuracy: 0.9856 - val_loss: 0.1418 - val_accuracy: 0.6250\n",
      "Epoch 89/100\n",
      "3/3 [==============================] - 0s 13ms/step - loss: 0.0168 - accuracy: 0.9856 - val_loss: 0.1424 - val_accuracy: 0.6250\n",
      "Epoch 90/100\n",
      "3/3 [==============================] - 0s 13ms/step - loss: 0.0160 - accuracy: 0.9856 - val_loss: 0.1413 - val_accuracy: 0.6250\n",
      "Epoch 91/100\n",
      "3/3 [==============================] - 0s 14ms/step - loss: 0.0158 - accuracy: 0.9856 - val_loss: 0.1443 - val_accuracy: 0.6250\n",
      "Epoch 92/100\n",
      "3/3 [==============================] - 0s 12ms/step - loss: 0.0147 - accuracy: 0.9928 - val_loss: 0.1408 - val_accuracy: 0.6500\n",
      "Epoch 93/100\n",
      "3/3 [==============================] - 0s 12ms/step - loss: 0.0142 - accuracy: 0.9856 - val_loss: 0.1435 - val_accuracy: 0.6250\n",
      "Epoch 94/100\n",
      "3/3 [==============================] - 0s 12ms/step - loss: 0.0133 - accuracy: 0.9928 - val_loss: 0.1455 - val_accuracy: 0.6500\n",
      "Epoch 95/100\n",
      "3/3 [==============================] - 0s 15ms/step - loss: 0.0128 - accuracy: 0.9928 - val_loss: 0.1407 - val_accuracy: 0.6250\n",
      "Epoch 96/100\n",
      "3/3 [==============================] - 0s 17ms/step - loss: 0.0126 - accuracy: 0.9928 - val_loss: 0.1423 - val_accuracy: 0.6250\n",
      "Epoch 97/100\n",
      "3/3 [==============================] - 0s 14ms/step - loss: 0.0118 - accuracy: 0.9928 - val_loss: 0.1482 - val_accuracy: 0.6250\n",
      "Epoch 98/100\n",
      "3/3 [==============================] - 0s 13ms/step - loss: 0.0118 - accuracy: 0.9928 - val_loss: 0.1508 - val_accuracy: 0.6250\n",
      "Epoch 99/100\n",
      "3/3 [==============================] - 0s 13ms/step - loss: 0.0110 - accuracy: 0.9928 - val_loss: 0.1449 - val_accuracy: 0.6500\n",
      "Epoch 100/100\n",
      "3/3 [==============================] - 0s 13ms/step - loss: 0.0107 - accuracy: 0.9928 - val_loss: 0.1485 - val_accuracy: 0.6500\n"
     ]
    }
   ],
   "source": [
    "history = model.fit(train_data,\n",
    "                    train_labels,\n",
    "                    epochs=100,\n",
    "                    batch_size=64,\n",
    "                    validation_data=(val_data, val_labels))"
   ]
  },
  {
   "cell_type": "code",
   "execution_count": 44,
   "id": "a10f74d6",
   "metadata": {},
   "outputs": [
    {
     "data": {
      "text/plain": [
       "dict_keys(['loss', 'accuracy', 'val_loss', 'val_accuracy'])"
      ]
     },
     "execution_count": 44,
     "metadata": {},
     "output_type": "execute_result"
    }
   ],
   "source": [
    "history.history.keys()"
   ]
  },
  {
   "attachments": {},
   "cell_type": "markdown",
   "id": "35b70a6a",
   "metadata": {},
   "source": [
    "Visualize the loss and accuracy by using pyplot."
   ]
  },
  {
   "cell_type": "code",
   "execution_count": 45,
   "id": "ffa4db9c",
   "metadata": {},
   "outputs": [
    {
     "data": {
      "image/png": "[encoded data removed]",
      "text/plain": [
       "<Figure size 640x480 with 1 Axes>"
      ]
     },
     "metadata": {},
     "output_type": "display_data"
    }
   ],
   "source": [
    "import matplotlib.pyplot as plt\n",
    "\n",
    "loss = history.history['loss']\n",
    "val_loss = history.history['val_loss']\n",
    "\n",
    "epochs = range(1, len(loss) + 1)\n",
    "\n",
    "plt.plot(epochs, loss, 'bo', label='training loss')\n",
    "plt.plot(epochs, val_loss, 'b', label='validation loss')\n",
    "plt.title('training / validation loss')\n",
    "plt.xlabel('epochs')\n",
    "plt.ylabel('loss')\n",
    "plt.legend()\n",
    "\n",
    "plt.show()"
   ]
  },
  {
   "cell_type": "code",
   "execution_count": 46,
   "id": "a1e294a9",
   "metadata": {},
   "outputs": [
    {
     "data": {
      "image/png": "[encoded data removed]",
      "text/plain": [
       "<Figure size 640x480 with 1 Axes>"
      ]
     },
     "metadata": {},
     "output_type": "display_data"
    }
   ],
   "source": [
    "plt.clf()\n",
    "\n",
    "acc = history.history['accuracy']\n",
    "val_acc = history.history['val_accuracy']\n",
    "\n",
    "plt.plot(epochs, acc, 'bo', label='training acc')\n",
    "plt.plot(epochs, val_acc, 'b', label='validation acc')\n",
    "plt.title('training / validation accuracy')\n",
    "plt.xlabel('epochs')\n",
    "plt.ylabel('accuracy')\n",
    "plt.legend()\n",
    "\n",
    "plt.show()"
   ]
  },
  {
   "cell_type": "code",
   "execution_count": 29,
   "id": "41fc0c76",
   "metadata": {},
   "outputs": [
    {
     "name": "stdout",
     "output_type": "stream",
     "text": [
      "1/1 [==============================] - 0s 21ms/step - loss: 0.2206 - accuracy: 0.3000\n"
     ]
    }
   ],
   "source": [
    "results = model.evaluate(test_data, test_labels)"
   ]
  },
  {
   "cell_type": "code",
   "execution_count": 30,
   "id": "653a92dc",
   "metadata": {
    "scrolled": true
   },
   "outputs": [
    {
     "data": {
      "text/plain": [
       "[0.22063899040222168, 0.30000001192092896]"
      ]
     },
     "execution_count": 30,
     "metadata": {},
     "output_type": "execute_result"
    }
   ],
   "source": [
    "results"
   ]
  },
  {
   "attachments": {},
   "cell_type": "markdown",
   "id": "8657d864",
   "metadata": {},
   "source": [
    "The performance of this really simple model is not great, with an accuracy of 25 % for the test data. Lets add some parameter testing."
   ]
  },
  {
   "cell_type": "code",
   "execution_count": 31,
   "id": "0d74f7fc",
   "metadata": {},
   "outputs": [],
   "source": [
    "test_plan = {}\n",
    "test_plan[0] = {\"n_units\": 32, \"n_hidden_layers\": 1}\n",
    "test_plan[1] = {\"n_units\": 32, \"n_hidden_layers\": 2}\n",
    "test_plan[2] = {\"n_units\": 32, \"n_hidden_layers\": 3}\n",
    "test_plan[3] = {\"n_units\": 64, \"n_hidden_layers\": 1}\n",
    "test_plan[4] = {\"n_units\": 64, \"n_hidden_layers\": 2}\n",
    "test_plan[5] = {\"n_units\": 64, \"n_hidden_layers\": 3}\n",
    "test_plan[6] = {\"n_units\": 128, \"n_hidden_layers\": 1}\n",
    "test_plan[7] = {\"n_units\": 128, \"n_hidden_layers\": 2}\n",
    "test_plan[8] = {\"n_units\": 128, \"n_hidden_layers\": 3}"
   ]
  },
  {
   "cell_type": "code",
   "execution_count": 42,
   "id": "a7847fcf",
   "metadata": {},
   "outputs": [
    {
     "name": "stdout",
     "output_type": "stream",
     "text": [
      "Epoch 1/10\n"
     ]
    },
    {
     "name": "stdout",
     "output_type": "stream",
     "text": [
      "3/3 [==============================] - 0s 65ms/step - loss: 0.6911 - accuracy: 0.0719 - val_loss: 0.6820 - val_accuracy: 0.0750\n",
      "Epoch 2/10\n",
      "3/3 [==============================] - 0s 12ms/step - loss: 0.6809 - accuracy: 0.0863 - val_loss: 0.6748 - val_accuracy: 0.0500\n",
      "Epoch 3/10\n",
      "3/3 [==============================] - 0s 12ms/step - loss: 0.6734 - accuracy: 0.1151 - val_loss: 0.6684 - val_accuracy: 0.0500\n",
      "Epoch 4/10\n",
      "3/3 [==============================] - 0s 15ms/step - loss: 0.6665 - accuracy: 0.1151 - val_loss: 0.6620 - val_accuracy: 0.0500\n",
      "Epoch 5/10\n",
      "3/3 [==============================] - 0s 12ms/step - loss: 0.6597 - accuracy: 0.1079 - val_loss: 0.6554 - val_accuracy: 0.0500\n",
      "Epoch 6/10\n",
      "3/3 [==============================] - 0s 13ms/step - loss: 0.6526 - accuracy: 0.1151 - val_loss: 0.6486 - val_accuracy: 0.0500\n",
      "Epoch 7/10\n",
      "3/3 [==============================] - 0s 12ms/step - loss: 0.6454 - accuracy: 0.1079 - val_loss: 0.6418 - val_accuracy: 0.0500\n",
      "Epoch 8/10\n",
      "3/3 [==============================] - 0s 12ms/step - loss: 0.6381 - accuracy: 0.1079 - val_loss: 0.6348 - val_accuracy: 0.0500\n",
      "Epoch 9/10\n",
      "3/3 [==============================] - 0s 13ms/step - loss: 0.6304 - accuracy: 0.1079 - val_loss: 0.6274 - val_accuracy: 0.0500\n",
      "Epoch 10/10\n",
      "3/3 [==============================] - 0s 12ms/step - loss: 0.6224 - accuracy: 0.1151 - val_loss: 0.6195 - val_accuracy: 0.0500\n",
      "1/1 [==============================] - 0s 18ms/step - loss: 0.6245 - accuracy: 0.1500\n",
      "Epoch 1/10\n",
      "3/3 [==============================] - 1s 64ms/step - loss: 0.6905 - accuracy: 0.0719 - val_loss: 0.6845 - val_accuracy: 0.0000e+00\n",
      "Epoch 2/10\n",
      "3/3 [==============================] - 0s 11ms/step - loss: 0.6824 - accuracy: 0.0863 - val_loss: 0.6778 - val_accuracy: 0.0000e+00\n",
      "Epoch 3/10\n",
      "3/3 [==============================] - 0s 12ms/step - loss: 0.6755 - accuracy: 0.0791 - val_loss: 0.6711 - val_accuracy: 0.0000e+00\n",
      "Epoch 4/10\n",
      "3/3 [==============================] - 0s 11ms/step - loss: 0.6682 - accuracy: 0.0863 - val_loss: 0.6638 - val_accuracy: 0.0250\n",
      "Epoch 5/10\n",
      "3/3 [==============================] - 0s 15ms/step - loss: 0.6601 - accuracy: 0.0719 - val_loss: 0.6556 - val_accuracy: 0.0250\n",
      "Epoch 6/10\n",
      "3/3 [==============================] - 0s 11ms/step - loss: 0.6512 - accuracy: 0.0719 - val_loss: 0.6462 - val_accuracy: 0.0250\n",
      "Epoch 7/10\n",
      "3/3 [==============================] - 0s 12ms/step - loss: 0.6410 - accuracy: 0.0719 - val_loss: 0.6358 - val_accuracy: 0.0250\n",
      "Epoch 8/10\n",
      "3/3 [==============================] - 0s 11ms/step - loss: 0.6298 - accuracy: 0.0576 - val_loss: 0.6243 - val_accuracy: 0.0250\n",
      "Epoch 9/10\n",
      "3/3 [==============================] - 0s 12ms/step - loss: 0.6174 - accuracy: 0.0719 - val_loss: 0.6116 - val_accuracy: 0.0250\n",
      "Epoch 10/10\n",
      "3/3 [==============================] - 0s 12ms/step - loss: 0.6037 - accuracy: 0.0719 - val_loss: 0.5974 - val_accuracy: 0.0250\n",
      "1/1 [==============================] - 0s 18ms/step - loss: 0.6048 - accuracy: 0.0000e+00\n",
      "Epoch 1/10\n",
      "3/3 [==============================] - 1s 64ms/step - loss: 0.6897 - accuracy: 0.0504 - val_loss: 0.6806 - val_accuracy: 0.0500\n",
      "Epoch 2/10\n",
      "3/3 [==============================] - 0s 11ms/step - loss: 0.6779 - accuracy: 0.0647 - val_loss: 0.6700 - val_accuracy: 0.0750\n",
      "Epoch 3/10\n",
      "3/3 [==============================] - 0s 11ms/step - loss: 0.6666 - accuracy: 0.0504 - val_loss: 0.6568 - val_accuracy: 0.1000\n",
      "Epoch 4/10\n",
      "3/3 [==============================] - 0s 11ms/step - loss: 0.6527 - accuracy: 0.1007 - val_loss: 0.6417 - val_accuracy: 0.1000\n",
      "Epoch 5/10\n",
      "3/3 [==============================] - 0s 11ms/step - loss: 0.6370 - accuracy: 0.1151 - val_loss: 0.6240 - val_accuracy: 0.1500\n",
      "Epoch 6/10\n",
      "3/3 [==============================] - 0s 14ms/step - loss: 0.6182 - accuracy: 0.1223 - val_loss: 0.6035 - val_accuracy: 0.1500\n",
      "Epoch 7/10\n",
      "3/3 [==============================] - 0s 13ms/step - loss: 0.5967 - accuracy: 0.1367 - val_loss: 0.5797 - val_accuracy: 0.1500\n",
      "Epoch 8/10\n",
      "3/3 [==============================] - 0s 14ms/step - loss: 0.5719 - accuracy: 0.1511 - val_loss: 0.5533 - val_accuracy: 0.1750\n",
      "Epoch 9/10\n",
      "3/3 [==============================] - 0s 13ms/step - loss: 0.5448 - accuracy: 0.1727 - val_loss: 0.5254 - val_accuracy: 0.1750\n",
      "Epoch 10/10\n",
      "3/3 [==============================] - 0s 13ms/step - loss: 0.5161 - accuracy: 0.1367 - val_loss: 0.4958 - val_accuracy: 0.1750\n",
      "1/1 [==============================] - 0s 18ms/step - loss: 0.5073 - accuracy: 0.0000e+00\n",
      "Epoch 1/10\n",
      "3/3 [==============================] - 0s 62ms/step - loss: 0.6845 - accuracy: 0.0719 - val_loss: 0.6746 - val_accuracy: 0.0750\n",
      "Epoch 2/10\n",
      "3/3 [==============================] - 0s 15ms/step - loss: 0.6699 - accuracy: 0.0647 - val_loss: 0.6632 - val_accuracy: 0.0750\n",
      "Epoch 3/10\n",
      "3/3 [==============================] - 0s 12ms/step - loss: 0.6579 - accuracy: 0.0791 - val_loss: 0.6526 - val_accuracy: 0.0750\n",
      "Epoch 4/10\n",
      "3/3 [==============================] - 0s 11ms/step - loss: 0.6463 - accuracy: 0.1007 - val_loss: 0.6419 - val_accuracy: 0.1000\n",
      "Epoch 5/10\n",
      "3/3 [==============================] - 0s 16ms/step - loss: 0.6344 - accuracy: 0.0863 - val_loss: 0.6312 - val_accuracy: 0.1000\n",
      "Epoch 6/10\n",
      "3/3 [==============================] - 0s 17ms/step - loss: 0.6224 - accuracy: 0.0863 - val_loss: 0.6195 - val_accuracy: 0.1000\n",
      "Epoch 7/10\n",
      "3/3 [==============================] - 0s 18ms/step - loss: 0.6095 - accuracy: 0.0935 - val_loss: 0.6077 - val_accuracy: 0.1250\n",
      "Epoch 8/10\n",
      "3/3 [==============================] - 0s 15ms/step - loss: 0.5964 - accuracy: 0.1007 - val_loss: 0.5949 - val_accuracy: 0.1250\n",
      "Epoch 9/10\n",
      "3/3 [==============================] - 0s 13ms/step - loss: 0.5826 - accuracy: 0.1079 - val_loss: 0.5810 - val_accuracy: 0.1250\n",
      "Epoch 10/10\n",
      "3/3 [==============================] - 0s 13ms/step - loss: 0.5679 - accuracy: 0.1079 - val_loss: 0.5672 - val_accuracy: 0.1250\n",
      "1/1 [==============================] - 0s 20ms/step - loss: 0.5746 - accuracy: 0.0500\n",
      "Epoch 1/10\n",
      "3/3 [==============================] - 1s 67ms/step - loss: 0.6937 - accuracy: 0.1799 - val_loss: 0.6821 - val_accuracy: 0.1750\n",
      "Epoch 2/10\n",
      "3/3 [==============================] - 0s 14ms/step - loss: 0.6799 - accuracy: 0.1727 - val_loss: 0.6705 - val_accuracy: 0.1500\n",
      "Epoch 3/10\n",
      "3/3 [==============================] - 0s 12ms/step - loss: 0.6673 - accuracy: 0.1295 - val_loss: 0.6576 - val_accuracy: 0.1750\n",
      "Epoch 4/10\n",
      "3/3 [==============================] - 0s 12ms/step - loss: 0.6532 - accuracy: 0.1439 - val_loss: 0.6425 - val_accuracy: 0.1500\n",
      "Epoch 5/10\n",
      "3/3 [==============================] - 0s 13ms/step - loss: 0.6373 - accuracy: 0.1367 - val_loss: 0.6258 - val_accuracy: 0.1500\n",
      "Epoch 6/10\n",
      "3/3 [==============================] - 0s 13ms/step - loss: 0.6193 - accuracy: 0.1223 - val_loss: 0.6059 - val_accuracy: 0.1500\n",
      "Epoch 7/10\n",
      "3/3 [==============================] - 0s 12ms/step - loss: 0.5985 - accuracy: 0.1439 - val_loss: 0.5843 - val_accuracy: 0.1500\n",
      "Epoch 8/10\n",
      "3/3 [==============================] - 0s 12ms/step - loss: 0.5758 - accuracy: 0.1367 - val_loss: 0.5600 - val_accuracy: 0.2250\n",
      "Epoch 9/10\n",
      "3/3 [==============================] - 0s 13ms/step - loss: 0.5505 - accuracy: 0.1439 - val_loss: 0.5326 - val_accuracy: 0.2250\n",
      "Epoch 10/10\n",
      "3/3 [==============================] - 0s 12ms/step - loss: 0.5227 - accuracy: 0.1511 - val_loss: 0.5051 - val_accuracy: 0.2000\n",
      "1/1 [==============================] - 0s 20ms/step - loss: 0.5190 - accuracy: 0.0500\n",
      "Epoch 1/10\n",
      "3/3 [==============================] - 1s 69ms/step - loss: 0.6891 - accuracy: 0.0288 - val_loss: 0.6778 - val_accuracy: 0.0250\n",
      "Epoch 2/10\n",
      "3/3 [==============================] - 0s 17ms/step - loss: 0.6740 - accuracy: 0.0576 - val_loss: 0.6625 - val_accuracy: 0.0000e+00\n",
      "Epoch 3/10\n",
      "3/3 [==============================] - 0s 12ms/step - loss: 0.6577 - accuracy: 0.0432 - val_loss: 0.6430 - val_accuracy: 0.0000e+00\n",
      "Epoch 4/10\n",
      "3/3 [==============================] - 0s 13ms/step - loss: 0.6367 - accuracy: 0.0288 - val_loss: 0.6179 - val_accuracy: 0.0000e+00\n",
      "Epoch 5/10\n",
      "3/3 [==============================] - 0s 12ms/step - loss: 0.6093 - accuracy: 0.0360 - val_loss: 0.5857 - val_accuracy: 0.0250\n",
      "Epoch 6/10\n",
      "3/3 [==============================] - 0s 12ms/step - loss: 0.5749 - accuracy: 0.0504 - val_loss: 0.5472 - val_accuracy: 0.0250\n",
      "Epoch 7/10\n",
      "3/3 [==============================] - 0s 12ms/step - loss: 0.5343 - accuracy: 0.0432 - val_loss: 0.5032 - val_accuracy: 0.0750\n",
      "Epoch 8/10\n",
      "3/3 [==============================] - 0s 12ms/step - loss: 0.4892 - accuracy: 0.0360 - val_loss: 0.4561 - val_accuracy: 0.0750\n",
      "Epoch 9/10\n",
      "3/3 [==============================] - 0s 11ms/step - loss: 0.4412 - accuracy: 0.0504 - val_loss: 0.4108 - val_accuracy: 0.0750\n",
      "Epoch 10/10\n",
      "3/3 [==============================] - 0s 12ms/step - loss: 0.3959 - accuracy: 0.0432 - val_loss: 0.3697 - val_accuracy: 0.0750\n",
      "1/1 [==============================] - 0s 18ms/step - loss: 0.3931 - accuracy: 0.0000e+00\n",
      "Epoch 1/10\n",
      "3/3 [==============================] - 1s 63ms/step - loss: 0.6897 - accuracy: 0.0647 - val_loss: 0.6731 - val_accuracy: 0.0750\n",
      "Epoch 2/10\n",
      "3/3 [==============================] - 0s 14ms/step - loss: 0.6705 - accuracy: 0.0791 - val_loss: 0.6573 - val_accuracy: 0.1000\n",
      "Epoch 3/10\n",
      "3/3 [==============================] - 0s 15ms/step - loss: 0.6547 - accuracy: 0.1079 - val_loss: 0.6422 - val_accuracy: 0.1250\n",
      "Epoch 4/10\n",
      "3/3 [==============================] - 0s 14ms/step - loss: 0.6393 - accuracy: 0.1439 - val_loss: 0.6273 - val_accuracy: 0.1500\n",
      "Epoch 5/10\n",
      "3/3 [==============================] - 0s 14ms/step - loss: 0.6238 - accuracy: 0.1727 - val_loss: 0.6111 - val_accuracy: 0.2250\n",
      "Epoch 6/10\n",
      "3/3 [==============================] - 0s 15ms/step - loss: 0.6071 - accuracy: 0.1871 - val_loss: 0.5947 - val_accuracy: 0.2750\n",
      "Epoch 7/10\n",
      "3/3 [==============================] - 0s 14ms/step - loss: 0.5896 - accuracy: 0.2374 - val_loss: 0.5775 - val_accuracy: 0.3000\n",
      "Epoch 8/10\n",
      "3/3 [==============================] - 0s 14ms/step - loss: 0.5714 - accuracy: 0.2590 - val_loss: 0.5594 - val_accuracy: 0.3750\n",
      "Epoch 9/10\n",
      "3/3 [==============================] - 0s 14ms/step - loss: 0.5527 - accuracy: 0.2950 - val_loss: 0.5411 - val_accuracy: 0.3750\n",
      "Epoch 10/10\n",
      "3/3 [==============================] - 0s 14ms/step - loss: 0.5333 - accuracy: 0.3309 - val_loss: 0.5221 - val_accuracy: 0.4000\n",
      "1/1 [==============================] - 0s 20ms/step - loss: 0.5372 - accuracy: 0.1500\n",
      "Epoch 1/10\n",
      "3/3 [==============================] - 1s 61ms/step - loss: 0.6865 - accuracy: 0.0791 - val_loss: 0.6678 - val_accuracy: 0.1500\n",
      "Epoch 2/10\n",
      "3/3 [==============================] - 0s 16ms/step - loss: 0.6630 - accuracy: 0.1079 - val_loss: 0.6434 - val_accuracy: 0.1500\n",
      "Epoch 3/10\n",
      "3/3 [==============================] - 0s 13ms/step - loss: 0.6364 - accuracy: 0.1439 - val_loss: 0.6120 - val_accuracy: 0.2000\n",
      "Epoch 4/10\n",
      "3/3 [==============================] - 0s 13ms/step - loss: 0.6022 - accuracy: 0.1727 - val_loss: 0.5713 - val_accuracy: 0.2000\n",
      "Epoch 5/10\n",
      "3/3 [==============================] - 0s 12ms/step - loss: 0.5580 - accuracy: 0.2086 - val_loss: 0.5222 - val_accuracy: 0.1750\n",
      "Epoch 6/10\n",
      "3/3 [==============================] - 0s 13ms/step - loss: 0.5061 - accuracy: 0.2014 - val_loss: 0.4672 - val_accuracy: 0.2000\n",
      "Epoch 7/10\n",
      "3/3 [==============================] - 0s 13ms/step - loss: 0.4495 - accuracy: 0.2014 - val_loss: 0.4130 - val_accuracy: 0.2000\n",
      "Epoch 8/10\n",
      "3/3 [==============================] - 0s 13ms/step - loss: 0.3956 - accuracy: 0.1871 - val_loss: 0.3629 - val_accuracy: 0.2000\n",
      "Epoch 9/10\n",
      "3/3 [==============================] - 0s 13ms/step - loss: 0.3479 - accuracy: 0.1727 - val_loss: 0.3232 - val_accuracy: 0.2000\n",
      "Epoch 10/10\n",
      "3/3 [==============================] - 0s 13ms/step - loss: 0.3106 - accuracy: 0.1655 - val_loss: 0.2935 - val_accuracy: 0.2500\n",
      "1/1 [==============================] - 0s 20ms/step - loss: 0.3177 - accuracy: 0.2000\n",
      "Epoch 1/10\n",
      "3/3 [==============================] - 1s 72ms/step - loss: 0.6835 - accuracy: 0.0791 - val_loss: 0.6590 - val_accuracy: 0.0750\n",
      "Epoch 2/10\n",
      "3/3 [==============================] - 0s 14ms/step - loss: 0.6517 - accuracy: 0.0719 - val_loss: 0.6147 - val_accuracy: 0.1000\n",
      "Epoch 3/10\n",
      "3/3 [==============================] - 0s 13ms/step - loss: 0.6026 - accuracy: 0.1367 - val_loss: 0.5458 - val_accuracy: 0.0250\n",
      "Epoch 4/10\n",
      "3/3 [==============================] - 0s 15ms/step - loss: 0.5274 - accuracy: 0.0719 - val_loss: 0.4509 - val_accuracy: 0.0500\n",
      "Epoch 5/10\n",
      "3/3 [==============================] - 0s 14ms/step - loss: 0.4308 - accuracy: 0.0576 - val_loss: 0.3570 - val_accuracy: 0.0500\n",
      "Epoch 6/10\n",
      "3/3 [==============================] - 0s 13ms/step - loss: 0.3424 - accuracy: 0.0576 - val_loss: 0.2919 - val_accuracy: 0.2250\n",
      "Epoch 7/10\n",
      "3/3 [==============================] - 0s 15ms/step - loss: 0.2850 - accuracy: 0.2590 - val_loss: 0.2534 - val_accuracy: 0.3000\n",
      "Epoch 8/10\n",
      "3/3 [==============================] - 0s 14ms/step - loss: 0.2547 - accuracy: 0.2374 - val_loss: 0.2339 - val_accuracy: 0.3000\n",
      "Epoch 9/10\n",
      "3/3 [==============================] - 0s 13ms/step - loss: 0.2409 - accuracy: 0.2374 - val_loss: 0.2250 - val_accuracy: 0.3000\n",
      "Epoch 10/10\n",
      "3/3 [==============================] - 0s 13ms/step - loss: 0.2347 - accuracy: 0.2374 - val_loss: 0.2206 - val_accuracy: 0.3000\n",
      "1/1 [==============================] - 0s 31ms/step - loss: 0.2387 - accuracy: 0.1000\n"
     ]
    }
   ],
   "source": [
    "batch_size = 64\n",
    "\n",
    "result_dict = {}\n",
    "\n",
    "for n in range(len(test_plan)):\n",
    "    units = test_plan[n][\"n_units\"]\n",
    "    hidden_layers = test_plan[n][\"n_hidden_layers\"]\n",
    "    \n",
    "    #initiate model\n",
    "    model = models.Sequential()\n",
    "    \n",
    "    #add hidden layers\n",
    "    if hidden_layers == 1:\n",
    "        model.add(layers.Dense(units, activation='relu', input_shape=(1000,)))\n",
    "    else:\n",
    "        for i in range(hidden_layers):\n",
    "            model.add(layers.Dense(units, activation='relu', input_shape=(1000,)))\n",
    "\n",
    "    # add output layer\n",
    "    model.add(layers.Dense(15, activation='softmax'))\n",
    "\n",
    "    #compile model\n",
    "    model.compile(optimizer='rmsprop', loss='binary_crossentropy', metrics=['accuracy'])\n",
    "\n",
    "    #fit model\n",
    "    model.fit(train_data,\n",
    "              train_labels,\n",
    "              epochs=10,\n",
    "              batch_size=batch_size,\n",
    "              validation_data=(val_data, val_labels))\n",
    "\n",
    "    results = model.evaluate(test_data, test_labels)\n",
    "                               \n",
    "    result_dict[n] = {\"activation\": \"relu/softmax\",  \n",
    "                     \"n_units\": units, \n",
    "                     \"n_hidden_layers\": hidden_layers, \n",
    "                     \"optimizer\": \"rmsprop\", \n",
    "                     \"loss\": \"binary_crossentropy\",\n",
    "                     \"epochs\": 10,\n",
    "                     \"batch_size\": 512,\n",
    "                     \"accuracy\": results[1]}"
   ]
  },
  {
   "cell_type": "code",
   "execution_count": 33,
   "id": "9bd95395",
   "metadata": {
    "scrolled": true
   },
   "outputs": [
    {
     "data": {
      "text/html": [
       "<div>\n",
       "<style scoped>\n",
       "    .dataframe tbody tr th:only-of-type {\n",
       "        vertical-align: middle;\n",
       "    }\n",
       "\n",
       "    .dataframe tbody tr th {\n",
       "        vertical-align: top;\n",
       "    }\n",
       "\n",
       "    .dataframe thead th {\n",
       "        text-align: right;\n",
       "    }\n",
       "</style>\n",
       "<table border=\"1\" class=\"dataframe\">\n",
       "  <thead>\n",
       "    <tr style=\"text-align: right;\">\n",
       "      <th></th>\n",
       "      <th>activation</th>\n",
       "      <th>n_units</th>\n",
       "      <th>n_hidden_layers</th>\n",
       "      <th>optimizer</th>\n",
       "      <th>loss</th>\n",
       "      <th>epochs</th>\n",
       "      <th>batch_size</th>\n",
       "      <th>accuracy</th>\n",
       "    </tr>\n",
       "  </thead>\n",
       "  <tbody>\n",
       "    <tr>\n",
       "      <th>0</th>\n",
       "      <td>relu/softmax</td>\n",
       "      <td>32</td>\n",
       "      <td>1</td>\n",
       "      <td>rmsprop</td>\n",
       "      <td>binary_crossentropy</td>\n",
       "      <td>10</td>\n",
       "      <td>512</td>\n",
       "      <td>0.00</td>\n",
       "    </tr>\n",
       "    <tr>\n",
       "      <th>1</th>\n",
       "      <td>relu/softmax</td>\n",
       "      <td>32</td>\n",
       "      <td>2</td>\n",
       "      <td>rmsprop</td>\n",
       "      <td>binary_crossentropy</td>\n",
       "      <td>10</td>\n",
       "      <td>512</td>\n",
       "      <td>0.00</td>\n",
       "    </tr>\n",
       "    <tr>\n",
       "      <th>2</th>\n",
       "      <td>relu/softmax</td>\n",
       "      <td>32</td>\n",
       "      <td>3</td>\n",
       "      <td>rmsprop</td>\n",
       "      <td>binary_crossentropy</td>\n",
       "      <td>10</td>\n",
       "      <td>512</td>\n",
       "      <td>0.00</td>\n",
       "    </tr>\n",
       "    <tr>\n",
       "      <th>3</th>\n",
       "      <td>relu/softmax</td>\n",
       "      <td>64</td>\n",
       "      <td>1</td>\n",
       "      <td>rmsprop</td>\n",
       "      <td>binary_crossentropy</td>\n",
       "      <td>10</td>\n",
       "      <td>512</td>\n",
       "      <td>0.15</td>\n",
       "    </tr>\n",
       "    <tr>\n",
       "      <th>4</th>\n",
       "      <td>relu/softmax</td>\n",
       "      <td>64</td>\n",
       "      <td>2</td>\n",
       "      <td>rmsprop</td>\n",
       "      <td>binary_crossentropy</td>\n",
       "      <td>10</td>\n",
       "      <td>512</td>\n",
       "      <td>0.05</td>\n",
       "    </tr>\n",
       "    <tr>\n",
       "      <th>5</th>\n",
       "      <td>relu/softmax</td>\n",
       "      <td>64</td>\n",
       "      <td>3</td>\n",
       "      <td>rmsprop</td>\n",
       "      <td>binary_crossentropy</td>\n",
       "      <td>10</td>\n",
       "      <td>512</td>\n",
       "      <td>0.10</td>\n",
       "    </tr>\n",
       "    <tr>\n",
       "      <th>6</th>\n",
       "      <td>relu/softmax</td>\n",
       "      <td>128</td>\n",
       "      <td>1</td>\n",
       "      <td>rmsprop</td>\n",
       "      <td>binary_crossentropy</td>\n",
       "      <td>10</td>\n",
       "      <td>512</td>\n",
       "      <td>0.05</td>\n",
       "    </tr>\n",
       "    <tr>\n",
       "      <th>7</th>\n",
       "      <td>relu/softmax</td>\n",
       "      <td>128</td>\n",
       "      <td>2</td>\n",
       "      <td>rmsprop</td>\n",
       "      <td>binary_crossentropy</td>\n",
       "      <td>10</td>\n",
       "      <td>512</td>\n",
       "      <td>0.05</td>\n",
       "    </tr>\n",
       "    <tr>\n",
       "      <th>8</th>\n",
       "      <td>relu/softmax</td>\n",
       "      <td>128</td>\n",
       "      <td>3</td>\n",
       "      <td>rmsprop</td>\n",
       "      <td>binary_crossentropy</td>\n",
       "      <td>10</td>\n",
       "      <td>512</td>\n",
       "      <td>0.05</td>\n",
       "    </tr>\n",
       "  </tbody>\n",
       "</table>\n",
       "</div>"
      ],
      "text/plain": [
       "     activation  n_units  n_hidden_layers optimizer                 loss  \\\n",
       "0  relu/softmax       32                1   rmsprop  binary_crossentropy   \n",
       "1  relu/softmax       32                2   rmsprop  binary_crossentropy   \n",
       "2  relu/softmax       32                3   rmsprop  binary_crossentropy   \n",
       "3  relu/softmax       64                1   rmsprop  binary_crossentropy   \n",
       "4  relu/softmax       64                2   rmsprop  binary_crossentropy   \n",
       "5  relu/softmax       64                3   rmsprop  binary_crossentropy   \n",
       "6  relu/softmax      128                1   rmsprop  binary_crossentropy   \n",
       "7  relu/softmax      128                2   rmsprop  binary_crossentropy   \n",
       "8  relu/softmax      128                3   rmsprop  binary_crossentropy   \n",
       "\n",
       "   epochs  batch_size  accuracy  \n",
       "0      10         512      0.00  \n",
       "1      10         512      0.00  \n",
       "2      10         512      0.00  \n",
       "3      10         512      0.15  \n",
       "4      10         512      0.05  \n",
       "5      10         512      0.10  \n",
       "6      10         512      0.05  \n",
       "7      10         512      0.05  \n",
       "8      10         512      0.05  "
      ]
     },
     "execution_count": 33,
     "metadata": {},
     "output_type": "execute_result"
    }
   ],
   "source": [
    "pd.DataFrame.from_dict(result_dict, orient = \"index\")"
   ]
  },
  {
   "attachments": {},
   "cell_type": "markdown",
   "id": "38d0e561",
   "metadata": {},
   "source": [
    "Also the other tested configurations are not performing well."
   ]
  },
  {
   "attachments": {},
   "cell_type": "markdown",
   "id": "3082e6e1",
   "metadata": {},
   "source": [
    "## GloVE Approach\n",
    "\n",
    "Processing Embeddings"
   ]
  },
  {
   "cell_type": "code",
   "execution_count": 35,
   "id": "0a3c7975",
   "metadata": {},
   "outputs": [
    {
     "name": "stdout",
     "output_type": "stream",
     "text": [
      "Found 400000 word vectors\n"
     ]
    }
   ],
   "source": [
    "import os\n",
    "glove_dir = './GitHub'\n",
    "#glove_dir = './GitHub/glove.6B'\n",
    "\n",
    "embeddings_index = {}\n",
    "f = open(os.path.join(glove_dir, 'glove.6B.100d.txt'), encoding=\"utf8\")\n",
    "for line in f:\n",
    "    values = line.split()\n",
    "    word = values[0]\n",
    "    coefs = np.asarray(values[1:], dtype='float32')\n",
    "    embeddings_index[word] = coefs\n",
    "f.close()\n",
    "\n",
    "print('Found %s word vectors' % len(embeddings_index))"
   ]
  },
  {
   "attachments": {},
   "cell_type": "markdown",
   "id": "adb0daf9",
   "metadata": {},
   "source": [
    "Now, build an embedding matrix that can be loaded into an `Embedding` layer. It must be a matrix of shape `(max_words,embedding_dim)`, where each entry `i` contains the `embedding_dim`-dimensional vector for the word of index `i` in our reference word index (built during tokenization). Note that the index `0` is not supposed to stand for any word or token. It is simply a placeholder."
   ]
  },
  {
   "cell_type": "code",
   "execution_count": 36,
   "id": "432f4e24",
   "metadata": {},
   "outputs": [],
   "source": [
    "max_words = len(word_index) + 1\n",
    "embedding_dim = 100\n",
    "embedding_matrix = np.zeros((max_words, embedding_dim))\n",
    "\n",
    "for word, i in word_index.items():\n",
    "    embedding_vector = embeddings_index.get(word)\n",
    "    if i < max_words:\n",
    "        if embedding_vector is not None:\n",
    "            # Words not found in the embedding index will be all-zeros\n",
    "            embedding_matrix[i] = embedding_vector"
   ]
  },
  {
   "attachments": {},
   "cell_type": "markdown",
   "id": "faede54f",
   "metadata": {},
   "source": [
    "Building a model"
   ]
  },
  {
   "cell_type": "code",
   "execution_count": 37,
   "id": "c21f804b",
   "metadata": {},
   "outputs": [
    {
     "name": "stdout",
     "output_type": "stream",
     "text": [
      "Model: \"sequential_10\"\n",
      "_________________________________________________________________\n",
      " Layer (type)                Output Shape              Param #   \n",
      "=================================================================\n",
      " embedding (Embedding)       (None, 1000, 100)         22400     \n",
      "                                                                 \n",
      " flatten (Flatten)           (None, 100000)            0         \n",
      "                                                                 \n",
      " dense_30 (Dense)            (None, 64)                6400064   \n",
      "                                                                 \n",
      " dense_31 (Dense)            (None, 15)                975       \n",
      "                                                                 \n",
      "=================================================================\n",
      "Total params: 6,423,439\n",
      "Trainable params: 6,423,439\n",
      "Non-trainable params: 0\n",
      "_________________________________________________________________\n"
     ]
    }
   ],
   "source": [
    "from tensorflow.keras.models import Sequential\n",
    "from tensorflow.keras.layers import Embedding, Flatten, Dense\n",
    "\n",
    "maxlen = 1000\n",
    "\n",
    "model = Sequential()\n",
    "model.add(Embedding(max_words, embedding_dim, input_length=maxlen))\n",
    "model.add(Flatten())\n",
    "model.add(Dense(64, activation='relu'))\n",
    "model.add(Dense(15, activation='sigmoid'))\n",
    "model.summary()"
   ]
  },
  {
   "attachments": {},
   "cell_type": "markdown",
   "id": "5a1cc795",
   "metadata": {},
   "source": [
    "loading the embeddings into the model"
   ]
  },
  {
   "cell_type": "code",
   "execution_count": 38,
   "id": "1c9d42e6",
   "metadata": {},
   "outputs": [],
   "source": [
    "model.layers[0].set_weights([embedding_matrix])\n",
    "model.layers[0].trainable = False"
   ]
  },
  {
   "attachments": {},
   "cell_type": "markdown",
   "id": "c9a83ff4",
   "metadata": {},
   "source": [
    "train model"
   ]
  },
  {
   "cell_type": "code",
   "execution_count": 39,
   "id": "16c6fdeb",
   "metadata": {},
   "outputs": [
    {
     "name": "stdout",
     "output_type": "stream",
     "text": [
      "Epoch 1/10\n"
     ]
    },
    {
     "name": "stdout",
     "output_type": "stream",
     "text": [
      "5/5 [==============================] - 1s 59ms/step - loss: 0.6389 - acc: 0.3237 - val_loss: 0.5206 - val_acc: 0.5500\n",
      "Epoch 2/10\n",
      "5/5 [==============================] - 0s 26ms/step - loss: 0.4642 - acc: 0.6259 - val_loss: 0.3929 - val_acc: 0.6000\n",
      "Epoch 3/10\n",
      "5/5 [==============================] - 0s 27ms/step - loss: 0.3444 - acc: 0.7122 - val_loss: 0.3185 - val_acc: 0.6750\n",
      "Epoch 4/10\n",
      "5/5 [==============================] - 0s 27ms/step - loss: 0.2693 - acc: 0.7914 - val_loss: 0.2677 - val_acc: 0.6750\n",
      "Epoch 5/10\n",
      "5/5 [==============================] - 0s 23ms/step - loss: 0.2172 - acc: 0.8345 - val_loss: 0.2351 - val_acc: 0.7000\n",
      "Epoch 6/10\n",
      "5/5 [==============================] - 0s 25ms/step - loss: 0.1809 - acc: 0.8561 - val_loss: 0.2113 - val_acc: 0.7000\n",
      "Epoch 7/10\n",
      "5/5 [==============================] - 0s 24ms/step - loss: 0.1527 - acc: 0.8561 - val_loss: 0.1947 - val_acc: 0.7000\n",
      "Epoch 8/10\n",
      "5/5 [==============================] - 0s 25ms/step - loss: 0.1315 - acc: 0.8777 - val_loss: 0.1820 - val_acc: 0.6750\n",
      "Epoch 9/10\n",
      "5/5 [==============================] - 0s 26ms/step - loss: 0.1135 - acc: 0.8849 - val_loss: 0.1711 - val_acc: 0.6500\n",
      "Epoch 10/10\n",
      "5/5 [==============================] - 0s 22ms/step - loss: 0.0991 - acc: 0.8993 - val_loss: 0.1639 - val_acc: 0.6500\n"
     ]
    }
   ],
   "source": [
    "model.compile(optimizer='rmsprop',\n",
    "              loss='binary_crossentropy',\n",
    "              metrics=['acc'])\n",
    "\n",
    "history = model.fit(train_data, train_labels,\n",
    "                    epochs=10,\n",
    "                    batch_size=32,\n",
    "                    validation_data=(val_data, val_labels))"
   ]
  },
  {
   "cell_type": "code",
   "execution_count": 40,
   "id": "5804748b",
   "metadata": {},
   "outputs": [
    {
     "data": {
      "image/png": "[encoded data removed]",
      "text/plain": [
       "<Figure size 640x480 with 1 Axes>"
      ]
     },
     "metadata": {},
     "output_type": "display_data"
    },
    {
     "data": {
      "image/png": "[encoded data removed]",
      "text/plain": [
       "<Figure size 640x480 with 1 Axes>"
      ]
     },
     "metadata": {},
     "output_type": "display_data"
    }
   ],
   "source": [
    "import matplotlib.pyplot as plt\n",
    "\n",
    "acc = history.history['acc']\n",
    "val_acc = history.history['val_acc']\n",
    "loss = history.history['loss']\n",
    "val_loss = history.history['val_loss']\n",
    "\n",
    "epochs = range(1, len(acc) + 1)\n",
    "\n",
    "plt.plot(epochs, acc, 'bo', label='Training acc')\n",
    "plt.plot(epochs, val_acc, 'b', label='Validation acc')\n",
    "plt.title('Training and validation accuracy')\n",
    "plt.legend()\n",
    "\n",
    "plt.figure()\n",
    "\n",
    "plt.plot(epochs, loss, 'bo', label='Training loss')\n",
    "plt.plot(epochs, val_loss, 'b', label='Validation loss')\n",
    "plt.title('Training and validation loss')\n",
    "plt.legend()\n",
    "\n",
    "plt.show()"
   ]
  },
  {
   "cell_type": "code",
   "execution_count": 41,
   "id": "221ea156",
   "metadata": {},
   "outputs": [
    {
     "name": "stdout",
     "output_type": "stream",
     "text": [
      "1/1 [==============================] - 0s 21ms/step - loss: 0.2296 - acc: 0.5000\n"
     ]
    },
    {
     "data": {
      "text/plain": [
       "[0.22955194115638733, 0.5]"
      ]
     },
     "execution_count": 41,
     "metadata": {},
     "output_type": "execute_result"
    }
   ],
   "source": [
    "model.evaluate(test_data, test_labels)"
   ]
  },
  {
   "attachments": {},
   "cell_type": "markdown",
   "id": "925941d8",
   "metadata": {},
   "source": [
    "The Glove Approach is performing a lot better than the previous approach, reaching an accuracy of 60 % for the test data."
   ]
  },
  {
   "attachments": {},
   "cell_type": "markdown",
   "id": "161b4a9a",
   "metadata": {},
   "source": [
    "Next steps in continuing with classyfing the contributions could be:\n",
    "\n",
    "- Clustering via Embeddings (nearest neighbour)\n",
    "- Add wrong contributions and additional \"non-sense\" classes for a more diverse dataset."
   ]
  }
 ],
 "metadata": {
  "kernelspec": {
   "display_name": "Python 3 (ipykernel)",
   "language": "python",
   "name": "python3"
  },
  "language_info": {
   "codemirror_mode": {
    "name": "ipython",
    "version": 3
   },
   "file_extension": ".py",
   "mimetype": "text/x-python",
   "name": "python",
   "nbconvert_exporter": "python",
   "pygments_lexer": "ipython3",
   "version": "3.8.16"
  }
 },
 "nbformat": 4,
 "nbformat_minor": 5
}
