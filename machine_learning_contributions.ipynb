{
 "cells": [
  {
   "cell_type": "markdown",
   "id": "58e374ae",
   "metadata": {},
   "source": [
    "# Classyfing the contributions\n",
    "\n",
    "Based on the assumption, that certain keywords are linked to specific classes of contribution, this notebook aimes to use Machine Learning to assign a contribution class to the description of the contribution which can be found within the documents and in the future should be extracted with the help of Fonduer.\n",
    "\n",
    "The following dataset was created manually by the Labelteam and transformed by Thorben for the purpose of ML. Every contribution is linked to a class_label."
   ]
  },
  {
   "cell_type": "code",
   "execution_count": 1,
   "id": "e420bc12",
   "metadata": {
    "scrolled": true
   },
   "outputs": [
    {
     "data": {
      "text/html": [
       "<div>\n",
       "<style scoped>\n",
       "    .dataframe tbody tr th:only-of-type {\n",
       "        vertical-align: middle;\n",
       "    }\n",
       "\n",
       "    .dataframe tbody tr th {\n",
       "        vertical-align: top;\n",
       "    }\n",
       "\n",
       "    .dataframe thead th {\n",
       "        text-align: right;\n",
       "    }\n",
       "</style>\n",
       "<table border=\"1\" class=\"dataframe\">\n",
       "  <thead>\n",
       "    <tr style=\"text-align: right;\">\n",
       "      <th></th>\n",
       "      <th>contribution</th>\n",
       "      <th>class_label</th>\n",
       "    </tr>\n",
       "  </thead>\n",
       "  <tbody>\n",
       "    <tr>\n",
       "      <th>0</th>\n",
       "      <td>analysed data</td>\n",
       "      <td>Formal analysis</td>\n",
       "    </tr>\n",
       "    <tr>\n",
       "      <th>1</th>\n",
       "      <td>analysed experiments</td>\n",
       "      <td>Formal analysis</td>\n",
       "    </tr>\n",
       "    <tr>\n",
       "      <th>2</th>\n",
       "      <td>analysed the data collection</td>\n",
       "      <td>Formal analysis</td>\n",
       "    </tr>\n",
       "    <tr>\n",
       "      <th>3</th>\n",
       "      <td>analysed transcriptomic</td>\n",
       "      <td>Formal analysis</td>\n",
       "    </tr>\n",
       "    <tr>\n",
       "      <th>4</th>\n",
       "      <td>analyzed data</td>\n",
       "      <td>Formal analysis</td>\n",
       "    </tr>\n",
       "    <tr>\n",
       "      <th>...</th>\n",
       "      <td>...</td>\n",
       "      <td>...</td>\n",
       "    </tr>\n",
       "    <tr>\n",
       "      <th>194</th>\n",
       "      <td>wrote manuscript draft</td>\n",
       "      <td>Writing - original draft</td>\n",
       "    </tr>\n",
       "    <tr>\n",
       "      <th>195</th>\n",
       "      <td>wrote paper</td>\n",
       "      <td>Writing - original draft</td>\n",
       "    </tr>\n",
       "    <tr>\n",
       "      <th>196</th>\n",
       "      <td>wrote programm</td>\n",
       "      <td>Software</td>\n",
       "    </tr>\n",
       "    <tr>\n",
       "      <th>197</th>\n",
       "      <td>wrote R package for data fittting</td>\n",
       "      <td>Software</td>\n",
       "    </tr>\n",
       "    <tr>\n",
       "      <th>198</th>\n",
       "      <td>wrote software</td>\n",
       "      <td>Software</td>\n",
       "    </tr>\n",
       "  </tbody>\n",
       "</table>\n",
       "<p>199 rows × 2 columns</p>\n",
       "</div>"
      ],
      "text/plain": [
       "                          contribution               class_label\n",
       "0                        analysed data           Formal analysis\n",
       "1                 analysed experiments           Formal analysis\n",
       "2         analysed the data collection           Formal analysis\n",
       "3              analysed transcriptomic           Formal analysis\n",
       "4                        analyzed data           Formal analysis\n",
       "..                                 ...                       ...\n",
       "194             wrote manuscript draft  Writing - original draft\n",
       "195                        wrote paper  Writing - original draft\n",
       "196                     wrote programm                  Software\n",
       "197  wrote R package for data fittting                  Software\n",
       "198                     wrote software                  Software\n",
       "\n",
       "[199 rows x 2 columns]"
      ]
     },
     "execution_count": 1,
     "metadata": {},
     "output_type": "execute_result"
    }
   ],
   "source": [
    "import pandas as pd\n",
    "\n",
    "data = pd.read_excel(\"./labeled_contribution_samples.xlsx\")\n",
    "\n",
    "data"
   ]
  },
  {
   "cell_type": "code",
   "execution_count": 2,
   "id": "4860329f",
   "metadata": {},
   "outputs": [],
   "source": [
    "import numpy as np\n",
    "label_dict = dict(enumerate(np.sort(data.class_label.unique()).flatten(),0))"
   ]
  },
  {
   "cell_type": "markdown",
   "id": "a957bdd1",
   "metadata": {},
   "source": [
    "There are 15 class labels available:"
   ]
  },
  {
   "cell_type": "code",
   "execution_count": 3,
   "id": "3e89ac4d",
   "metadata": {},
   "outputs": [
    {
     "data": {
      "text/plain": [
       "{0: 'Conceptualization / Conceptualisation',\n",
       " 1: 'Data curation',\n",
       " 2: 'Formal analysis',\n",
       " 3: 'Investigation',\n",
       " 4: 'Methodology',\n",
       " 5: 'Project administration',\n",
       " 6: 'Resources',\n",
       " 7: 'Software',\n",
       " 8: 'Sonstiges',\n",
       " 9: 'Supervision',\n",
       " 10: 'Support',\n",
       " 11: 'Validation',\n",
       " 12: 'Visualization / Visualisation',\n",
       " 13: 'Writing - original draft',\n",
       " 14: 'Writing - review & editing'}"
      ]
     },
     "execution_count": 3,
     "metadata": {},
     "output_type": "execute_result"
    }
   ],
   "source": [
    "label_dict"
   ]
  },
  {
   "cell_type": "markdown",
   "id": "9a7b1ec1",
   "metadata": {},
   "source": [
    "Assign a code to the respective class_labels"
   ]
  },
  {
   "cell_type": "code",
   "execution_count": 4,
   "id": "4174595f",
   "metadata": {},
   "outputs": [],
   "source": [
    "label_df = pd.DataFrame.from_dict(label_dict, orient = 'index', columns = ['class_label']).reset_index(names = 'label_code')"
   ]
  },
  {
   "cell_type": "code",
   "execution_count": 5,
   "id": "f7302dab",
   "metadata": {},
   "outputs": [],
   "source": [
    "contributions_df = data.merge(label_df)"
   ]
  },
  {
   "cell_type": "markdown",
   "id": "3632bef1",
   "metadata": {},
   "source": [
    "Shuffle the dataset."
   ]
  },
  {
   "cell_type": "code",
   "execution_count": 6,
   "id": "33cb82ef",
   "metadata": {},
   "outputs": [
    {
     "data": {
      "text/html": [
       "<div>\n",
       "<style scoped>\n",
       "    .dataframe tbody tr th:only-of-type {\n",
       "        vertical-align: middle;\n",
       "    }\n",
       "\n",
       "    .dataframe tbody tr th {\n",
       "        vertical-align: top;\n",
       "    }\n",
       "\n",
       "    .dataframe thead th {\n",
       "        text-align: right;\n",
       "    }\n",
       "</style>\n",
       "<table border=\"1\" class=\"dataframe\">\n",
       "  <thead>\n",
       "    <tr style=\"text-align: right;\">\n",
       "      <th></th>\n",
       "      <th>contribution</th>\n",
       "      <th>class_label</th>\n",
       "      <th>label_code</th>\n",
       "    </tr>\n",
       "  </thead>\n",
       "  <tbody>\n",
       "    <tr>\n",
       "      <th>0</th>\n",
       "      <td>assisted analysis</td>\n",
       "      <td>Formal analysis</td>\n",
       "      <td>2</td>\n",
       "    </tr>\n",
       "    <tr>\n",
       "      <th>1</th>\n",
       "      <td>discussed findings</td>\n",
       "      <td>Investigation</td>\n",
       "      <td>3</td>\n",
       "    </tr>\n",
       "    <tr>\n",
       "      <th>2</th>\n",
       "      <td>performed experimental work</td>\n",
       "      <td>Investigation</td>\n",
       "      <td>3</td>\n",
       "    </tr>\n",
       "    <tr>\n",
       "      <th>3</th>\n",
       "      <td>provided main text for the section</td>\n",
       "      <td>Writing - original draft</td>\n",
       "      <td>13</td>\n",
       "    </tr>\n",
       "    <tr>\n",
       "      <th>4</th>\n",
       "      <td>aquire data</td>\n",
       "      <td>Data curation</td>\n",
       "      <td>1</td>\n",
       "    </tr>\n",
       "    <tr>\n",
       "      <th>...</th>\n",
       "      <td>...</td>\n",
       "      <td>...</td>\n",
       "      <td>...</td>\n",
       "    </tr>\n",
       "    <tr>\n",
       "      <th>194</th>\n",
       "      <td>provided methods</td>\n",
       "      <td>Resources</td>\n",
       "      <td>6</td>\n",
       "    </tr>\n",
       "    <tr>\n",
       "      <th>195</th>\n",
       "      <td>implemented task</td>\n",
       "      <td>Sonstiges</td>\n",
       "      <td>8</td>\n",
       "    </tr>\n",
       "    <tr>\n",
       "      <th>196</th>\n",
       "      <td>gave final approval for publication</td>\n",
       "      <td>Supervision</td>\n",
       "      <td>9</td>\n",
       "    </tr>\n",
       "    <tr>\n",
       "      <th>197</th>\n",
       "      <td>assisted in conducting experiments</td>\n",
       "      <td>Investigation</td>\n",
       "      <td>3</td>\n",
       "    </tr>\n",
       "    <tr>\n",
       "      <th>198</th>\n",
       "      <td>developed methodology of age-related analysis</td>\n",
       "      <td>Methodology</td>\n",
       "      <td>4</td>\n",
       "    </tr>\n",
       "  </tbody>\n",
       "</table>\n",
       "<p>199 rows × 3 columns</p>\n",
       "</div>"
      ],
      "text/plain": [
       "                                      contribution               class_label  \\\n",
       "0                                assisted analysis           Formal analysis   \n",
       "1                               discussed findings             Investigation   \n",
       "2                      performed experimental work             Investigation   \n",
       "3               provided main text for the section  Writing - original draft   \n",
       "4                                      aquire data             Data curation   \n",
       "..                                             ...                       ...   \n",
       "194                               provided methods                 Resources   \n",
       "195                               implemented task                 Sonstiges   \n",
       "196            gave final approval for publication               Supervision   \n",
       "197             assisted in conducting experiments             Investigation   \n",
       "198  developed methodology of age-related analysis               Methodology   \n",
       "\n",
       "     label_code  \n",
       "0             2  \n",
       "1             3  \n",
       "2             3  \n",
       "3            13  \n",
       "4             1  \n",
       "..          ...  \n",
       "194           6  \n",
       "195           8  \n",
       "196           9  \n",
       "197           3  \n",
       "198           4  \n",
       "\n",
       "[199 rows x 3 columns]"
      ]
     },
     "execution_count": 6,
     "metadata": {},
     "output_type": "execute_result"
    }
   ],
   "source": [
    "contributions_df_shuffled = contributions_df.sample(frac=1).reset_index(drop=True)\n",
    "contributions_df_shuffled"
   ]
  },
  {
   "cell_type": "markdown",
   "id": "a256c719",
   "metadata": {},
   "source": [
    "Hot encoding of words in contribution"
   ]
  },
  {
   "cell_type": "code",
   "execution_count": 7,
   "id": "6e153e0a",
   "metadata": {},
   "outputs": [
    {
     "name": "stdout",
     "output_type": "stream",
     "text": [
      "Found 223 unique tokens.\n"
     ]
    }
   ],
   "source": [
    "from tensorflow.keras.preprocessing.text import Tokenizer\n",
    "\n",
    "contributions_list = contributions_df_shuffled[\"contribution\"].to_list()\n",
    "\n",
    "# create a tokenizer, configured to only take the top N=1000 most common words\n",
    "tokenizer = Tokenizer(num_words=1000)\n",
    "# this builds the word index\n",
    "tokenizer.fit_on_texts(contributions_list)\n",
    "\n",
    "# this turns strings into lists of integer indices\n",
    "sequences = tokenizer.texts_to_sequences(contributions_list)\n",
    "\n",
    "# directly get the one-hot binary representation\n",
    "one_hot_results = tokenizer.texts_to_matrix(contributions_list, mode='binary') \n",
    "\n",
    "# recover the word index that was computed\n",
    "word_index = tokenizer.word_index\n",
    "print('Found %s unique tokens.' % len(word_index))"
   ]
  },
  {
   "cell_type": "markdown",
   "id": "851fe057",
   "metadata": {},
   "source": [
    "Create datasets for training, validating and testing. \n",
    "  \n",
    "70 % / 20 % / 10 %"
   ]
  },
  {
   "cell_type": "code",
   "execution_count": 8,
   "id": "b7ce3213",
   "metadata": {},
   "outputs": [],
   "source": [
    "from tensorflow.keras.utils import to_categorical\n",
    "\n",
    "# where to slice the dataset:\n",
    "train_size = int(round(0.7 * contributions_df_shuffled.shape[0],0))\n",
    "val_size = int(round(0.2 * contributions_df_shuffled.shape[0],0))\n",
    "test_size = int(round(0.1 * contributions_df_shuffled.shape[0],0))\n",
    "\n",
    "# slice data\n",
    "train_data = one_hot_results[:train_size]\n",
    "val_data = one_hot_results[train_size:train_size + val_size]\n",
    "test_data = one_hot_results[train_size+val_size:]\n",
    "\n",
    "# slice labels\n",
    "train_labels = to_categorical(contributions_df_shuffled.label_code)[:train_size]\n",
    "val_labels = to_categorical(contributions_df_shuffled.label_code)[train_size:train_size + val_size]\n",
    "test_labels = to_categorical(contributions_df_shuffled.label_code)[train_size+val_size:]"
   ]
  },
  {
   "cell_type": "code",
   "execution_count": 9,
   "id": "b3723dd5",
   "metadata": {},
   "outputs": [
    {
     "data": {
      "text/plain": [
       "15"
      ]
     },
     "execution_count": 9,
     "metadata": {},
     "output_type": "execute_result"
    }
   ],
   "source": [
    "len(train_labels[0])"
   ]
  },
  {
   "cell_type": "markdown",
   "id": "75e4fc1c",
   "metadata": {},
   "source": [
    "### Simple ANN model\n"
   ]
  },
  {
   "cell_type": "markdown",
   "id": "39f67925",
   "metadata": {},
   "source": [
    "Building a first really simple model"
   ]
  },
  {
   "cell_type": "code",
   "execution_count": 10,
   "id": "e1af37f2",
   "metadata": {},
   "outputs": [],
   "source": [
    "from tensorflow.keras import models\n",
    "from tensorflow.keras import layers\n",
    "\n",
    "model = models.Sequential()\n",
    "\n",
    "model.add(layers.Dense(64, activation='relu', input_shape=(1000,)))\n",
    "model.add(layers.Dense(64, activation='relu', input_shape=(1000,)))\n",
    "model.add(layers.Dense(15, activation='softmax'))\n",
    "\n",
    "model.compile(optimizer='rmsprop', loss='binary_crossentropy', metrics=['accuracy'])"
   ]
  },
  {
   "cell_type": "markdown",
   "id": "02de09b4",
   "metadata": {},
   "source": [
    "Training the ANN for 20 epochs with batch_size=512 and use the history object."
   ]
  },
  {
   "cell_type": "code",
   "execution_count": 11,
   "id": "c3f4c57f",
   "metadata": {},
   "outputs": [
    {
     "name": "stdout",
     "output_type": "stream",
     "text": [
      "Epoch 1/20\n",
      "1/1 [==============================] - 1s 1s/step - loss: 0.6916 - accuracy: 0.1295 - val_loss: 0.6805 - val_accuracy: 0.0750\n",
      "Epoch 2/20\n",
      "1/1 [==============================] - 0s 59ms/step - loss: 0.6791 - accuracy: 0.2014 - val_loss: 0.6717 - val_accuracy: 0.0750\n",
      "Epoch 3/20\n",
      "1/1 [==============================] - 0s 50ms/step - loss: 0.6692 - accuracy: 0.2230 - val_loss: 0.6629 - val_accuracy: 0.1500\n",
      "Epoch 4/20\n",
      "1/1 [==============================] - 0s 53ms/step - loss: 0.6594 - accuracy: 0.2374 - val_loss: 0.6537 - val_accuracy: 0.1500\n",
      "Epoch 5/20\n",
      "1/1 [==============================] - 0s 54ms/step - loss: 0.6491 - accuracy: 0.2662 - val_loss: 0.6438 - val_accuracy: 0.2000\n",
      "Epoch 6/20\n",
      "1/1 [==============================] - 0s 54ms/step - loss: 0.6382 - accuracy: 0.2590 - val_loss: 0.6331 - val_accuracy: 0.2000\n",
      "Epoch 7/20\n",
      "1/1 [==============================] - 0s 53ms/step - loss: 0.6265 - accuracy: 0.2878 - val_loss: 0.6216 - val_accuracy: 0.2250\n",
      "Epoch 8/20\n",
      "1/1 [==============================] - 0s 54ms/step - loss: 0.6139 - accuracy: 0.2950 - val_loss: 0.6092 - val_accuracy: 0.2250\n",
      "Epoch 9/20\n",
      "1/1 [==============================] - 0s 54ms/step - loss: 0.6004 - accuracy: 0.3022 - val_loss: 0.5959 - val_accuracy: 0.2250\n",
      "Epoch 10/20\n",
      "1/1 [==============================] - 0s 56ms/step - loss: 0.5859 - accuracy: 0.2950 - val_loss: 0.5819 - val_accuracy: 0.2250\n",
      "Epoch 11/20\n",
      "1/1 [==============================] - 0s 53ms/step - loss: 0.5708 - accuracy: 0.2950 - val_loss: 0.5673 - val_accuracy: 0.2000\n",
      "Epoch 12/20\n",
      "1/1 [==============================] - 0s 55ms/step - loss: 0.5550 - accuracy: 0.2950 - val_loss: 0.5520 - val_accuracy: 0.2000\n",
      "Epoch 13/20\n",
      "1/1 [==============================] - 0s 55ms/step - loss: 0.5386 - accuracy: 0.2950 - val_loss: 0.5363 - val_accuracy: 0.2000\n",
      "Epoch 14/20\n",
      "1/1 [==============================] - 0s 54ms/step - loss: 0.5218 - accuracy: 0.2878 - val_loss: 0.5203 - val_accuracy: 0.2000\n",
      "Epoch 15/20\n",
      "1/1 [==============================] - 0s 55ms/step - loss: 0.5046 - accuracy: 0.2878 - val_loss: 0.5041 - val_accuracy: 0.2000\n",
      "Epoch 16/20\n",
      "1/1 [==============================] - 0s 57ms/step - loss: 0.4873 - accuracy: 0.2950 - val_loss: 0.4880 - val_accuracy: 0.2000\n",
      "Epoch 17/20\n",
      "1/1 [==============================] - 0s 56ms/step - loss: 0.4700 - accuracy: 0.2878 - val_loss: 0.4720 - val_accuracy: 0.2000\n",
      "Epoch 18/20\n",
      "1/1 [==============================] - 0s 54ms/step - loss: 0.4529 - accuracy: 0.2878 - val_loss: 0.4562 - val_accuracy: 0.2000\n",
      "Epoch 19/20\n",
      "1/1 [==============================] - 0s 51ms/step - loss: 0.4360 - accuracy: 0.2878 - val_loss: 0.4407 - val_accuracy: 0.2000\n",
      "Epoch 20/20\n",
      "1/1 [==============================] - 0s 52ms/step - loss: 0.4196 - accuracy: 0.2878 - val_loss: 0.4258 - val_accuracy: 0.1750\n"
     ]
    }
   ],
   "source": [
    "history = model.fit(train_data,\n",
    "                    train_labels,\n",
    "                    epochs=20,\n",
    "                    batch_size=512,\n",
    "                    validation_data=(val_data, val_labels))"
   ]
  },
  {
   "cell_type": "code",
   "execution_count": 12,
   "id": "a10f74d6",
   "metadata": {},
   "outputs": [
    {
     "data": {
      "text/plain": [
       "dict_keys(['loss', 'accuracy', 'val_loss', 'val_accuracy'])"
      ]
     },
     "execution_count": 12,
     "metadata": {},
     "output_type": "execute_result"
    }
   ],
   "source": [
    "history.history.keys()"
   ]
  },
  {
   "cell_type": "markdown",
   "id": "35b70a6a",
   "metadata": {},
   "source": [
    "Visualize the loss and accuracy by using pyplot."
   ]
  },
  {
   "cell_type": "code",
   "execution_count": 13,
   "id": "ffa4db9c",
   "metadata": {},
   "outputs": [
    {
     "data": {
      "image/png": "[encoded data removed]",
      "text/plain": [
       "<Figure size 640x480 with 1 Axes>"
      ]
     },
     "metadata": {},
     "output_type": "display_data"
    }
   ],
   "source": [
    "import matplotlib.pyplot as plt\n",
    "\n",
    "loss = history.history['loss']\n",
    "val_loss = history.history['val_loss']\n",
    "\n",
    "epochs = range(1, len(loss) + 1)\n",
    "\n",
    "plt.plot(epochs, loss, 'bo', label='training loss')\n",
    "plt.plot(epochs, val_loss, 'b', label='validation loss')\n",
    "plt.title('training / validation loss')\n",
    "plt.xlabel('epochs')\n",
    "plt.ylabel('loss')\n",
    "plt.legend()\n",
    "\n",
    "plt.show()"
   ]
  },
  {
   "cell_type": "code",
   "execution_count": 14,
   "id": "a1e294a9",
   "metadata": {},
   "outputs": [
    {
     "data": {
      "image/png": "[encoded data removed]",
      "text/plain": [
       "<Figure size 640x480 with 1 Axes>"
      ]
     },
     "metadata": {},
     "output_type": "display_data"
    }
   ],
   "source": [
    "plt.clf()\n",
    "\n",
    "acc = history.history['accuracy']\n",
    "val_acc = history.history['val_accuracy']\n",
    "\n",
    "plt.plot(epochs, acc, 'bo', label='training acc')\n",
    "plt.plot(epochs, val_acc, 'b', label='validation acc')\n",
    "plt.title('training / validation accuracy')\n",
    "plt.xlabel('epochs')\n",
    "plt.ylabel('accuracy)\n",
    "plt.legend()\n",
    "\n",
    "plt.show()"
   ]
  },
  {
   "cell_type": "code",
   "execution_count": 15,
   "id": "41fc0c76",
   "metadata": {},
   "outputs": [
    {
     "name": "stdout",
     "output_type": "stream",
     "text": [
      "1/1 [==============================] - 0s 26ms/step - loss: 0.4299 - accuracy: 0.2500\n"
     ]
    }
   ],
   "source": [
    "results = model.evaluate(test_data, test_labels)"
   ]
  },
  {
   "cell_type": "code",
   "execution_count": 16,
   "id": "653a92dc",
   "metadata": {
    "scrolled": true
   },
   "outputs": [
    {
     "data": {
      "text/plain": [
       "[0.42987972497940063, 0.25]"
      ]
     },
     "execution_count": 16,
     "metadata": {},
     "output_type": "execute_result"
    }
   ],
   "source": [
    "results"
   ]
  },
  {
   "cell_type": "markdown",
   "id": "8657d864",
   "metadata": {},
   "source": [
    "The performance of this really simple model is not great, with an accuracy of 25 % for the test data. Lets add some parameter testing."
   ]
  },
  {
   "cell_type": "code",
   "execution_count": 17,
   "id": "0d74f7fc",
   "metadata": {},
   "outputs": [],
   "source": [
    "test_plan = {}\n",
    "test_plan[0] = {\"n_units\": 32, \"n_hidden_layers\": 1}\n",
    "test_plan[1] = {\"n_units\": 32, \"n_hidden_layers\": 2}\n",
    "test_plan[2] = {\"n_units\": 32, \"n_hidden_layers\": 3}\n",
    "test_plan[3] = {\"n_units\": 64, \"n_hidden_layers\": 1}\n",
    "test_plan[4] = {\"n_units\": 64, \"n_hidden_layers\": 2}\n",
    "test_plan[5] = {\"n_units\": 64, \"n_hidden_layers\": 3}\n",
    "test_plan[6] = {\"n_units\": 128, \"n_hidden_layers\": 1}\n",
    "test_plan[7] = {\"n_units\": 128, \"n_hidden_layers\": 2}\n",
    "test_plan[8] = {\"n_units\": 128, \"n_hidden_layers\": 3}"
   ]
  },
  {
   "cell_type": "code",
   "execution_count": 18,
   "id": "a7847fcf",
   "metadata": {},
   "outputs": [
    {
     "name": "stdout",
     "output_type": "stream",
     "text": [
      "Epoch 1/10\n",
      "1/1 [==============================] - 1s 893ms/step - loss: 0.6903 - accuracy: 0.1295 - val_loss: 0.6845 - val_accuracy: 0.1750\n",
      "Epoch 2/10\n",
      "1/1 [==============================] - 0s 61ms/step - loss: 0.6839 - accuracy: 0.1583 - val_loss: 0.6801 - val_accuracy: 0.1750\n",
      "Epoch 3/10\n",
      "1/1 [==============================] - 0s 92ms/step - loss: 0.6790 - accuracy: 0.1655 - val_loss: 0.6761 - val_accuracy: 0.2000\n",
      "Epoch 4/10\n",
      "1/1 [==============================] - 0s 54ms/step - loss: 0.6746 - accuracy: 0.1655 - val_loss: 0.6725 - val_accuracy: 0.1750\n",
      "Epoch 5/10\n",
      "1/1 [==============================] - 0s 57ms/step - loss: 0.6705 - accuracy: 0.1799 - val_loss: 0.6689 - val_accuracy: 0.1750\n",
      "Epoch 6/10\n",
      "1/1 [==============================] - 0s 50ms/step - loss: 0.6666 - accuracy: 0.2014 - val_loss: 0.6654 - val_accuracy: 0.2000\n",
      "Epoch 7/10\n",
      "1/1 [==============================] - 0s 51ms/step - loss: 0.6628 - accuracy: 0.2086 - val_loss: 0.6620 - val_accuracy: 0.2000\n",
      "Epoch 8/10\n",
      "1/1 [==============================] - 0s 52ms/step - loss: 0.6591 - accuracy: 0.2158 - val_loss: 0.6586 - val_accuracy: 0.2000\n",
      "Epoch 9/10\n",
      "1/1 [==============================] - 0s 51ms/step - loss: 0.6553 - accuracy: 0.2086 - val_loss: 0.6553 - val_accuracy: 0.2000\n",
      "Epoch 10/10\n",
      "1/1 [==============================] - 0s 50ms/step - loss: 0.6516 - accuracy: 0.2158 - val_loss: 0.6519 - val_accuracy: 0.2000\n",
      "1/1 [==============================] - 0s 40ms/step - loss: 0.6552 - accuracy: 0.1500\n",
      "Epoch 1/10\n",
      "1/1 [==============================] - 1s 994ms/step - loss: 0.6913 - accuracy: 0.0216 - val_loss: 0.6861 - val_accuracy: 0.0750\n",
      "Epoch 2/10\n",
      "1/1 [==============================] - 0s 53ms/step - loss: 0.6848 - accuracy: 0.0504 - val_loss: 0.6818 - val_accuracy: 0.0750\n",
      "Epoch 3/10\n",
      "1/1 [==============================] - 0s 50ms/step - loss: 0.6797 - accuracy: 0.0576 - val_loss: 0.6778 - val_accuracy: 0.0500\n",
      "Epoch 4/10\n",
      "1/1 [==============================] - 0s 48ms/step - loss: 0.6750 - accuracy: 0.0647 - val_loss: 0.6737 - val_accuracy: 0.0500\n",
      "Epoch 5/10\n",
      "1/1 [==============================] - 0s 50ms/step - loss: 0.6703 - accuracy: 0.0576 - val_loss: 0.6696 - val_accuracy: 0.0500\n",
      "Epoch 6/10\n",
      "1/1 [==============================] - 0s 50ms/step - loss: 0.6655 - accuracy: 0.0576 - val_loss: 0.6653 - val_accuracy: 0.0500\n",
      "Epoch 7/10\n",
      "1/1 [==============================] - 0s 49ms/step - loss: 0.6606 - accuracy: 0.0576 - val_loss: 0.6608 - val_accuracy: 0.0500\n",
      "Epoch 8/10\n",
      "1/1 [==============================] - 0s 47ms/step - loss: 0.6555 - accuracy: 0.0576 - val_loss: 0.6562 - val_accuracy: 0.0500\n",
      "Epoch 9/10\n",
      "1/1 [==============================] - 0s 49ms/step - loss: 0.6502 - accuracy: 0.0647 - val_loss: 0.6513 - val_accuracy: 0.0500\n",
      "Epoch 10/10\n",
      "1/1 [==============================] - 0s 50ms/step - loss: 0.6447 - accuracy: 0.0719 - val_loss: 0.6463 - val_accuracy: 0.0500\n",
      "1/1 [==============================] - 0s 41ms/step - loss: 0.6434 - accuracy: 0.0500\n",
      "Epoch 1/10\n",
      "1/1 [==============================] - 1s 1s/step - loss: 0.6943 - accuracy: 0.1223 - val_loss: 0.6892 - val_accuracy: 0.0500\n",
      "Epoch 2/10\n",
      "1/1 [==============================] - 0s 53ms/step - loss: 0.6889 - accuracy: 0.1223 - val_loss: 0.6854 - val_accuracy: 0.1000\n",
      "Epoch 3/10\n",
      "1/1 [==============================] - 0s 50ms/step - loss: 0.6843 - accuracy: 0.1439 - val_loss: 0.6812 - val_accuracy: 0.1250\n",
      "Epoch 4/10\n",
      "1/1 [==============================] - 0s 47ms/step - loss: 0.6794 - accuracy: 0.1655 - val_loss: 0.6766 - val_accuracy: 0.1500\n",
      "Epoch 5/10\n",
      "1/1 [==============================] - 0s 50ms/step - loss: 0.6742 - accuracy: 0.1799 - val_loss: 0.6717 - val_accuracy: 0.1500\n",
      "Epoch 6/10\n",
      "1/1 [==============================] - 0s 51ms/step - loss: 0.6687 - accuracy: 0.2014 - val_loss: 0.6665 - val_accuracy: 0.1500\n",
      "Epoch 7/10\n",
      "1/1 [==============================] - 0s 51ms/step - loss: 0.6629 - accuracy: 0.2158 - val_loss: 0.6610 - val_accuracy: 0.1750\n",
      "Epoch 8/10\n",
      "1/1 [==============================] - 0s 53ms/step - loss: 0.6567 - accuracy: 0.2374 - val_loss: 0.6552 - val_accuracy: 0.1750\n",
      "Epoch 9/10\n",
      "1/1 [==============================] - 0s 55ms/step - loss: 0.6502 - accuracy: 0.2374 - val_loss: 0.6490 - val_accuracy: 0.1750\n",
      "Epoch 10/10\n",
      "1/1 [==============================] - 0s 50ms/step - loss: 0.6433 - accuracy: 0.2590 - val_loss: 0.6426 - val_accuracy: 0.1750\n",
      "1/1 [==============================] - 0s 40ms/step - loss: 0.6393 - accuracy: 0.3500\n",
      "Epoch 1/10\n",
      "1/1 [==============================] - 1s 1s/step - loss: 0.7018 - accuracy: 0.1007 - val_loss: 0.6914 - val_accuracy: 0.0500\n",
      "Epoch 2/10\n",
      "1/1 [==============================] - 0s 49ms/step - loss: 0.6910 - accuracy: 0.1367 - val_loss: 0.6851 - val_accuracy: 0.1000\n",
      "Epoch 3/10\n",
      "1/1 [==============================] - 0s 47ms/step - loss: 0.6835 - accuracy: 0.1511 - val_loss: 0.6797 - val_accuracy: 0.1250\n",
      "Epoch 4/10\n",
      "1/1 [==============================] - 0s 47ms/step - loss: 0.6773 - accuracy: 0.1439 - val_loss: 0.6747 - val_accuracy: 0.1750\n",
      "Epoch 5/10\n",
      "1/1 [==============================] - 0s 48ms/step - loss: 0.6716 - accuracy: 0.1727 - val_loss: 0.6700 - val_accuracy: 0.1750\n",
      "Epoch 6/10\n",
      "1/1 [==============================] - 0s 48ms/step - loss: 0.6663 - accuracy: 0.1942 - val_loss: 0.6654 - val_accuracy: 0.1750\n",
      "Epoch 7/10\n",
      "1/1 [==============================] - 0s 49ms/step - loss: 0.6611 - accuracy: 0.2014 - val_loss: 0.6609 - val_accuracy: 0.1750\n",
      "Epoch 8/10\n",
      "1/1 [==============================] - 0s 51ms/step - loss: 0.6560 - accuracy: 0.2086 - val_loss: 0.6564 - val_accuracy: 0.2000\n",
      "Epoch 9/10\n",
      "1/1 [==============================] - 0s 60ms/step - loss: 0.6509 - accuracy: 0.2230 - val_loss: 0.6520 - val_accuracy: 0.2000\n",
      "Epoch 10/10\n",
      "1/1 [==============================] - 0s 49ms/step - loss: 0.6459 - accuracy: 0.2446 - val_loss: 0.6475 - val_accuracy: 0.2000\n",
      "1/1 [==============================] - 0s 37ms/step - loss: 0.6491 - accuracy: 0.1000\n",
      "Epoch 1/10\n",
      "1/1 [==============================] - 1s 988ms/step - loss: 0.6959 - accuracy: 0.0360 - val_loss: 0.6848 - val_accuracy: 0.0500\n",
      "Epoch 2/10\n",
      "1/1 [==============================] - 0s 51ms/step - loss: 0.6840 - accuracy: 0.0288 - val_loss: 0.6768 - val_accuracy: 0.0500\n",
      "Epoch 3/10\n",
      "1/1 [==============================] - 0s 60ms/step - loss: 0.6750 - accuracy: 0.0647 - val_loss: 0.6691 - val_accuracy: 0.0500\n",
      "Epoch 4/10\n",
      "1/1 [==============================] - 0s 53ms/step - loss: 0.6666 - accuracy: 0.0576 - val_loss: 0.6612 - val_accuracy: 0.0250\n",
      "Epoch 5/10\n",
      "1/1 [==============================] - 0s 57ms/step - loss: 0.6580 - accuracy: 0.0432 - val_loss: 0.6529 - val_accuracy: 0.0250\n",
      "Epoch 6/10\n",
      "1/1 [==============================] - 0s 55ms/step - loss: 0.6491 - accuracy: 0.0360 - val_loss: 0.6440 - val_accuracy: 0.0250\n",
      "Epoch 7/10\n",
      "1/1 [==============================] - 0s 51ms/step - loss: 0.6396 - accuracy: 0.0360 - val_loss: 0.6346 - val_accuracy: 0.0250\n",
      "Epoch 8/10\n",
      "1/1 [==============================] - 0s 52ms/step - loss: 0.6296 - accuracy: 0.0504 - val_loss: 0.6246 - val_accuracy: 0.0500\n",
      "Epoch 9/10\n",
      "1/1 [==============================] - 0s 51ms/step - loss: 0.6190 - accuracy: 0.0576 - val_loss: 0.6139 - val_accuracy: 0.0500\n",
      "Epoch 10/10\n",
      "1/1 [==============================] - 0s 58ms/step - loss: 0.6076 - accuracy: 0.0719 - val_loss: 0.6027 - val_accuracy: 0.0500\n",
      "1/1 [==============================] - 0s 44ms/step - loss: 0.6046 - accuracy: 0.0500\n",
      "Epoch 1/10\n",
      "1/1 [==============================] - 1s 1s/step - loss: 0.6964 - accuracy: 0.0432 - val_loss: 0.6869 - val_accuracy: 0.0750\n",
      "Epoch 2/10\n",
      "1/1 [==============================] - 0s 53ms/step - loss: 0.6864 - accuracy: 0.0504 - val_loss: 0.6788 - val_accuracy: 0.0750\n",
      "Epoch 3/10\n",
      "1/1 [==============================] - 0s 52ms/step - loss: 0.6778 - accuracy: 0.0576 - val_loss: 0.6693 - val_accuracy: 0.0750\n",
      "Epoch 4/10\n",
      "1/1 [==============================] - 0s 56ms/step - loss: 0.6678 - accuracy: 0.0576 - val_loss: 0.6583 - val_accuracy: 0.0750\n",
      "Epoch 5/10\n",
      "1/1 [==============================] - 0s 52ms/step - loss: 0.6563 - accuracy: 0.0576 - val_loss: 0.6459 - val_accuracy: 0.0750\n",
      "Epoch 6/10\n",
      "1/1 [==============================] - 0s 54ms/step - loss: 0.6433 - accuracy: 0.0576 - val_loss: 0.6322 - val_accuracy: 0.0750\n"
     ]
    },
    {
     "name": "stdout",
     "output_type": "stream",
     "text": [
      "Epoch 7/10\n",
      "1/1 [==============================] - 0s 56ms/step - loss: 0.6290 - accuracy: 0.0576 - val_loss: 0.6173 - val_accuracy: 0.0750\n",
      "Epoch 8/10\n",
      "1/1 [==============================] - 0s 54ms/step - loss: 0.6133 - accuracy: 0.0576 - val_loss: 0.6010 - val_accuracy: 0.0750\n",
      "Epoch 9/10\n",
      "1/1 [==============================] - 0s 51ms/step - loss: 0.5963 - accuracy: 0.0576 - val_loss: 0.5835 - val_accuracy: 0.0750\n",
      "Epoch 10/10\n",
      "1/1 [==============================] - 0s 59ms/step - loss: 0.5779 - accuracy: 0.0576 - val_loss: 0.5647 - val_accuracy: 0.0750\n",
      "1/1 [==============================] - 0s 46ms/step - loss: 0.5690 - accuracy: 0.1000\n",
      "Epoch 1/10\n",
      "1/1 [==============================] - 1s 1s/step - loss: 0.6911 - accuracy: 0.0288 - val_loss: 0.6797 - val_accuracy: 0.0000e+00\n",
      "Epoch 2/10\n",
      "1/1 [==============================] - 0s 49ms/step - loss: 0.6751 - accuracy: 0.0576 - val_loss: 0.6695 - val_accuracy: 0.0000e+00\n",
      "Epoch 3/10\n",
      "1/1 [==============================] - 0s 51ms/step - loss: 0.6633 - accuracy: 0.1079 - val_loss: 0.6605 - val_accuracy: 0.0000e+00\n",
      "Epoch 4/10\n",
      "1/1 [==============================] - 0s 53ms/step - loss: 0.6528 - accuracy: 0.1151 - val_loss: 0.6520 - val_accuracy: 0.0000e+00\n",
      "Epoch 5/10\n",
      "1/1 [==============================] - 0s 52ms/step - loss: 0.6430 - accuracy: 0.1439 - val_loss: 0.6437 - val_accuracy: 0.0000e+00\n",
      "Epoch 6/10\n",
      "1/1 [==============================] - 0s 52ms/step - loss: 0.6335 - accuracy: 0.1511 - val_loss: 0.6355 - val_accuracy: 0.0000e+00\n",
      "Epoch 7/10\n",
      "1/1 [==============================] - 0s 51ms/step - loss: 0.6241 - accuracy: 0.1871 - val_loss: 0.6273 - val_accuracy: 0.0000e+00\n",
      "Epoch 8/10\n",
      "1/1 [==============================] - 0s 57ms/step - loss: 0.6148 - accuracy: 0.1871 - val_loss: 0.6191 - val_accuracy: 0.0000e+00\n",
      "Epoch 9/10\n",
      "1/1 [==============================] - 0s 50ms/step - loss: 0.6054 - accuracy: 0.2158 - val_loss: 0.6108 - val_accuracy: 0.0000e+00\n",
      "Epoch 10/10\n",
      "1/1 [==============================] - 0s 50ms/step - loss: 0.5959 - accuracy: 0.2230 - val_loss: 0.6025 - val_accuracy: 0.0250\n",
      "1/1 [==============================] - 0s 41ms/step - loss: 0.6037 - accuracy: 0.0000e+00\n",
      "Epoch 1/10\n",
      "1/1 [==============================] - 1s 1s/step - loss: 0.6978 - accuracy: 0.0647 - val_loss: 0.6764 - val_accuracy: 0.0750\n",
      "Epoch 2/10\n",
      "1/1 [==============================] - 0s 50ms/step - loss: 0.6750 - accuracy: 0.0863 - val_loss: 0.6593 - val_accuracy: 0.0500\n",
      "Epoch 3/10\n",
      "1/1 [==============================] - 0s 51ms/step - loss: 0.6565 - accuracy: 0.0791 - val_loss: 0.6409 - val_accuracy: 0.0500\n",
      "Epoch 4/10\n",
      "1/1 [==============================] - 0s 51ms/step - loss: 0.6366 - accuracy: 0.1079 - val_loss: 0.6205 - val_accuracy: 0.0500\n",
      "Epoch 5/10\n",
      "1/1 [==============================] - 0s 54ms/step - loss: 0.6148 - accuracy: 0.0719 - val_loss: 0.5981 - val_accuracy: 0.0250\n",
      "Epoch 6/10\n",
      "1/1 [==============================] - 0s 49ms/step - loss: 0.5909 - accuracy: 0.0719 - val_loss: 0.5738 - val_accuracy: 0.0250\n",
      "Epoch 7/10\n",
      "1/1 [==============================] - 0s 51ms/step - loss: 0.5649 - accuracy: 0.0647 - val_loss: 0.5481 - val_accuracy: 0.0250\n",
      "Epoch 8/10\n",
      "1/1 [==============================] - 0s 54ms/step - loss: 0.5375 - accuracy: 0.0647 - val_loss: 0.5218 - val_accuracy: 0.0500\n",
      "Epoch 9/10\n",
      "1/1 [==============================] - 0s 50ms/step - loss: 0.5093 - accuracy: 0.0647 - val_loss: 0.4955 - val_accuracy: 0.0500\n",
      "Epoch 10/10\n",
      "1/1 [==============================] - 0s 59ms/step - loss: 0.4811 - accuracy: 0.0647 - val_loss: 0.4696 - val_accuracy: 0.0250\n",
      "1/1 [==============================] - 0s 39ms/step - loss: 0.4732 - accuracy: 0.0000e+00\n",
      "Epoch 1/10\n",
      "1/1 [==============================] - 1s 1s/step - loss: 0.6872 - accuracy: 0.0432 - val_loss: 0.6653 - val_accuracy: 0.0500\n",
      "Epoch 2/10\n",
      "1/1 [==============================] - 0s 59ms/step - loss: 0.6643 - accuracy: 0.0719 - val_loss: 0.6394 - val_accuracy: 0.0500\n",
      "Epoch 3/10\n",
      "1/1 [==============================] - 0s 50ms/step - loss: 0.6368 - accuracy: 0.1295 - val_loss: 0.6050 - val_accuracy: 0.0500\n",
      "Epoch 4/10\n",
      "1/1 [==============================] - 0s 50ms/step - loss: 0.6002 - accuracy: 0.1655 - val_loss: 0.5620 - val_accuracy: 0.0500\n",
      "Epoch 5/10\n",
      "1/1 [==============================] - 0s 51ms/step - loss: 0.5540 - accuracy: 0.1799 - val_loss: 0.5111 - val_accuracy: 0.0750\n",
      "Epoch 6/10\n",
      "1/1 [==============================] - 0s 52ms/step - loss: 0.4992 - accuracy: 0.2086 - val_loss: 0.4558 - val_accuracy: 0.0750\n",
      "Epoch 7/10\n",
      "1/1 [==============================] - 0s 57ms/step - loss: 0.4399 - accuracy: 0.2158 - val_loss: 0.4019 - val_accuracy: 0.1000\n",
      "Epoch 8/10\n",
      "1/1 [==============================] - 0s 53ms/step - loss: 0.3828 - accuracy: 0.2374 - val_loss: 0.3551 - val_accuracy: 0.1750\n",
      "Epoch 9/10\n",
      "1/1 [==============================] - 0s 51ms/step - loss: 0.3343 - accuracy: 0.2518 - val_loss: 0.3189 - val_accuracy: 0.2250\n",
      "Epoch 10/10\n",
      "1/1 [==============================] - 0s 54ms/step - loss: 0.2980 - accuracy: 0.2374 - val_loss: 0.2931 - val_accuracy: 0.2250\n",
      "1/1 [==============================] - 0s 44ms/step - loss: 0.2891 - accuracy: 0.2500\n"
     ]
    }
   ],
   "source": [
    "result_dict = {}\n",
    "\n",
    "for n in range(len(test_plan)):\n",
    "    units = test_plan[n][\"n_units\"]\n",
    "    hidden_layers = test_plan[n][\"n_hidden_layers\"]\n",
    "    \n",
    "    #initiate model\n",
    "    model = models.Sequential()\n",
    "    \n",
    "    #add hidden layers\n",
    "    if hidden_layers == 1:\n",
    "        model.add(layers.Dense(units, activation='relu', input_shape=(1000,)))\n",
    "    else:\n",
    "        for i in range(hidden_layers):\n",
    "            model.add(layers.Dense(units, activation='relu', input_shape=(1000,)))\n",
    "\n",
    "    # add output layer\n",
    "    model.add(layers.Dense(15, activation='softmax'))\n",
    "\n",
    "    #compile model\n",
    "    model.compile(optimizer='rmsprop', loss='binary_crossentropy', metrics=['accuracy'])\n",
    "\n",
    "    #fit model\n",
    "    model.fit(train_data,\n",
    "              train_labels,\n",
    "              epochs=10,\n",
    "              batch_size=512,\n",
    "              validation_data=(val_data, val_labels))\n",
    "\n",
    "    results = model.evaluate(test_data, test_labels)\n",
    "                               \n",
    "    result_dict[n] = {\"activation\": \"relu/softmax\",  \n",
    "                     \"n_units\": units, \n",
    "                     \"n_hidden_layers\": hidden_layers, \n",
    "                     \"optimizer\": \"rmsprop\", \n",
    "                     \"loss\": \"binary_crossentropy\",\n",
    "                     \"epochs\": 10,\n",
    "                     \"batch_size\": 512,\n",
    "                     \"accuracy\": results[1]}"
   ]
  },
  {
   "cell_type": "code",
   "execution_count": 20,
   "id": "9bd95395",
   "metadata": {
    "scrolled": true
   },
   "outputs": [
    {
     "data": {
      "text/html": [
       "<div>\n",
       "<style scoped>\n",
       "    .dataframe tbody tr th:only-of-type {\n",
       "        vertical-align: middle;\n",
       "    }\n",
       "\n",
       "    .dataframe tbody tr th {\n",
       "        vertical-align: top;\n",
       "    }\n",
       "\n",
       "    .dataframe thead th {\n",
       "        text-align: right;\n",
       "    }\n",
       "</style>\n",
       "<table border=\"1\" class=\"dataframe\">\n",
       "  <thead>\n",
       "    <tr style=\"text-align: right;\">\n",
       "      <th></th>\n",
       "      <th>activation</th>\n",
       "      <th>n_units</th>\n",
       "      <th>n_hidden_layers</th>\n",
       "      <th>optimizer</th>\n",
       "      <th>loss</th>\n",
       "      <th>epochs</th>\n",
       "      <th>batch_size</th>\n",
       "      <th>accuracy</th>\n",
       "    </tr>\n",
       "  </thead>\n",
       "  <tbody>\n",
       "    <tr>\n",
       "      <th>0</th>\n",
       "      <td>relu/softmax</td>\n",
       "      <td>32</td>\n",
       "      <td>1</td>\n",
       "      <td>rmsprop</td>\n",
       "      <td>binary_crossentropy</td>\n",
       "      <td>10</td>\n",
       "      <td>512</td>\n",
       "      <td>0.15</td>\n",
       "    </tr>\n",
       "    <tr>\n",
       "      <th>1</th>\n",
       "      <td>relu/softmax</td>\n",
       "      <td>32</td>\n",
       "      <td>2</td>\n",
       "      <td>rmsprop</td>\n",
       "      <td>binary_crossentropy</td>\n",
       "      <td>10</td>\n",
       "      <td>512</td>\n",
       "      <td>0.05</td>\n",
       "    </tr>\n",
       "    <tr>\n",
       "      <th>2</th>\n",
       "      <td>relu/softmax</td>\n",
       "      <td>32</td>\n",
       "      <td>3</td>\n",
       "      <td>rmsprop</td>\n",
       "      <td>binary_crossentropy</td>\n",
       "      <td>10</td>\n",
       "      <td>512</td>\n",
       "      <td>0.35</td>\n",
       "    </tr>\n",
       "    <tr>\n",
       "      <th>3</th>\n",
       "      <td>relu/softmax</td>\n",
       "      <td>64</td>\n",
       "      <td>1</td>\n",
       "      <td>rmsprop</td>\n",
       "      <td>binary_crossentropy</td>\n",
       "      <td>10</td>\n",
       "      <td>512</td>\n",
       "      <td>0.10</td>\n",
       "    </tr>\n",
       "    <tr>\n",
       "      <th>4</th>\n",
       "      <td>relu/softmax</td>\n",
       "      <td>64</td>\n",
       "      <td>2</td>\n",
       "      <td>rmsprop</td>\n",
       "      <td>binary_crossentropy</td>\n",
       "      <td>10</td>\n",
       "      <td>512</td>\n",
       "      <td>0.05</td>\n",
       "    </tr>\n",
       "    <tr>\n",
       "      <th>5</th>\n",
       "      <td>relu/softmax</td>\n",
       "      <td>64</td>\n",
       "      <td>3</td>\n",
       "      <td>rmsprop</td>\n",
       "      <td>binary_crossentropy</td>\n",
       "      <td>10</td>\n",
       "      <td>512</td>\n",
       "      <td>0.10</td>\n",
       "    </tr>\n",
       "    <tr>\n",
       "      <th>6</th>\n",
       "      <td>relu/softmax</td>\n",
       "      <td>128</td>\n",
       "      <td>1</td>\n",
       "      <td>rmsprop</td>\n",
       "      <td>binary_crossentropy</td>\n",
       "      <td>10</td>\n",
       "      <td>512</td>\n",
       "      <td>0.00</td>\n",
       "    </tr>\n",
       "    <tr>\n",
       "      <th>7</th>\n",
       "      <td>relu/softmax</td>\n",
       "      <td>128</td>\n",
       "      <td>2</td>\n",
       "      <td>rmsprop</td>\n",
       "      <td>binary_crossentropy</td>\n",
       "      <td>10</td>\n",
       "      <td>512</td>\n",
       "      <td>0.00</td>\n",
       "    </tr>\n",
       "    <tr>\n",
       "      <th>8</th>\n",
       "      <td>relu/softmax</td>\n",
       "      <td>128</td>\n",
       "      <td>3</td>\n",
       "      <td>rmsprop</td>\n",
       "      <td>binary_crossentropy</td>\n",
       "      <td>10</td>\n",
       "      <td>512</td>\n",
       "      <td>0.25</td>\n",
       "    </tr>\n",
       "  </tbody>\n",
       "</table>\n",
       "</div>"
      ],
      "text/plain": [
       "     activation  n_units  n_hidden_layers optimizer                 loss  \\\n",
       "0  relu/softmax       32                1   rmsprop  binary_crossentropy   \n",
       "1  relu/softmax       32                2   rmsprop  binary_crossentropy   \n",
       "2  relu/softmax       32                3   rmsprop  binary_crossentropy   \n",
       "3  relu/softmax       64                1   rmsprop  binary_crossentropy   \n",
       "4  relu/softmax       64                2   rmsprop  binary_crossentropy   \n",
       "5  relu/softmax       64                3   rmsprop  binary_crossentropy   \n",
       "6  relu/softmax      128                1   rmsprop  binary_crossentropy   \n",
       "7  relu/softmax      128                2   rmsprop  binary_crossentropy   \n",
       "8  relu/softmax      128                3   rmsprop  binary_crossentropy   \n",
       "\n",
       "   epochs  batch_size  accuracy  \n",
       "0      10         512      0.15  \n",
       "1      10         512      0.05  \n",
       "2      10         512      0.35  \n",
       "3      10         512      0.10  \n",
       "4      10         512      0.05  \n",
       "5      10         512      0.10  \n",
       "6      10         512      0.00  \n",
       "7      10         512      0.00  \n",
       "8      10         512      0.25  "
      ]
     },
     "execution_count": 20,
     "metadata": {},
     "output_type": "execute_result"
    }
   ],
   "source": [
    "pd.DataFrame.from_dict(result_dict, orient = \"index\")"
   ]
  },
  {
   "cell_type": "markdown",
   "id": "38d0e561",
   "metadata": {},
   "source": [
    "Also the other tested configurations are not performing well."
   ]
  },
  {
   "cell_type": "markdown",
   "id": "3082e6e1",
   "metadata": {},
   "source": [
    "## GloVE Approach\n",
    "\n",
    "Processing Embeddings"
   ]
  },
  {
   "cell_type": "code",
   "execution_count": 22,
   "id": "0a3c7975",
   "metadata": {},
   "outputs": [
    {
     "name": "stdout",
     "output_type": "stream",
     "text": [
      "Found 400000 word vectors\n"
     ]
    }
   ],
   "source": [
    "import os\n",
    "glove_dir = './GitHub/glove.6B'\n",
    "\n",
    "embeddings_index = {}\n",
    "f = open(os.path.join(glove_dir, 'glove.6B.100d.txt'), encoding=\"utf8\")\n",
    "for line in f:\n",
    "    values = line.split()\n",
    "    word = values[0]\n",
    "    coefs = np.asarray(values[1:], dtype='float32')\n",
    "    embeddings_index[word] = coefs\n",
    "f.close()\n",
    "\n",
    "print('Found %s word vectors' % len(embeddings_index))"
   ]
  },
  {
   "cell_type": "markdown",
   "id": "adb0daf9",
   "metadata": {},
   "source": [
    "Now, build an embedding matrix that can be loaded into an `Embedding` layer. It must be a matrix of shape `(max_words,embedding_dim)`, where each entry `i` contains the `embedding_dim`-dimensional vector for the word of index `i` in our reference word index (built during tokenization). Note that the index `0` is not supposed to stand for any word or token. It is simply a placeholder."
   ]
  },
  {
   "cell_type": "code",
   "execution_count": 25,
   "id": "432f4e24",
   "metadata": {},
   "outputs": [],
   "source": [
    "max_words = len(word_index) + 1\n",
    "embedding_dim = 100\n",
    "embedding_matrix = np.zeros((max_words, embedding_dim))\n",
    "\n",
    "for word, i in word_index.items():\n",
    "    embedding_vector = embeddings_index.get(word)\n",
    "    if i < max_words:\n",
    "        if embedding_vector is not None:\n",
    "            # Words not found in the embedding index will be all-zeros\n",
    "            embedding_matrix[i] = embedding_vector"
   ]
  },
  {
   "cell_type": "markdown",
   "id": "faede54f",
   "metadata": {},
   "source": [
    "Building a model"
   ]
  },
  {
   "cell_type": "code",
   "execution_count": 33,
   "id": "c21f804b",
   "metadata": {},
   "outputs": [
    {
     "name": "stdout",
     "output_type": "stream",
     "text": [
      "Model: \"sequential_13\"\n",
      "_________________________________________________________________\n",
      " Layer (type)                Output Shape              Param #   \n",
      "=================================================================\n",
      " embedding_2 (Embedding)     (None, 1000, 100)         22400     \n",
      "                                                                 \n",
      " flatten_2 (Flatten)         (None, 100000)            0         \n",
      "                                                                 \n",
      " dense_34 (Dense)            (None, 64)                6400064   \n",
      "                                                                 \n",
      " dense_35 (Dense)            (None, 15)                975       \n",
      "                                                                 \n",
      "=================================================================\n",
      "Total params: 6,423,439\n",
      "Trainable params: 6,423,439\n",
      "Non-trainable params: 0\n",
      "_________________________________________________________________\n"
     ]
    }
   ],
   "source": [
    "from tensorflow.keras.models import Sequential\n",
    "from tensorflow.keras.layers import Embedding, Flatten, Dense\n",
    "\n",
    "maxlen = 1000\n",
    "\n",
    "model = Sequential()\n",
    "model.add(Embedding(max_words, embedding_dim, input_length=maxlen))\n",
    "model.add(Flatten())\n",
    "model.add(Dense(64, activation='relu'))\n",
    "model.add(Dense(15, activation='sigmoid'))\n",
    "model.summary()"
   ]
  },
  {
   "cell_type": "markdown",
   "id": "5a1cc795",
   "metadata": {},
   "source": [
    "loading the embeddings into the model"
   ]
  },
  {
   "cell_type": "code",
   "execution_count": 34,
   "id": "1c9d42e6",
   "metadata": {},
   "outputs": [],
   "source": [
    "model.layers[0].set_weights([embedding_matrix])\n",
    "model.layers[0].trainable = False"
   ]
  },
  {
   "cell_type": "markdown",
   "id": "c9a83ff4",
   "metadata": {},
   "source": [
    "train model"
   ]
  },
  {
   "cell_type": "code",
   "execution_count": 35,
   "id": "16c6fdeb",
   "metadata": {},
   "outputs": [
    {
     "name": "stdout",
     "output_type": "stream",
     "text": [
      "Epoch 1/10\n",
      "5/5 [==============================] - 1s 135ms/step - loss: 0.5921 - acc: 0.2374 - val_loss: 0.4211 - val_acc: 0.5000\n",
      "Epoch 2/10\n",
      "5/5 [==============================] - 0s 44ms/step - loss: 0.3503 - acc: 0.5755 - val_loss: 0.3151 - val_acc: 0.6000\n",
      "Epoch 3/10\n",
      "5/5 [==============================] - 0s 43ms/step - loss: 0.2354 - acc: 0.7770 - val_loss: 0.2622 - val_acc: 0.6250\n",
      "Epoch 4/10\n",
      "5/5 [==============================] - 0s 52ms/step - loss: 0.1711 - acc: 0.8705 - val_loss: 0.2304 - val_acc: 0.6250\n",
      "Epoch 5/10\n",
      "5/5 [==============================] - 0s 59ms/step - loss: 0.1298 - acc: 0.9281 - val_loss: 0.2097 - val_acc: 0.6750\n",
      "Epoch 6/10\n",
      "5/5 [==============================] - 0s 36ms/step - loss: 0.1012 - acc: 0.9424 - val_loss: 0.1945 - val_acc: 0.6750\n",
      "Epoch 7/10\n",
      "5/5 [==============================] - 0s 58ms/step - loss: 0.0803 - acc: 0.9496 - val_loss: 0.1831 - val_acc: 0.6750\n",
      "Epoch 8/10\n",
      "5/5 [==============================] - 0s 65ms/step - loss: 0.0647 - acc: 0.9640 - val_loss: 0.1768 - val_acc: 0.6750\n",
      "Epoch 9/10\n",
      "5/5 [==============================] - 0s 52ms/step - loss: 0.0523 - acc: 0.9784 - val_loss: 0.1725 - val_acc: 0.6500\n",
      "Epoch 10/10\n",
      "5/5 [==============================] - 0s 50ms/step - loss: 0.0430 - acc: 0.9856 - val_loss: 0.1686 - val_acc: 0.6750\n"
     ]
    }
   ],
   "source": [
    "model.compile(optimizer='rmsprop',\n",
    "              loss='binary_crossentropy',\n",
    "              metrics=['acc'])\n",
    "\n",
    "history = model.fit(train_data, train_labels,\n",
    "                    epochs=10,\n",
    "                    batch_size=32,\n",
    "                    validation_data=(val_data, val_labels))"
   ]
  },
  {
   "cell_type": "code",
   "execution_count": 36,
   "id": "5804748b",
   "metadata": {},
   "outputs": [
    {
     "data": {
      "image/png": "[encoded data removed]",
      "text/plain": [
       "<Figure size 640x480 with 1 Axes>"
      ]
     },
     "metadata": {},
     "output_type": "display_data"
    },
    {
     "data": {
      "image/png": "[encoded data removed]",
      "text/plain": [
       "<Figure size 640x480 with 1 Axes>"
      ]
     },
     "metadata": {},
     "output_type": "display_data"
    }
   ],
   "source": [
    "import matplotlib.pyplot as plt\n",
    "\n",
    "acc = history.history['acc']\n",
    "val_acc = history.history['val_acc']\n",
    "loss = history.history['loss']\n",
    "val_loss = history.history['val_loss']\n",
    "\n",
    "epochs = range(1, len(acc) + 1)\n",
    "\n",
    "plt.plot(epochs, acc, 'bo', label='Training acc')\n",
    "plt.plot(epochs, val_acc, 'b', label='Validation acc')\n",
    "plt.title('Training and validation accuracy')\n",
    "plt.legend()\n",
    "\n",
    "plt.figure()\n",
    "\n",
    "plt.plot(epochs, loss, 'bo', label='Training loss')\n",
    "plt.plot(epochs, val_loss, 'b', label='Validation loss')\n",
    "plt.title('Training and validation loss')\n",
    "plt.legend()\n",
    "\n",
    "plt.show()"
   ]
  },
  {
   "cell_type": "code",
   "execution_count": 37,
   "id": "221ea156",
   "metadata": {},
   "outputs": [
    {
     "name": "stdout",
     "output_type": "stream",
     "text": [
      "1/1 [==============================] - 0s 29ms/step - loss: 0.1624 - acc: 0.6000\n"
     ]
    },
    {
     "data": {
      "text/plain": [
       "[0.16236309707164764, 0.6000000238418579]"
      ]
     },
     "execution_count": 37,
     "metadata": {},
     "output_type": "execute_result"
    }
   ],
   "source": [
    "model.evaluate(test_data, test_labels)"
   ]
  },
  {
   "cell_type": "markdown",
   "id": "925941d8",
   "metadata": {},
   "source": [
    "The Glove Approach is performing a lot better than the previous approach, reaching an accuracy of 60 % for the test data."
   ]
  },
  {
   "cell_type": "markdown",
   "id": "161b4a9a",
   "metadata": {},
   "source": [
    "Next steps in continuing with classyfing the contributions could be:\n",
    "\n",
    "- Clustering via Embeddings (nearest neighbour)\n",
    "- Add wrong contributions and additional \"non-sense\" classes for a more diverse dataset."
   ]
  }
 ],
 "metadata": {
  "kernelspec": {
   "display_name": "Python 3 (ipykernel)",
   "language": "python",
   "name": "python3"
  },
  "language_info": {
   "codemirror_mode": {
    "name": "ipython",
    "version": 3
   },
   "file_extension": ".py",
   "mimetype": "text/x-python",
   "name": "python",
   "nbconvert_exporter": "python",
   "pygments_lexer": "ipython3",
   "version": "3.10.9"
  }
 },
 "nbformat": 4,
 "nbformat_minor": 5
}
