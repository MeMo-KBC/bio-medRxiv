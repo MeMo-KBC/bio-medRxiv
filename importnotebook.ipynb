{
 "cells": [
  {
   "cell_type": "code",
   "execution_count": 2,
   "metadata": {},
   "outputs": [
    {
     "name": "stderr",
     "output_type": "stream",
     "text": [
      "[2023-05-23 12:08:17,252][INFO] fonduer.meta:49 - Setting logging directory to: data/logs/2023-05-23_12-08-17\n",
      "[2023-05-23 12:08:17,254][INFO] fonduer.meta:134 - Connecting user:postgres to fonduer-postgres-dev:5432/biorxiv\n",
      "[2023-05-23 12:08:17,447][INFO] fonduer.meta:162 - Initializing the storage schema\n"
     ]
    }
   ],
   "source": [
    "import os\n",
    "\n",
    "project_name = \"biorxiv\"\n",
    "conn_string = \"postgresql://postgres@fonduer-postgres-dev:5432/\"\n",
    "\n",
    "dataset_path = \"data/\"\n",
    "export_path = os.path.join(dataset_path, \"contrisnap.json\")\n",
    "documents_path = os.path.join(dataset_path, \"converted_contri\")\n",
    "\n",
    "\n",
    "from LabelstudioToFonduer.to_fonduer import parse_export\n",
    "export = parse_export(export_path)\n",
    "\n",
    "from LabelstudioToFonduer.fonduer_tools import save_create_project\n",
    "save_create_project(conn_string=conn_string, project_name=project_name)\n",
    "\n",
    "\n",
    "from fonduer import Meta, init_logging\n",
    "init_logging(log_dir=os.path.join(dataset_path, \"logs\"))\n",
    "session = Meta.init(conn_string + project_name).Session()\n"
   ]
  },
  {
   "cell_type": "code",
   "execution_count": 3,
   "metadata": {},
   "outputs": [
    {
     "name": "stderr",
     "output_type": "stream",
     "text": [
      "[2023-05-23 12:08:19,466][INFO] fonduer.utils.udf:67 - Running UDF...\n"
     ]
    },
    {
     "data": {
      "application/vnd.jupyter.widget-view+json": {
       "model_id": "7ff4894e918d475782b7b7d7a161ea98",
       "version_major": 2,
       "version_minor": 0
      },
      "text/plain": [
       "  0%|          | 0/3 [00:00<?, ?it/s]"
      ]
     },
     "metadata": {},
     "output_type": "display_data"
    },
    {
     "name": "stdout",
     "output_type": "stream",
     "text": [
      "Documents: 3\n",
      "Sentences: 13945\n"
     ]
    }
   ],
   "source": [
    "from LabelstudioToFonduer.document_processor import My_HTMLDocPreprocessor\n",
    "from fonduer.parser import Parser\n",
    "doc_preprocessor = My_HTMLDocPreprocessor(documents_path, max_docs=5)\n",
    "\n",
    "from LabelstudioToFonduer.lingual_parser import ModifiedSpacyParser\n",
    "exceptions = [\".NET\", \"Sr.\", \".WEB\", \".de\", \"Jr.\", \"Inc.\", \"Senior.\", \"p.\", \"m.\"]\n",
    "my_parser = ModifiedSpacyParser(lang=\"en\", split_exceptions=exceptions)\n",
    "\n",
    "corpus_parser = Parser(session, \n",
    "    lingual_parser=my_parser, \n",
    "    structural=True, \n",
    "    lingual=True, \n",
    "    flatten=[])\n",
    "    \n",
    "corpus_parser.apply(doc_preprocessor, parallelism=8)\n",
    "\n",
    "from fonduer.parser.models import Document, Sentence\n",
    "\n",
    "print(f\"Documents: {session.query(Document).count()}\")\n",
    "print(f\"Sentences: {session.query(Sentence).count()}\")\n",
    "\n",
    "docs = session.query(Document).order_by(Document.name).all()"
   ]
  },
  {
   "cell_type": "code",
   "execution_count": 4,
   "metadata": {},
   "outputs": [],
   "source": [
    "from fonduer.candidates.models import mention_subclass\n",
    "AuthShort = mention_subclass(\"AuthShort\")\n",
    "Task = mention_subclass(\"Task\")\n",
    "\n",
    "from fonduer.candidates import MentionNgrams\n",
    "AuthShort_ngrams = MentionNgrams(n_max=export.ngrams(\"Author short\")[1] + 5, n_min=export.ngrams(\"Author short\")[0])\n",
    "Task_ngrams = MentionNgrams(n_max=export.ngrams(\"Task\")[1] + 5, n_min=export.ngrams(\"Task\")[0])\n",
    "\n",
    "\n",
    "from fonduer.candidates.matchers import LambdaFunctionMatcher\n",
    "authshort = export.lable_entitis(\"Author short\")\n",
    "task = export.lable_entitis(\"Task\")\n",
    "\n",
    "\n",
    "def is_AuthShort(mention):\n",
    "    if mention.get_span() in authshort:\n",
    "        return True\n",
    "    else:\n",
    "        False\n",
    "\n",
    "\n",
    "def is_task(mention):\n",
    "    if mention.get_span() in task:\n",
    "        return True\n",
    "    else:\n",
    "        False\n",
    "\n",
    "\n",
    "authshort_matcher = LambdaFunctionMatcher(func=is_AuthShort)\n",
    "task_matcher = LambdaFunctionMatcher(func=is_task)"
   ]
  },
  {
   "cell_type": "code",
   "execution_count": 5,
   "metadata": {},
   "outputs": [
    {
     "name": "stderr",
     "output_type": "stream",
     "text": [
      "[2023-05-23 12:11:03,265][INFO] fonduer.candidates.mentions:467 - Clearing table: auth_short\n",
      "[2023-05-23 12:11:03,277][INFO] fonduer.candidates.mentions:467 - Clearing table: task\n",
      "[2023-05-23 12:11:03,279][INFO] fonduer.utils.udf:67 - Running UDF...\n"
     ]
    },
    {
     "data": {
      "application/vnd.jupyter.widget-view+json": {
       "model_id": "c9a9897395d74ebfbcf2ae03eb535cce",
       "version_major": 2,
       "version_minor": 0
      },
      "text/plain": [
       "  0%|          | 0/3 [00:00<?, ?it/s]"
      ]
     },
     "metadata": {},
     "output_type": "display_data"
    },
    {
     "name": "stdout",
     "output_type": "stream",
     "text": [
      "Total Mentions: 87 (79 titles, 8 dates)\n"
     ]
    }
   ],
   "source": [
    "from fonduer.candidates import MentionExtractor\n",
    "mention_extractor = MentionExtractor(\n",
    "    session,\n",
    "    [AuthShort, Task],\n",
    "    [AuthShort_ngrams, Task_ngrams],\n",
    "    [authshort_matcher, task_matcher],\n",
    ")\n",
    "\n",
    "\n",
    "from fonduer.candidates.models import Mention\n",
    "mention_extractor.apply(docs)\n",
    "num_title = session.query(AuthShort).count()\n",
    "num_date = session.query(Task).count()\n",
    "\n",
    "print(f\"Total Mentions: {session.query(Mention).count()} ({num_title} titles, {num_date} dates)\")"
   ]
  },
  {
   "cell_type": "code",
   "execution_count": 6,
   "metadata": {},
   "outputs": [
    {
     "name": "stderr",
     "output_type": "stream",
     "text": [
      "[2023-05-23 12:11:24,319][INFO] fonduer.candidates.candidates:137 - Clearing table auth_short_task (split 0)\n",
      "[2023-05-23 12:11:24,331][INFO] fonduer.utils.udf:67 - Running UDF...\n"
     ]
    },
    {
     "data": {
      "application/vnd.jupyter.widget-view+json": {
       "model_id": "cbd68958696c47b89125844e08c9540f",
       "version_major": 2,
       "version_minor": 0
      },
      "text/plain": [
       "  0%|          | 0/3 [00:00<?, ?it/s]"
      ]
     },
     "metadata": {},
     "output_type": "display_data"
    }
   ],
   "source": [
    "from fonduer.candidates.models import candidate_subclass\n",
    "AuthShortTask = candidate_subclass(\"AuthShortTask\", [AuthShort, Task])\n",
    "\n",
    "\n",
    "from fonduer.candidates import CandidateExtractor\n",
    "candidate_extractor = CandidateExtractor(session, [AuthShortTask])\n",
    "candidate_extractor.apply(docs)\n",
    "\n",
    "from LabelstudioToFonduer.to_fonduer import ToFonduer\n",
    "converter = ToFonduer(label_studio_export=export, fonduer_session=session)"
   ]
  },
  {
   "cell_type": "code",
   "execution_count": 7,
   "metadata": {},
   "outputs": [
    {
     "data": {
      "text/plain": [
       "[]"
      ]
     },
     "execution_count": 7,
     "metadata": {},
     "output_type": "execute_result"
    }
   ],
   "source": [
    "converter.gold_table"
   ]
  },
  {
   "cell_type": "code",
   "execution_count": 8,
   "metadata": {},
   "outputs": [
    {
     "name": "stderr",
     "output_type": "stream",
     "text": [
      "[2023-05-23 12:11:27,900][INFO] fonduer.supervision.labeler:330 - Clearing Labels (split ALL)\n",
      "/usr/local/lib/python3.8/site-packages/fonduer/supervision/labeler.py:340: SAWarning: Coercing Subquery object into a select() for use in IN(); please pass a select() construct explicitly\n",
      "  query = self.session.query(table).filter(table.candidate_id.in_(sub_query))\n",
      "[2023-05-23 12:11:27,910][INFO] fonduer.utils.udf:67 - Running UDF...\n"
     ]
    },
    {
     "data": {
      "application/vnd.jupyter.widget-view+json": {
       "model_id": "e20c0f02b9554a36b58e5cae218652ce",
       "version_major": 2,
       "version_minor": 0
      },
      "text/plain": [
       "  0%|          | 0/3 [00:00<?, ?it/s]"
      ]
     },
     "metadata": {},
     "output_type": "display_data"
    }
   ],
   "source": [
    "from fonduer.supervision.models import GoldLabel\n",
    "from fonduer.supervision import Labeler\n",
    "labeler = Labeler(session, [AuthShortTask])\n",
    "\n",
    "labeler.apply(\n",
    "    docs=docs,\n",
    "    lfs=[[converter.is_gold]],\n",
    "    table=GoldLabel,\n",
    "    train=True,\n",
    "    parallelism=8,\n",
    ")"
   ]
  },
  {
   "cell_type": "code",
   "execution_count": 9,
   "metadata": {},
   "outputs": [
    {
     "name": "stderr",
     "output_type": "stream",
     "text": [
      "/usr/local/lib/python3.8/site-packages/fonduer/candidates/candidates.py:201: SAWarning: Coercing Subquery object into a select() for use in IN(); please pass a select() construct explicitly\n",
      "  .filter(candidate_class.id.in_(sub_query))\n"
     ]
    }
   ],
   "source": [
    "train_cands = candidate_extractor.get_candidates()\n",
    "all_gold = labeler.get_gold_labels(train_cands)"
   ]
  },
  {
   "cell_type": "code",
   "execution_count": 27,
   "metadata": {},
   "outputs": [
    {
     "data": {
      "text/plain": [
       "[]"
      ]
     },
     "execution_count": 27,
     "metadata": {},
     "output_type": "execute_result"
    }
   ],
   "source": [
    "converter.gold_table"
   ]
  },
  {
   "cell_type": "code",
   "execution_count": 17,
   "metadata": {},
   "outputs": [
    {
     "data": {
      "text/plain": [
       "[[AuthShortTask(AuthShort(SpanMention(\"RA\", sentence=19607, chars=[67,68], words=[11,11])), Task(SpanMention(\"designed the methodology and the analysis\", sentence=20541, chars=[32,72], words=[12,17]))),\n",
       "  AuthShortTask(AuthShort(SpanMention(\"RA\", sentence=19607, chars=[67,68], words=[11,11])), Task(SpanMention(\"analysed the data\", sentence=20542, chars=[5,21], words=[2,4]))),\n",
       "  AuthShortTask(AuthShort(SpanMention(\"RA\", sentence=19607, chars=[67,68], words=[11,11])), Task(SpanMention(\"contributed to data analysis\", sentence=20543, chars=[25,52], words=[10,13]))),\n",
       "  AuthShortTask(AuthShort(SpanMention(\"RA\", sentence=19607, chars=[67,68], words=[11,11])), Task(SpanMention(\"were involved in designing the original studies for which the present data were collected\", sentence=20544, chars=[47,135], words=[20,33]))),\n",
       "  AuthShortTask(AuthShort(SpanMention(\"RA\", sentence=19607, chars=[67,68], words=[11,11])), Task(SpanMention(\"participated in data collection\", sentence=20545, chars=[46,76], words=[19,22]))),\n",
       "  AuthShortTask(AuthShort(SpanMention(\"RA\", sentence=19607, chars=[67,68], words=[11,11])), Task(SpanMention(\"wrote the manuscript with feedback from all co-authors\", sentence=20546, chars=[17,70], words=[6,15]))),\n",
       "  AuthShortTask(AuthShort(SpanMention(\"AIL\", sentence=20540, chars=[0,2], words=[0,0])), Task(SpanMention(\"designed the methodology and the analysis\", sentence=20541, chars=[32,72], words=[12,17]))),\n",
       "  AuthShortTask(AuthShort(SpanMention(\"AIL\", sentence=20540, chars=[0,2], words=[0,0])), Task(SpanMention(\"analysed the data\", sentence=20542, chars=[5,21], words=[2,4]))),\n",
       "  AuthShortTask(AuthShort(SpanMention(\"AIL\", sentence=20540, chars=[0,2], words=[0,0])), Task(SpanMention(\"contributed to data analysis\", sentence=20543, chars=[25,52], words=[10,13]))),\n",
       "  AuthShortTask(AuthShort(SpanMention(\"AIL\", sentence=20540, chars=[0,2], words=[0,0])), Task(SpanMention(\"were involved in designing the original studies for which the present data were collected\", sentence=20544, chars=[47,135], words=[20,33]))),\n",
       "  AuthShortTask(AuthShort(SpanMention(\"AIL\", sentence=20540, chars=[0,2], words=[0,0])), Task(SpanMention(\"participated in data collection\", sentence=20545, chars=[46,76], words=[19,22]))),\n",
       "  AuthShortTask(AuthShort(SpanMention(\"AIL\", sentence=20540, chars=[0,2], words=[0,0])), Task(SpanMention(\"wrote the manuscript with feedback from all co-authors\", sentence=20546, chars=[17,70], words=[6,15]))),\n",
       "  AuthShortTask(AuthShort(SpanMention(\"JV\", sentence=20540, chars=[5,6], words=[2,2])), Task(SpanMention(\"designed the methodology and the analysis\", sentence=20541, chars=[32,72], words=[12,17]))),\n",
       "  AuthShortTask(AuthShort(SpanMention(\"JV\", sentence=20540, chars=[5,6], words=[2,2])), Task(SpanMention(\"analysed the data\", sentence=20542, chars=[5,21], words=[2,4]))),\n",
       "  AuthShortTask(AuthShort(SpanMention(\"JV\", sentence=20540, chars=[5,6], words=[2,2])), Task(SpanMention(\"contributed to data analysis\", sentence=20543, chars=[25,52], words=[10,13]))),\n",
       "  AuthShortTask(AuthShort(SpanMention(\"JV\", sentence=20540, chars=[5,6], words=[2,2])), Task(SpanMention(\"were involved in designing the original studies for which the present data were collected\", sentence=20544, chars=[47,135], words=[20,33]))),\n",
       "  AuthShortTask(AuthShort(SpanMention(\"JV\", sentence=20540, chars=[5,6], words=[2,2])), Task(SpanMention(\"participated in data collection\", sentence=20545, chars=[46,76], words=[19,22]))),\n",
       "  AuthShortTask(AuthShort(SpanMention(\"JV\", sentence=20540, chars=[5,6], words=[2,2])), Task(SpanMention(\"wrote the manuscript with feedback from all co-authors\", sentence=20546, chars=[17,70], words=[6,15]))),\n",
       "  AuthShortTask(AuthShort(SpanMention(\"EAS\", sentence=20540, chars=[9,11], words=[4,4])), Task(SpanMention(\"designed the methodology and the analysis\", sentence=20541, chars=[32,72], words=[12,17]))),\n",
       "  AuthShortTask(AuthShort(SpanMention(\"EAS\", sentence=20540, chars=[9,11], words=[4,4])), Task(SpanMention(\"analysed the data\", sentence=20542, chars=[5,21], words=[2,4]))),\n",
       "  AuthShortTask(AuthShort(SpanMention(\"EAS\", sentence=20540, chars=[9,11], words=[4,4])), Task(SpanMention(\"contributed to data analysis\", sentence=20543, chars=[25,52], words=[10,13]))),\n",
       "  AuthShortTask(AuthShort(SpanMention(\"EAS\", sentence=20540, chars=[9,11], words=[4,4])), Task(SpanMention(\"were involved in designing the original studies for which the present data were collected\", sentence=20544, chars=[47,135], words=[20,33]))),\n",
       "  AuthShortTask(AuthShort(SpanMention(\"EAS\", sentence=20540, chars=[9,11], words=[4,4])), Task(SpanMention(\"participated in data collection\", sentence=20545, chars=[46,76], words=[19,22]))),\n",
       "  AuthShortTask(AuthShort(SpanMention(\"EAS\", sentence=20540, chars=[9,11], words=[4,4])), Task(SpanMention(\"wrote the manuscript with feedback from all co-authors\", sentence=20546, chars=[17,70], words=[6,15]))),\n",
       "  AuthShortTask(AuthShort(SpanMention(\"SA\", sentence=20540, chars=[14,15], words=[6,6])), Task(SpanMention(\"designed the methodology and the analysis\", sentence=20541, chars=[32,72], words=[12,17]))),\n",
       "  AuthShortTask(AuthShort(SpanMention(\"SA\", sentence=20540, chars=[14,15], words=[6,6])), Task(SpanMention(\"analysed the data\", sentence=20542, chars=[5,21], words=[2,4]))),\n",
       "  AuthShortTask(AuthShort(SpanMention(\"SA\", sentence=20540, chars=[14,15], words=[6,6])), Task(SpanMention(\"contributed to data analysis\", sentence=20543, chars=[25,52], words=[10,13]))),\n",
       "  AuthShortTask(AuthShort(SpanMention(\"SA\", sentence=20540, chars=[14,15], words=[6,6])), Task(SpanMention(\"were involved in designing the original studies for which the present data were collected\", sentence=20544, chars=[47,135], words=[20,33]))),\n",
       "  AuthShortTask(AuthShort(SpanMention(\"SA\", sentence=20540, chars=[14,15], words=[6,6])), Task(SpanMention(\"participated in data collection\", sentence=20545, chars=[46,76], words=[19,22]))),\n",
       "  AuthShortTask(AuthShort(SpanMention(\"SA\", sentence=20540, chars=[14,15], words=[6,6])), Task(SpanMention(\"wrote the manuscript with feedback from all co-authors\", sentence=20546, chars=[17,70], words=[6,15]))),\n",
       "  AuthShortTask(AuthShort(SpanMention(\"MLK\", sentence=20540, chars=[21,23], words=[8,8])), Task(SpanMention(\"designed the methodology and the analysis\", sentence=20541, chars=[32,72], words=[12,17]))),\n",
       "  AuthShortTask(AuthShort(SpanMention(\"MLK\", sentence=20540, chars=[21,23], words=[8,8])), Task(SpanMention(\"analysed the data\", sentence=20542, chars=[5,21], words=[2,4]))),\n",
       "  AuthShortTask(AuthShort(SpanMention(\"MLK\", sentence=20540, chars=[21,23], words=[8,8])), Task(SpanMention(\"contributed to data analysis\", sentence=20543, chars=[25,52], words=[10,13]))),\n",
       "  AuthShortTask(AuthShort(SpanMention(\"MLK\", sentence=20540, chars=[21,23], words=[8,8])), Task(SpanMention(\"were involved in designing the original studies for which the present data were collected\", sentence=20544, chars=[47,135], words=[20,33]))),\n",
       "  AuthShortTask(AuthShort(SpanMention(\"MLK\", sentence=20540, chars=[21,23], words=[8,8])), Task(SpanMention(\"participated in data collection\", sentence=20545, chars=[46,76], words=[19,22]))),\n",
       "  AuthShortTask(AuthShort(SpanMention(\"MLK\", sentence=20540, chars=[21,23], words=[8,8])), Task(SpanMention(\"wrote the manuscript with feedback from all co-authors\", sentence=20546, chars=[17,70], words=[6,15]))),\n",
       "  AuthShortTask(AuthShort(SpanMention(\"AIL\", sentence=20541, chars=[1,3], words=[1,1])), Task(SpanMention(\"designed the methodology and the analysis\", sentence=20541, chars=[32,72], words=[12,17]))),\n",
       "  AuthShortTask(AuthShort(SpanMention(\"AIL\", sentence=20541, chars=[1,3], words=[1,1])), Task(SpanMention(\"analysed the data\", sentence=20542, chars=[5,21], words=[2,4]))),\n",
       "  AuthShortTask(AuthShort(SpanMention(\"AIL\", sentence=20541, chars=[1,3], words=[1,1])), Task(SpanMention(\"contributed to data analysis\", sentence=20543, chars=[25,52], words=[10,13]))),\n",
       "  AuthShortTask(AuthShort(SpanMention(\"AIL\", sentence=20541, chars=[1,3], words=[1,1])), Task(SpanMention(\"were involved in designing the original studies for which the present data were collected\", sentence=20544, chars=[47,135], words=[20,33]))),\n",
       "  AuthShortTask(AuthShort(SpanMention(\"AIL\", sentence=20541, chars=[1,3], words=[1,1])), Task(SpanMention(\"participated in data collection\", sentence=20545, chars=[46,76], words=[19,22]))),\n",
       "  AuthShortTask(AuthShort(SpanMention(\"AIL\", sentence=20541, chars=[1,3], words=[1,1])), Task(SpanMention(\"wrote the manuscript with feedback from all co-authors\", sentence=20546, chars=[17,70], words=[6,15]))),\n",
       "  AuthShortTask(AuthShort(SpanMention(\"JV\", sentence=20541, chars=[6,7], words=[3,3])), Task(SpanMention(\"designed the methodology and the analysis\", sentence=20541, chars=[32,72], words=[12,17]))),\n",
       "  AuthShortTask(AuthShort(SpanMention(\"JV\", sentence=20541, chars=[6,7], words=[3,3])), Task(SpanMention(\"analysed the data\", sentence=20542, chars=[5,21], words=[2,4]))),\n",
       "  AuthShortTask(AuthShort(SpanMention(\"JV\", sentence=20541, chars=[6,7], words=[3,3])), Task(SpanMention(\"contributed to data analysis\", sentence=20543, chars=[25,52], words=[10,13]))),\n",
       "  AuthShortTask(AuthShort(SpanMention(\"JV\", sentence=20541, chars=[6,7], words=[3,3])), Task(SpanMention(\"were involved in designing the original studies for which the present data were collected\", sentence=20544, chars=[47,135], words=[20,33]))),\n",
       "  AuthShortTask(AuthShort(SpanMention(\"JV\", sentence=20541, chars=[6,7], words=[3,3])), Task(SpanMention(\"participated in data collection\", sentence=20545, chars=[46,76], words=[19,22]))),\n",
       "  AuthShortTask(AuthShort(SpanMention(\"JV\", sentence=20541, chars=[6,7], words=[3,3])), Task(SpanMention(\"wrote the manuscript with feedback from all co-authors\", sentence=20546, chars=[17,70], words=[6,15]))),\n",
       "  AuthShortTask(AuthShort(SpanMention(\"PAMM\", sentence=20541, chars=[10,13], words=[5,5])), Task(SpanMention(\"designed the methodology and the analysis\", sentence=20541, chars=[32,72], words=[12,17]))),\n",
       "  AuthShortTask(AuthShort(SpanMention(\"PAMM\", sentence=20541, chars=[10,13], words=[5,5])), Task(SpanMention(\"analysed the data\", sentence=20542, chars=[5,21], words=[2,4]))),\n",
       "  AuthShortTask(AuthShort(SpanMention(\"PAMM\", sentence=20541, chars=[10,13], words=[5,5])), Task(SpanMention(\"contributed to data analysis\", sentence=20543, chars=[25,52], words=[10,13]))),\n",
       "  AuthShortTask(AuthShort(SpanMention(\"PAMM\", sentence=20541, chars=[10,13], words=[5,5])), Task(SpanMention(\"were involved in designing the original studies for which the present data were collected\", sentence=20544, chars=[47,135], words=[20,33]))),\n",
       "  AuthShortTask(AuthShort(SpanMention(\"PAMM\", sentence=20541, chars=[10,13], words=[5,5])), Task(SpanMention(\"participated in data collection\", sentence=20545, chars=[46,76], words=[19,22]))),\n",
       "  AuthShortTask(AuthShort(SpanMention(\"PAMM\", sentence=20541, chars=[10,13], words=[5,5])), Task(SpanMention(\"wrote the manuscript with feedback from all co-authors\", sentence=20546, chars=[17,70], words=[6,15]))),\n",
       "  AuthShortTask(AuthShort(SpanMention(\"SA\", sentence=20541, chars=[16,17], words=[7,7])), Task(SpanMention(\"designed the methodology and the analysis\", sentence=20541, chars=[32,72], words=[12,17]))),\n",
       "  AuthShortTask(AuthShort(SpanMention(\"SA\", sentence=20541, chars=[16,17], words=[7,7])), Task(SpanMention(\"analysed the data\", sentence=20542, chars=[5,21], words=[2,4]))),\n",
       "  AuthShortTask(AuthShort(SpanMention(\"SA\", sentence=20541, chars=[16,17], words=[7,7])), Task(SpanMention(\"contributed to data analysis\", sentence=20543, chars=[25,52], words=[10,13]))),\n",
       "  AuthShortTask(AuthShort(SpanMention(\"SA\", sentence=20541, chars=[16,17], words=[7,7])), Task(SpanMention(\"were involved in designing the original studies for which the present data were collected\", sentence=20544, chars=[47,135], words=[20,33]))),\n",
       "  AuthShortTask(AuthShort(SpanMention(\"SA\", sentence=20541, chars=[16,17], words=[7,7])), Task(SpanMention(\"participated in data collection\", sentence=20545, chars=[46,76], words=[19,22]))),\n",
       "  AuthShortTask(AuthShort(SpanMention(\"SA\", sentence=20541, chars=[16,17], words=[7,7])), Task(SpanMention(\"wrote the manuscript with feedback from all co-authors\", sentence=20546, chars=[17,70], words=[6,15]))),\n",
       "  AuthShortTask(AuthShort(SpanMention(\"MLK\", sentence=20541, chars=[20,22], words=[9,9])), Task(SpanMention(\"designed the methodology and the analysis\", sentence=20541, chars=[32,72], words=[12,17]))),\n",
       "  AuthShortTask(AuthShort(SpanMention(\"MLK\", sentence=20541, chars=[20,22], words=[9,9])), Task(SpanMention(\"analysed the data\", sentence=20542, chars=[5,21], words=[2,4]))),\n",
       "  AuthShortTask(AuthShort(SpanMention(\"MLK\", sentence=20541, chars=[20,22], words=[9,9])), Task(SpanMention(\"contributed to data analysis\", sentence=20543, chars=[25,52], words=[10,13]))),\n",
       "  AuthShortTask(AuthShort(SpanMention(\"MLK\", sentence=20541, chars=[20,22], words=[9,9])), Task(SpanMention(\"were involved in designing the original studies for which the present data were collected\", sentence=20544, chars=[47,135], words=[20,33]))),\n",
       "  AuthShortTask(AuthShort(SpanMention(\"MLK\", sentence=20541, chars=[20,22], words=[9,9])), Task(SpanMention(\"participated in data collection\", sentence=20545, chars=[46,76], words=[19,22]))),\n",
       "  AuthShortTask(AuthShort(SpanMention(\"MLK\", sentence=20541, chars=[20,22], words=[9,9])), Task(SpanMention(\"wrote the manuscript with feedback from all co-authors\", sentence=20546, chars=[17,70], words=[6,15]))),\n",
       "  AuthShortTask(AuthShort(SpanMention(\"EAS\", sentence=20541, chars=[28,30], words=[11,11])), Task(SpanMention(\"designed the methodology and the analysis\", sentence=20541, chars=[32,72], words=[12,17]))),\n",
       "  AuthShortTask(AuthShort(SpanMention(\"EAS\", sentence=20541, chars=[28,30], words=[11,11])), Task(SpanMention(\"analysed the data\", sentence=20542, chars=[5,21], words=[2,4]))),\n",
       "  AuthShortTask(AuthShort(SpanMention(\"EAS\", sentence=20541, chars=[28,30], words=[11,11])), Task(SpanMention(\"contributed to data analysis\", sentence=20543, chars=[25,52], words=[10,13]))),\n",
       "  AuthShortTask(AuthShort(SpanMention(\"EAS\", sentence=20541, chars=[28,30], words=[11,11])), Task(SpanMention(\"were involved in designing the original studies for which the present data were collected\", sentence=20544, chars=[47,135], words=[20,33]))),\n",
       "  AuthShortTask(AuthShort(SpanMention(\"EAS\", sentence=20541, chars=[28,30], words=[11,11])), Task(SpanMention(\"participated in data collection\", sentence=20545, chars=[46,76], words=[19,22]))),\n",
       "  AuthShortTask(AuthShort(SpanMention(\"EAS\", sentence=20541, chars=[28,30], words=[11,11])), Task(SpanMention(\"wrote the manuscript with feedback from all co-authors\", sentence=20546, chars=[17,70], words=[6,15]))),\n",
       "  AuthShortTask(AuthShort(SpanMention(\"AIL\", sentence=20542, chars=[1,3], words=[1,1])), Task(SpanMention(\"designed the methodology and the analysis\", sentence=20541, chars=[32,72], words=[12,17]))),\n",
       "  AuthShortTask(AuthShort(SpanMention(\"AIL\", sentence=20542, chars=[1,3], words=[1,1])), Task(SpanMention(\"analysed the data\", sentence=20542, chars=[5,21], words=[2,4]))),\n",
       "  AuthShortTask(AuthShort(SpanMention(\"AIL\", sentence=20542, chars=[1,3], words=[1,1])), Task(SpanMention(\"contributed to data analysis\", sentence=20543, chars=[25,52], words=[10,13]))),\n",
       "  AuthShortTask(AuthShort(SpanMention(\"AIL\", sentence=20542, chars=[1,3], words=[1,1])), Task(SpanMention(\"were involved in designing the original studies for which the present data were collected\", sentence=20544, chars=[47,135], words=[20,33]))),\n",
       "  AuthShortTask(AuthShort(SpanMention(\"AIL\", sentence=20542, chars=[1,3], words=[1,1])), Task(SpanMention(\"participated in data collection\", sentence=20545, chars=[46,76], words=[19,22]))),\n",
       "  AuthShortTask(AuthShort(SpanMention(\"AIL\", sentence=20542, chars=[1,3], words=[1,1])), Task(SpanMention(\"wrote the manuscript with feedback from all co-authors\", sentence=20546, chars=[17,70], words=[6,15]))),\n",
       "  AuthShortTask(AuthShort(SpanMention(\"JV\", sentence=20543, chars=[1,2], words=[1,1])), Task(SpanMention(\"designed the methodology and the analysis\", sentence=20541, chars=[32,72], words=[12,17]))),\n",
       "  AuthShortTask(AuthShort(SpanMention(\"JV\", sentence=20543, chars=[1,2], words=[1,1])), Task(SpanMention(\"analysed the data\", sentence=20542, chars=[5,21], words=[2,4]))),\n",
       "  AuthShortTask(AuthShort(SpanMention(\"JV\", sentence=20543, chars=[1,2], words=[1,1])), Task(SpanMention(\"contributed to data analysis\", sentence=20543, chars=[25,52], words=[10,13]))),\n",
       "  AuthShortTask(AuthShort(SpanMention(\"JV\", sentence=20543, chars=[1,2], words=[1,1])), Task(SpanMention(\"were involved in designing the original studies for which the present data were collected\", sentence=20544, chars=[47,135], words=[20,33]))),\n",
       "  AuthShortTask(AuthShort(SpanMention(\"JV\", sentence=20543, chars=[1,2], words=[1,1])), Task(SpanMention(\"participated in data collection\", sentence=20545, chars=[46,76], words=[19,22]))),\n",
       "  AuthShortTask(AuthShort(SpanMention(\"JV\", sentence=20543, chars=[1,2], words=[1,1])), Task(SpanMention(\"wrote the manuscript with feedback from all co-authors\", sentence=20546, chars=[17,70], words=[6,15]))),\n",
       "  AuthShortTask(AuthShort(SpanMention(\"PAMM\", sentence=20543, chars=[5,8], words=[3,3])), Task(SpanMention(\"designed the methodology and the analysis\", sentence=20541, chars=[32,72], words=[12,17]))),\n",
       "  AuthShortTask(AuthShort(SpanMention(\"PAMM\", sentence=20543, chars=[5,8], words=[3,3])), Task(SpanMention(\"analysed the data\", sentence=20542, chars=[5,21], words=[2,4]))),\n",
       "  AuthShortTask(AuthShort(SpanMention(\"PAMM\", sentence=20543, chars=[5,8], words=[3,3])), Task(SpanMention(\"contributed to data analysis\", sentence=20543, chars=[25,52], words=[10,13]))),\n",
       "  AuthShortTask(AuthShort(SpanMention(\"PAMM\", sentence=20543, chars=[5,8], words=[3,3])), Task(SpanMention(\"were involved in designing the original studies for which the present data were collected\", sentence=20544, chars=[47,135], words=[20,33]))),\n",
       "  AuthShortTask(AuthShort(SpanMention(\"PAMM\", sentence=20543, chars=[5,8], words=[3,3])), Task(SpanMention(\"participated in data collection\", sentence=20545, chars=[46,76], words=[19,22]))),\n",
       "  AuthShortTask(AuthShort(SpanMention(\"PAMM\", sentence=20543, chars=[5,8], words=[3,3])), Task(SpanMention(\"wrote the manuscript with feedback from all co-authors\", sentence=20546, chars=[17,70], words=[6,15]))),\n",
       "  AuthShortTask(AuthShort(SpanMention(\"MMC\", sentence=20543, chars=[11,13], words=[5,5])), Task(SpanMention(\"designed the methodology and the analysis\", sentence=20541, chars=[32,72], words=[12,17]))),\n",
       "  AuthShortTask(AuthShort(SpanMention(\"MMC\", sentence=20543, chars=[11,13], words=[5,5])), Task(SpanMention(\"analysed the data\", sentence=20542, chars=[5,21], words=[2,4]))),\n",
       "  AuthShortTask(AuthShort(SpanMention(\"MMC\", sentence=20543, chars=[11,13], words=[5,5])), Task(SpanMention(\"contributed to data analysis\", sentence=20543, chars=[25,52], words=[10,13]))),\n",
       "  AuthShortTask(AuthShort(SpanMention(\"MMC\", sentence=20543, chars=[11,13], words=[5,5])), Task(SpanMention(\"were involved in designing the original studies for which the present data were collected\", sentence=20544, chars=[47,135], words=[20,33]))),\n",
       "  AuthShortTask(AuthShort(SpanMention(\"MMC\", sentence=20543, chars=[11,13], words=[5,5])), Task(SpanMention(\"participated in data collection\", sentence=20545, chars=[46,76], words=[19,22]))),\n",
       "  AuthShortTask(AuthShort(SpanMention(\"MMC\", sentence=20543, chars=[11,13], words=[5,5])), Task(SpanMention(\"wrote the manuscript with feedback from all co-authors\", sentence=20546, chars=[17,70], words=[6,15]))),\n",
       "  AuthShortTask(AuthShort(SpanMention(\"IP\", sentence=20543, chars=[16,17], words=[7,7])), Task(SpanMention(\"designed the methodology and the analysis\", sentence=20541, chars=[32,72], words=[12,17]))),\n",
       "  AuthShortTask(AuthShort(SpanMention(\"IP\", sentence=20543, chars=[16,17], words=[7,7])), Task(SpanMention(\"analysed the data\", sentence=20542, chars=[5,21], words=[2,4]))),\n",
       "  AuthShortTask(AuthShort(SpanMention(\"IP\", sentence=20543, chars=[16,17], words=[7,7])), Task(SpanMention(\"contributed to data analysis\", sentence=20543, chars=[25,52], words=[10,13]))),\n",
       "  AuthShortTask(AuthShort(SpanMention(\"IP\", sentence=20543, chars=[16,17], words=[7,7])), Task(SpanMention(\"were involved in designing the original studies for which the present data were collected\", sentence=20544, chars=[47,135], words=[20,33]))),\n",
       "  AuthShortTask(AuthShort(SpanMention(\"IP\", sentence=20543, chars=[16,17], words=[7,7])), Task(SpanMention(\"participated in data collection\", sentence=20545, chars=[46,76], words=[19,22]))),\n",
       "  AuthShortTask(AuthShort(SpanMention(\"IP\", sentence=20543, chars=[16,17], words=[7,7])), Task(SpanMention(\"wrote the manuscript with feedback from all co-authors\", sentence=20546, chars=[17,70], words=[6,15]))),\n",
       "  AuthShortTask(AuthShort(SpanMention(\"ARDP\", sentence=20543, chars=[20,23], words=[9,9])), Task(SpanMention(\"designed the methodology and the analysis\", sentence=20541, chars=[32,72], words=[12,17]))),\n",
       "  AuthShortTask(AuthShort(SpanMention(\"ARDP\", sentence=20543, chars=[20,23], words=[9,9])), Task(SpanMention(\"analysed the data\", sentence=20542, chars=[5,21], words=[2,4]))),\n",
       "  AuthShortTask(AuthShort(SpanMention(\"ARDP\", sentence=20543, chars=[20,23], words=[9,9])), Task(SpanMention(\"contributed to data analysis\", sentence=20543, chars=[25,52], words=[10,13]))),\n",
       "  AuthShortTask(AuthShort(SpanMention(\"ARDP\", sentence=20543, chars=[20,23], words=[9,9])), Task(SpanMention(\"were involved in designing the original studies for which the present data were collected\", sentence=20544, chars=[47,135], words=[20,33]))),\n",
       "  AuthShortTask(AuthShort(SpanMention(\"ARDP\", sentence=20543, chars=[20,23], words=[9,9])), Task(SpanMention(\"participated in data collection\", sentence=20545, chars=[46,76], words=[19,22]))),\n",
       "  AuthShortTask(AuthShort(SpanMention(\"ARDP\", sentence=20543, chars=[20,23], words=[9,9])), Task(SpanMention(\"wrote the manuscript with feedback from all co-authors\", sentence=20546, chars=[17,70], words=[6,15]))),\n",
       "  AuthShortTask(AuthShort(SpanMention(\"PF\", sentence=20544, chars=[1,2], words=[1,1])), Task(SpanMention(\"designed the methodology and the analysis\", sentence=20541, chars=[32,72], words=[12,17]))),\n",
       "  AuthShortTask(AuthShort(SpanMention(\"PF\", sentence=20544, chars=[1,2], words=[1,1])), Task(SpanMention(\"analysed the data\", sentence=20542, chars=[5,21], words=[2,4]))),\n",
       "  AuthShortTask(AuthShort(SpanMention(\"PF\", sentence=20544, chars=[1,2], words=[1,1])), Task(SpanMention(\"contributed to data analysis\", sentence=20543, chars=[25,52], words=[10,13]))),\n",
       "  AuthShortTask(AuthShort(SpanMention(\"PF\", sentence=20544, chars=[1,2], words=[1,1])), Task(SpanMention(\"were involved in designing the original studies for which the present data were collected\", sentence=20544, chars=[47,135], words=[20,33]))),\n",
       "  AuthShortTask(AuthShort(SpanMention(\"PF\", sentence=20544, chars=[1,2], words=[1,1])), Task(SpanMention(\"participated in data collection\", sentence=20545, chars=[46,76], words=[19,22]))),\n",
       "  AuthShortTask(AuthShort(SpanMention(\"PF\", sentence=20544, chars=[1,2], words=[1,1])), Task(SpanMention(\"wrote the manuscript with feedback from all co-authors\", sentence=20546, chars=[17,70], words=[6,15]))),\n",
       "  AuthShortTask(AuthShort(SpanMention(\"GBW\", sentence=20544, chars=[5,7], words=[3,3])), Task(SpanMention(\"designed the methodology and the analysis\", sentence=20541, chars=[32,72], words=[12,17]))),\n",
       "  AuthShortTask(AuthShort(SpanMention(\"GBW\", sentence=20544, chars=[5,7], words=[3,3])), Task(SpanMention(\"analysed the data\", sentence=20542, chars=[5,21], words=[2,4]))),\n",
       "  AuthShortTask(AuthShort(SpanMention(\"GBW\", sentence=20544, chars=[5,7], words=[3,3])), Task(SpanMention(\"contributed to data analysis\", sentence=20543, chars=[25,52], words=[10,13]))),\n",
       "  AuthShortTask(AuthShort(SpanMention(\"GBW\", sentence=20544, chars=[5,7], words=[3,3])), Task(SpanMention(\"were involved in designing the original studies for which the present data were collected\", sentence=20544, chars=[47,135], words=[20,33]))),\n",
       "  AuthShortTask(AuthShort(SpanMention(\"GBW\", sentence=20544, chars=[5,7], words=[3,3])), Task(SpanMention(\"participated in data collection\", sentence=20545, chars=[46,76], words=[19,22]))),\n",
       "  AuthShortTask(AuthShort(SpanMention(\"GBW\", sentence=20544, chars=[5,7], words=[3,3])), Task(SpanMention(\"wrote the manuscript with feedback from all co-authors\", sentence=20546, chars=[17,70], words=[6,15]))),\n",
       "  AuthShortTask(AuthShort(SpanMention(\"JA\", sentence=20544, chars=[10,11], words=[5,5])), Task(SpanMention(\"designed the methodology and the analysis\", sentence=20541, chars=[32,72], words=[12,17]))),\n",
       "  AuthShortTask(AuthShort(SpanMention(\"JA\", sentence=20544, chars=[10,11], words=[5,5])), Task(SpanMention(\"analysed the data\", sentence=20542, chars=[5,21], words=[2,4]))),\n",
       "  AuthShortTask(AuthShort(SpanMention(\"JA\", sentence=20544, chars=[10,11], words=[5,5])), Task(SpanMention(\"contributed to data analysis\", sentence=20543, chars=[25,52], words=[10,13]))),\n",
       "  AuthShortTask(AuthShort(SpanMention(\"JA\", sentence=20544, chars=[10,11], words=[5,5])), Task(SpanMention(\"were involved in designing the original studies for which the present data were collected\", sentence=20544, chars=[47,135], words=[20,33]))),\n",
       "  AuthShortTask(AuthShort(SpanMention(\"JA\", sentence=20544, chars=[10,11], words=[5,5])), Task(SpanMention(\"participated in data collection\", sentence=20545, chars=[46,76], words=[19,22]))),\n",
       "  AuthShortTask(AuthShort(SpanMention(\"JA\", sentence=20544, chars=[10,11], words=[5,5])), Task(SpanMention(\"wrote the manuscript with feedback from all co-authors\", sentence=20546, chars=[17,70], words=[6,15]))),\n",
       "  AuthShortTask(AuthShort(SpanMention(\"JDP\", sentence=20544, chars=[14,16], words=[7,7])), Task(SpanMention(\"designed the methodology and the analysis\", sentence=20541, chars=[32,72], words=[12,17]))),\n",
       "  AuthShortTask(AuthShort(SpanMention(\"JDP\", sentence=20544, chars=[14,16], words=[7,7])), Task(SpanMention(\"analysed the data\", sentence=20542, chars=[5,21], words=[2,4]))),\n",
       "  AuthShortTask(AuthShort(SpanMention(\"JDP\", sentence=20544, chars=[14,16], words=[7,7])), Task(SpanMention(\"contributed to data analysis\", sentence=20543, chars=[25,52], words=[10,13]))),\n",
       "  AuthShortTask(AuthShort(SpanMention(\"JDP\", sentence=20544, chars=[14,16], words=[7,7])), Task(SpanMention(\"were involved in designing the original studies for which the present data were collected\", sentence=20544, chars=[47,135], words=[20,33]))),\n",
       "  AuthShortTask(AuthShort(SpanMention(\"JDP\", sentence=20544, chars=[14,16], words=[7,7])), Task(SpanMention(\"participated in data collection\", sentence=20545, chars=[46,76], words=[19,22]))),\n",
       "  AuthShortTask(AuthShort(SpanMention(\"JDP\", sentence=20544, chars=[14,16], words=[7,7])), Task(SpanMention(\"wrote the manuscript with feedback from all co-authors\", sentence=20546, chars=[17,70], words=[6,15]))),\n",
       "  AuthShortTask(AuthShort(SpanMention(\"RA\", sentence=20544, chars=[19,20], words=[9,9])), Task(SpanMention(\"designed the methodology and the analysis\", sentence=20541, chars=[32,72], words=[12,17]))),\n",
       "  AuthShortTask(AuthShort(SpanMention(\"RA\", sentence=20544, chars=[19,20], words=[9,9])), Task(SpanMention(\"analysed the data\", sentence=20542, chars=[5,21], words=[2,4]))),\n",
       "  AuthShortTask(AuthShort(SpanMention(\"RA\", sentence=20544, chars=[19,20], words=[9,9])), Task(SpanMention(\"contributed to data analysis\", sentence=20543, chars=[25,52], words=[10,13]))),\n",
       "  AuthShortTask(AuthShort(SpanMention(\"RA\", sentence=20544, chars=[19,20], words=[9,9])), Task(SpanMention(\"were involved in designing the original studies for which the present data were collected\", sentence=20544, chars=[47,135], words=[20,33]))),\n",
       "  AuthShortTask(AuthShort(SpanMention(\"RA\", sentence=20544, chars=[19,20], words=[9,9])), Task(SpanMention(\"participated in data collection\", sentence=20545, chars=[46,76], words=[19,22]))),\n",
       "  AuthShortTask(AuthShort(SpanMention(\"RA\", sentence=20544, chars=[19,20], words=[9,9])), Task(SpanMention(\"wrote the manuscript with feedback from all co-authors\", sentence=20546, chars=[17,70], words=[6,15]))),\n",
       "  AuthShortTask(AuthShort(SpanMention(\"DKM\", sentence=20544, chars=[23,25], words=[11,11])), Task(SpanMention(\"designed the methodology and the analysis\", sentence=20541, chars=[32,72], words=[12,17]))),\n",
       "  AuthShortTask(AuthShort(SpanMention(\"DKM\", sentence=20544, chars=[23,25], words=[11,11])), Task(SpanMention(\"analysed the data\", sentence=20542, chars=[5,21], words=[2,4]))),\n",
       "  AuthShortTask(AuthShort(SpanMention(\"DKM\", sentence=20544, chars=[23,25], words=[11,11])), Task(SpanMention(\"contributed to data analysis\", sentence=20543, chars=[25,52], words=[10,13]))),\n",
       "  AuthShortTask(AuthShort(SpanMention(\"DKM\", sentence=20544, chars=[23,25], words=[11,11])), Task(SpanMention(\"were involved in designing the original studies for which the present data were collected\", sentence=20544, chars=[47,135], words=[20,33]))),\n",
       "  AuthShortTask(AuthShort(SpanMention(\"DKM\", sentence=20544, chars=[23,25], words=[11,11])), Task(SpanMention(\"participated in data collection\", sentence=20545, chars=[46,76], words=[19,22]))),\n",
       "  AuthShortTask(AuthShort(SpanMention(\"DKM\", sentence=20544, chars=[23,25], words=[11,11])), Task(SpanMention(\"wrote the manuscript with feedback from all co-authors\", sentence=20546, chars=[17,70], words=[6,15]))),\n",
       "  AuthShortTask(AuthShort(SpanMention(\"EAS\", sentence=20544, chars=[28,30], words=[13,13])), Task(SpanMention(\"designed the methodology and the analysis\", sentence=20541, chars=[32,72], words=[12,17]))),\n",
       "  AuthShortTask(AuthShort(SpanMention(\"EAS\", sentence=20544, chars=[28,30], words=[13,13])), Task(SpanMention(\"analysed the data\", sentence=20542, chars=[5,21], words=[2,4]))),\n",
       "  AuthShortTask(AuthShort(SpanMention(\"EAS\", sentence=20544, chars=[28,30], words=[13,13])), Task(SpanMention(\"contributed to data analysis\", sentence=20543, chars=[25,52], words=[10,13]))),\n",
       "  AuthShortTask(AuthShort(SpanMention(\"EAS\", sentence=20544, chars=[28,30], words=[13,13])), Task(SpanMention(\"were involved in designing the original studies for which the present data were collected\", sentence=20544, chars=[47,135], words=[20,33]))),\n",
       "  AuthShortTask(AuthShort(SpanMention(\"EAS\", sentence=20544, chars=[28,30], words=[13,13])), Task(SpanMention(\"participated in data collection\", sentence=20545, chars=[46,76], words=[19,22]))),\n",
       "  AuthShortTask(AuthShort(SpanMention(\"EAS\", sentence=20544, chars=[28,30], words=[13,13])), Task(SpanMention(\"wrote the manuscript with feedback from all co-authors\", sentence=20546, chars=[17,70], words=[6,15]))),\n",
       "  AuthShortTask(AuthShort(SpanMention(\"LR\", sentence=20544, chars=[33,34], words=[15,15])), Task(SpanMention(\"designed the methodology and the analysis\", sentence=20541, chars=[32,72], words=[12,17]))),\n",
       "  AuthShortTask(AuthShort(SpanMention(\"LR\", sentence=20544, chars=[33,34], words=[15,15])), Task(SpanMention(\"analysed the data\", sentence=20542, chars=[5,21], words=[2,4]))),\n",
       "  AuthShortTask(AuthShort(SpanMention(\"LR\", sentence=20544, chars=[33,34], words=[15,15])), Task(SpanMention(\"contributed to data analysis\", sentence=20543, chars=[25,52], words=[10,13]))),\n",
       "  AuthShortTask(AuthShort(SpanMention(\"LR\", sentence=20544, chars=[33,34], words=[15,15])), Task(SpanMention(\"were involved in designing the original studies for which the present data were collected\", sentence=20544, chars=[47,135], words=[20,33]))),\n",
       "  AuthShortTask(AuthShort(SpanMention(\"LR\", sentence=20544, chars=[33,34], words=[15,15])), Task(SpanMention(\"participated in data collection\", sentence=20545, chars=[46,76], words=[19,22]))),\n",
       "  AuthShortTask(AuthShort(SpanMention(\"LR\", sentence=20544, chars=[33,34], words=[15,15])), Task(SpanMention(\"wrote the manuscript with feedback from all co-authors\", sentence=20546, chars=[17,70], words=[6,15]))),\n",
       "  AuthShortTask(AuthShort(SpanMention(\"RLCH\", sentence=20544, chars=[37,40], words=[17,17])), Task(SpanMention(\"designed the methodology and the analysis\", sentence=20541, chars=[32,72], words=[12,17]))),\n",
       "  AuthShortTask(AuthShort(SpanMention(\"RLCH\", sentence=20544, chars=[37,40], words=[17,17])), Task(SpanMention(\"analysed the data\", sentence=20542, chars=[5,21], words=[2,4]))),\n",
       "  AuthShortTask(AuthShort(SpanMention(\"RLCH\", sentence=20544, chars=[37,40], words=[17,17])), Task(SpanMention(\"contributed to data analysis\", sentence=20543, chars=[25,52], words=[10,13]))),\n",
       "  AuthShortTask(AuthShort(SpanMention(\"RLCH\", sentence=20544, chars=[37,40], words=[17,17])), Task(SpanMention(\"were involved in designing the original studies for which the present data were collected\", sentence=20544, chars=[47,135], words=[20,33]))),\n",
       "  AuthShortTask(AuthShort(SpanMention(\"RLCH\", sentence=20544, chars=[37,40], words=[17,17])), Task(SpanMention(\"participated in data collection\", sentence=20545, chars=[46,76], words=[19,22]))),\n",
       "  AuthShortTask(AuthShort(SpanMention(\"RLCH\", sentence=20544, chars=[37,40], words=[17,17])), Task(SpanMention(\"wrote the manuscript with feedback from all co-authors\", sentence=20546, chars=[17,70], words=[6,15]))),\n",
       "  AuthShortTask(AuthShort(SpanMention(\"BJS\", sentence=20544, chars=[43,45], words=[19,19])), Task(SpanMention(\"designed the methodology and the analysis\", sentence=20541, chars=[32,72], words=[12,17]))),\n",
       "  AuthShortTask(AuthShort(SpanMention(\"BJS\", sentence=20544, chars=[43,45], words=[19,19])), Task(SpanMention(\"analysed the data\", sentence=20542, chars=[5,21], words=[2,4]))),\n",
       "  AuthShortTask(AuthShort(SpanMention(\"BJS\", sentence=20544, chars=[43,45], words=[19,19])), Task(SpanMention(\"contributed to data analysis\", sentence=20543, chars=[25,52], words=[10,13]))),\n",
       "  AuthShortTask(AuthShort(SpanMention(\"BJS\", sentence=20544, chars=[43,45], words=[19,19])), Task(SpanMention(\"were involved in designing the original studies for which the present data were collected\", sentence=20544, chars=[47,135], words=[20,33]))),\n",
       "  AuthShortTask(AuthShort(SpanMention(\"BJS\", sentence=20544, chars=[43,45], words=[19,19])), Task(SpanMention(\"participated in data collection\", sentence=20545, chars=[46,76], words=[19,22]))),\n",
       "  AuthShortTask(AuthShort(SpanMention(\"BJS\", sentence=20544, chars=[43,45], words=[19,19])), Task(SpanMention(\"wrote the manuscript with feedback from all co-authors\", sentence=20546, chars=[17,70], words=[6,15]))),\n",
       "  AuthShortTask(AuthShort(SpanMention(\"PF\", sentence=20545, chars=[1,2], words=[1,1])), Task(SpanMention(\"designed the methodology and the analysis\", sentence=20541, chars=[32,72], words=[12,17]))),\n",
       "  AuthShortTask(AuthShort(SpanMention(\"PF\", sentence=20545, chars=[1,2], words=[1,1])), Task(SpanMention(\"analysed the data\", sentence=20542, chars=[5,21], words=[2,4]))),\n",
       "  AuthShortTask(AuthShort(SpanMention(\"PF\", sentence=20545, chars=[1,2], words=[1,1])), Task(SpanMention(\"contributed to data analysis\", sentence=20543, chars=[25,52], words=[10,13]))),\n",
       "  AuthShortTask(AuthShort(SpanMention(\"PF\", sentence=20545, chars=[1,2], words=[1,1])), Task(SpanMention(\"were involved in designing the original studies for which the present data were collected\", sentence=20544, chars=[47,135], words=[20,33]))),\n",
       "  AuthShortTask(AuthShort(SpanMention(\"PF\", sentence=20545, chars=[1,2], words=[1,1])), Task(SpanMention(\"participated in data collection\", sentence=20545, chars=[46,76], words=[19,22]))),\n",
       "  AuthShortTask(AuthShort(SpanMention(\"PF\", sentence=20545, chars=[1,2], words=[1,1])), Task(SpanMention(\"wrote the manuscript with feedback from all co-authors\", sentence=20546, chars=[17,70], words=[6,15]))),\n",
       "  AuthShortTask(AuthShort(SpanMention(\"MMC\", sentence=20545, chars=[5,7], words=[3,3])), Task(SpanMention(\"designed the methodology and the analysis\", sentence=20541, chars=[32,72], words=[12,17]))),\n",
       "  AuthShortTask(AuthShort(SpanMention(\"MMC\", sentence=20545, chars=[5,7], words=[3,3])), Task(SpanMention(\"analysed the data\", sentence=20542, chars=[5,21], words=[2,4]))),\n",
       "  AuthShortTask(AuthShort(SpanMention(\"MMC\", sentence=20545, chars=[5,7], words=[3,3])), Task(SpanMention(\"contributed to data analysis\", sentence=20543, chars=[25,52], words=[10,13]))),\n",
       "  AuthShortTask(AuthShort(SpanMention(\"MMC\", sentence=20545, chars=[5,7], words=[3,3])), Task(SpanMention(\"were involved in designing the original studies for which the present data were collected\", sentence=20544, chars=[47,135], words=[20,33]))),\n",
       "  AuthShortTask(AuthShort(SpanMention(\"MMC\", sentence=20545, chars=[5,7], words=[3,3])), Task(SpanMention(\"participated in data collection\", sentence=20545, chars=[46,76], words=[19,22]))),\n",
       "  AuthShortTask(AuthShort(SpanMention(\"MMC\", sentence=20545, chars=[5,7], words=[3,3])), Task(SpanMention(\"wrote the manuscript with feedback from all co-authors\", sentence=20546, chars=[17,70], words=[6,15]))),\n",
       "  AuthShortTask(AuthShort(SpanMention(\"GBW\", sentence=20545, chars=[10,12], words=[5,5])), Task(SpanMention(\"designed the methodology and the analysis\", sentence=20541, chars=[32,72], words=[12,17]))),\n",
       "  AuthShortTask(AuthShort(SpanMention(\"GBW\", sentence=20545, chars=[10,12], words=[5,5])), Task(SpanMention(\"analysed the data\", sentence=20542, chars=[5,21], words=[2,4]))),\n",
       "  AuthShortTask(AuthShort(SpanMention(\"GBW\", sentence=20545, chars=[10,12], words=[5,5])), Task(SpanMention(\"contributed to data analysis\", sentence=20543, chars=[25,52], words=[10,13]))),\n",
       "  AuthShortTask(AuthShort(SpanMention(\"GBW\", sentence=20545, chars=[10,12], words=[5,5])), Task(SpanMention(\"were involved in designing the original studies for which the present data were collected\", sentence=20544, chars=[47,135], words=[20,33]))),\n",
       "  AuthShortTask(AuthShort(SpanMention(\"GBW\", sentence=20545, chars=[10,12], words=[5,5])), Task(SpanMention(\"participated in data collection\", sentence=20545, chars=[46,76], words=[19,22]))),\n",
       "  AuthShortTask(AuthShort(SpanMention(\"GBW\", sentence=20545, chars=[10,12], words=[5,5])), Task(SpanMention(\"wrote the manuscript with feedback from all co-authors\", sentence=20546, chars=[17,70], words=[6,15]))),\n",
       "  AuthShortTask(AuthShort(SpanMention(\"JA\", sentence=20545, chars=[15,16], words=[7,7])), Task(SpanMention(\"designed the methodology and the analysis\", sentence=20541, chars=[32,72], words=[12,17]))),\n",
       "  AuthShortTask(AuthShort(SpanMention(\"JA\", sentence=20545, chars=[15,16], words=[7,7])), Task(SpanMention(\"analysed the data\", sentence=20542, chars=[5,21], words=[2,4]))),\n",
       "  AuthShortTask(AuthShort(SpanMention(\"JA\", sentence=20545, chars=[15,16], words=[7,7])), Task(SpanMention(\"contributed to data analysis\", sentence=20543, chars=[25,52], words=[10,13]))),\n",
       "  AuthShortTask(AuthShort(SpanMention(\"JA\", sentence=20545, chars=[15,16], words=[7,7])), Task(SpanMention(\"were involved in designing the original studies for which the present data were collected\", sentence=20544, chars=[47,135], words=[20,33]))),\n",
       "  AuthShortTask(AuthShort(SpanMention(\"JA\", sentence=20545, chars=[15,16], words=[7,7])), Task(SpanMention(\"participated in data collection\", sentence=20545, chars=[46,76], words=[19,22]))),\n",
       "  AuthShortTask(AuthShort(SpanMention(\"JA\", sentence=20545, chars=[15,16], words=[7,7])), Task(SpanMention(\"wrote the manuscript with feedback from all co-authors\", sentence=20546, chars=[17,70], words=[6,15]))),\n",
       "  AuthShortTask(AuthShort(SpanMention(\"EAS\", sentence=20545, chars=[19,21], words=[9,9])), Task(SpanMention(\"designed the methodology and the analysis\", sentence=20541, chars=[32,72], words=[12,17]))),\n",
       "  AuthShortTask(AuthShort(SpanMention(\"EAS\", sentence=20545, chars=[19,21], words=[9,9])), Task(SpanMention(\"analysed the data\", sentence=20542, chars=[5,21], words=[2,4]))),\n",
       "  AuthShortTask(AuthShort(SpanMention(\"EAS\", sentence=20545, chars=[19,21], words=[9,9])), Task(SpanMention(\"contributed to data analysis\", sentence=20543, chars=[25,52], words=[10,13]))),\n",
       "  AuthShortTask(AuthShort(SpanMention(\"EAS\", sentence=20545, chars=[19,21], words=[9,9])), Task(SpanMention(\"were involved in designing the original studies for which the present data were collected\", sentence=20544, chars=[47,135], words=[20,33]))),\n",
       "  AuthShortTask(AuthShort(SpanMention(\"EAS\", sentence=20545, chars=[19,21], words=[9,9])), Task(SpanMention(\"participated in data collection\", sentence=20545, chars=[46,76], words=[19,22]))),\n",
       "  AuthShortTask(AuthShort(SpanMention(\"EAS\", sentence=20545, chars=[19,21], words=[9,9])), Task(SpanMention(\"wrote the manuscript with feedback from all co-authors\", sentence=20546, chars=[17,70], words=[6,15]))),\n",
       "  AuthShortTask(AuthShort(SpanMention(\"RA\", sentence=20545, chars=[24,25], words=[11,11])), Task(SpanMention(\"designed the methodology and the analysis\", sentence=20541, chars=[32,72], words=[12,17]))),\n",
       "  AuthShortTask(AuthShort(SpanMention(\"RA\", sentence=20545, chars=[24,25], words=[11,11])), Task(SpanMention(\"analysed the data\", sentence=20542, chars=[5,21], words=[2,4]))),\n",
       "  AuthShortTask(AuthShort(SpanMention(\"RA\", sentence=20545, chars=[24,25], words=[11,11])), Task(SpanMention(\"contributed to data analysis\", sentence=20543, chars=[25,52], words=[10,13]))),\n",
       "  AuthShortTask(AuthShort(SpanMention(\"RA\", sentence=20545, chars=[24,25], words=[11,11])), Task(SpanMention(\"were involved in designing the original studies for which the present data were collected\", sentence=20544, chars=[47,135], words=[20,33]))),\n",
       "  AuthShortTask(AuthShort(SpanMention(\"RA\", sentence=20545, chars=[24,25], words=[11,11])), Task(SpanMention(\"participated in data collection\", sentence=20545, chars=[46,76], words=[19,22]))),\n",
       "  AuthShortTask(AuthShort(SpanMention(\"RA\", sentence=20545, chars=[24,25], words=[11,11])), Task(SpanMention(\"wrote the manuscript with feedback from all co-authors\", sentence=20546, chars=[17,70], words=[6,15]))),\n",
       "  AuthShortTask(AuthShort(SpanMention(\"AEM\", sentence=20545, chars=[28,30], words=[13,13])), Task(SpanMention(\"designed the methodology and the analysis\", sentence=20541, chars=[32,72], words=[12,17]))),\n",
       "  AuthShortTask(AuthShort(SpanMention(\"AEM\", sentence=20545, chars=[28,30], words=[13,13])), Task(SpanMention(\"analysed the data\", sentence=20542, chars=[5,21], words=[2,4]))),\n",
       "  AuthShortTask(AuthShort(SpanMention(\"AEM\", sentence=20545, chars=[28,30], words=[13,13])), Task(SpanMention(\"contributed to data analysis\", sentence=20543, chars=[25,52], words=[10,13]))),\n",
       "  AuthShortTask(AuthShort(SpanMention(\"AEM\", sentence=20545, chars=[28,30], words=[13,13])), Task(SpanMention(\"were involved in designing the original studies for which the present data were collected\", sentence=20544, chars=[47,135], words=[20,33]))),\n",
       "  AuthShortTask(AuthShort(SpanMention(\"AEM\", sentence=20545, chars=[28,30], words=[13,13])), Task(SpanMention(\"participated in data collection\", sentence=20545, chars=[46,76], words=[19,22]))),\n",
       "  AuthShortTask(AuthShort(SpanMention(\"AEM\", sentence=20545, chars=[28,30], words=[13,13])), Task(SpanMention(\"wrote the manuscript with feedback from all co-authors\", sentence=20546, chars=[17,70], words=[6,15]))),\n",
       "  AuthShortTask(AuthShort(SpanMention(\"RLCH\", sentence=20545, chars=[33,36], words=[15,15])), Task(SpanMention(\"designed the methodology and the analysis\", sentence=20541, chars=[32,72], words=[12,17]))),\n",
       "  AuthShortTask(AuthShort(SpanMention(\"RLCH\", sentence=20545, chars=[33,36], words=[15,15])), Task(SpanMention(\"analysed the data\", sentence=20542, chars=[5,21], words=[2,4]))),\n",
       "  AuthShortTask(AuthShort(SpanMention(\"RLCH\", sentence=20545, chars=[33,36], words=[15,15])), Task(SpanMention(\"contributed to data analysis\", sentence=20543, chars=[25,52], words=[10,13]))),\n",
       "  AuthShortTask(AuthShort(SpanMention(\"RLCH\", sentence=20545, chars=[33,36], words=[15,15])), Task(SpanMention(\"were involved in designing the original studies for which the present data were collected\", sentence=20544, chars=[47,135], words=[20,33]))),\n",
       "  AuthShortTask(AuthShort(SpanMention(\"RLCH\", sentence=20545, chars=[33,36], words=[15,15])), Task(SpanMention(\"participated in data collection\", sentence=20545, chars=[46,76], words=[19,22]))),\n",
       "  AuthShortTask(AuthShort(SpanMention(\"RLCH\", sentence=20545, chars=[33,36], words=[15,15])), Task(SpanMention(\"wrote the manuscript with feedback from all co-authors\", sentence=20546, chars=[17,70], words=[6,15]))),\n",
       "  AuthShortTask(AuthShort(SpanMention(\"LR\", sentence=20545, chars=[39,40], words=[17,17])), Task(SpanMention(\"designed the methodology and the analysis\", sentence=20541, chars=[32,72], words=[12,17]))),\n",
       "  AuthShortTask(AuthShort(SpanMention(\"LR\", sentence=20545, chars=[39,40], words=[17,17])), Task(SpanMention(\"analysed the data\", sentence=20542, chars=[5,21], words=[2,4]))),\n",
       "  AuthShortTask(AuthShort(SpanMention(\"LR\", sentence=20545, chars=[39,40], words=[17,17])), Task(SpanMention(\"contributed to data analysis\", sentence=20543, chars=[25,52], words=[10,13]))),\n",
       "  AuthShortTask(AuthShort(SpanMention(\"LR\", sentence=20545, chars=[39,40], words=[17,17])), Task(SpanMention(\"were involved in designing the original studies for which the present data were collected\", sentence=20544, chars=[47,135], words=[20,33]))),\n",
       "  AuthShortTask(AuthShort(SpanMention(\"LR\", sentence=20545, chars=[39,40], words=[17,17])), Task(SpanMention(\"participated in data collection\", sentence=20545, chars=[46,76], words=[19,22]))),\n",
       "  AuthShortTask(AuthShort(SpanMention(\"LR\", sentence=20545, chars=[39,40], words=[17,17])), Task(SpanMention(\"wrote the manuscript with feedback from all co-authors\", sentence=20546, chars=[17,70], words=[6,15]))),\n",
       "  AuthShortTask(AuthShort(SpanMention(\"AIL\", sentence=20546, chars=[1,3], words=[1,1])), Task(SpanMention(\"designed the methodology and the analysis\", sentence=20541, chars=[32,72], words=[12,17]))),\n",
       "  AuthShortTask(AuthShort(SpanMention(\"AIL\", sentence=20546, chars=[1,3], words=[1,1])), Task(SpanMention(\"analysed the data\", sentence=20542, chars=[5,21], words=[2,4]))),\n",
       "  AuthShortTask(AuthShort(SpanMention(\"AIL\", sentence=20546, chars=[1,3], words=[1,1])), Task(SpanMention(\"contributed to data analysis\", sentence=20543, chars=[25,52], words=[10,13]))),\n",
       "  AuthShortTask(AuthShort(SpanMention(\"AIL\", sentence=20546, chars=[1,3], words=[1,1])), Task(SpanMention(\"were involved in designing the original studies for which the present data were collected\", sentence=20544, chars=[47,135], words=[20,33]))),\n",
       "  AuthShortTask(AuthShort(SpanMention(\"AIL\", sentence=20546, chars=[1,3], words=[1,1])), Task(SpanMention(\"participated in data collection\", sentence=20545, chars=[46,76], words=[19,22]))),\n",
       "  AuthShortTask(AuthShort(SpanMention(\"AIL\", sentence=20546, chars=[1,3], words=[1,1])), Task(SpanMention(\"wrote the manuscript with feedback from all co-authors\", sentence=20546, chars=[17,70], words=[6,15]))),\n",
       "  AuthShortTask(AuthShort(SpanMention(\"EAS\", sentence=20546, chars=[6,8], words=[3,3])), Task(SpanMention(\"designed the methodology and the analysis\", sentence=20541, chars=[32,72], words=[12,17]))),\n",
       "  AuthShortTask(AuthShort(SpanMention(\"EAS\", sentence=20546, chars=[6,8], words=[3,3])), Task(SpanMention(\"analysed the data\", sentence=20542, chars=[5,21], words=[2,4]))),\n",
       "  AuthShortTask(AuthShort(SpanMention(\"EAS\", sentence=20546, chars=[6,8], words=[3,3])), Task(SpanMention(\"contributed to data analysis\", sentence=20543, chars=[25,52], words=[10,13]))),\n",
       "  AuthShortTask(AuthShort(SpanMention(\"EAS\", sentence=20546, chars=[6,8], words=[3,3])), Task(SpanMention(\"were involved in designing the original studies for which the present data were collected\", sentence=20544, chars=[47,135], words=[20,33]))),\n",
       "  AuthShortTask(AuthShort(SpanMention(\"EAS\", sentence=20546, chars=[6,8], words=[3,3])), Task(SpanMention(\"participated in data collection\", sentence=20545, chars=[46,76], words=[19,22]))),\n",
       "  AuthShortTask(AuthShort(SpanMention(\"EAS\", sentence=20546, chars=[6,8], words=[3,3])), Task(SpanMention(\"wrote the manuscript with feedback from all co-authors\", sentence=20546, chars=[17,70], words=[6,15]))),\n",
       "  AuthShortTask(AuthShort(SpanMention(\"SA\", sentence=20546, chars=[14,15], words=[5,5])), Task(SpanMention(\"designed the methodology and the analysis\", sentence=20541, chars=[32,72], words=[12,17]))),\n",
       "  AuthShortTask(AuthShort(SpanMention(\"SA\", sentence=20546, chars=[14,15], words=[5,5])), Task(SpanMention(\"analysed the data\", sentence=20542, chars=[5,21], words=[2,4]))),\n",
       "  AuthShortTask(AuthShort(SpanMention(\"SA\", sentence=20546, chars=[14,15], words=[5,5])), Task(SpanMention(\"contributed to data analysis\", sentence=20543, chars=[25,52], words=[10,13]))),\n",
       "  AuthShortTask(AuthShort(SpanMention(\"SA\", sentence=20546, chars=[14,15], words=[5,5])), Task(SpanMention(\"were involved in designing the original studies for which the present data were collected\", sentence=20544, chars=[47,135], words=[20,33]))),\n",
       "  AuthShortTask(AuthShort(SpanMention(\"SA\", sentence=20546, chars=[14,15], words=[5,5])), Task(SpanMention(\"participated in data collection\", sentence=20545, chars=[46,76], words=[19,22]))),\n",
       "  AuthShortTask(AuthShort(SpanMention(\"SA\", sentence=20546, chars=[14,15], words=[5,5])), Task(SpanMention(\"wrote the manuscript with feedback from all co-authors\", sentence=20546, chars=[17,70], words=[6,15]))),\n",
       "  AuthShortTask(AuthShort(SpanMention(\"AIL\", sentence=20550, chars=[0,2], words=[0,0])), Task(SpanMention(\"designed the methodology and the analysis\", sentence=20541, chars=[32,72], words=[12,17]))),\n",
       "  AuthShortTask(AuthShort(SpanMention(\"AIL\", sentence=20550, chars=[0,2], words=[0,0])), Task(SpanMention(\"analysed the data\", sentence=20542, chars=[5,21], words=[2,4]))),\n",
       "  AuthShortTask(AuthShort(SpanMention(\"AIL\", sentence=20550, chars=[0,2], words=[0,0])), Task(SpanMention(\"contributed to data analysis\", sentence=20543, chars=[25,52], words=[10,13]))),\n",
       "  AuthShortTask(AuthShort(SpanMention(\"AIL\", sentence=20550, chars=[0,2], words=[0,0])), Task(SpanMention(\"were involved in designing the original studies for which the present data were collected\", sentence=20544, chars=[47,135], words=[20,33]))),\n",
       "  AuthShortTask(AuthShort(SpanMention(\"AIL\", sentence=20550, chars=[0,2], words=[0,0])), Task(SpanMention(\"participated in data collection\", sentence=20545, chars=[46,76], words=[19,22]))),\n",
       "  AuthShortTask(AuthShort(SpanMention(\"AIL\", sentence=20550, chars=[0,2], words=[0,0])), Task(SpanMention(\"wrote the manuscript with feedback from all co-authors\", sentence=20546, chars=[17,70], words=[6,15]))),\n",
       "  AuthShortTask(AuthShort(SpanMention(\"JV\", sentence=20550, chars=[5,6], words=[2,2])), Task(SpanMention(\"designed the methodology and the analysis\", sentence=20541, chars=[32,72], words=[12,17]))),\n",
       "  AuthShortTask(AuthShort(SpanMention(\"JV\", sentence=20550, chars=[5,6], words=[2,2])), Task(SpanMention(\"analysed the data\", sentence=20542, chars=[5,21], words=[2,4]))),\n",
       "  AuthShortTask(AuthShort(SpanMention(\"JV\", sentence=20550, chars=[5,6], words=[2,2])), Task(SpanMention(\"contributed to data analysis\", sentence=20543, chars=[25,52], words=[10,13]))),\n",
       "  AuthShortTask(AuthShort(SpanMention(\"JV\", sentence=20550, chars=[5,6], words=[2,2])), Task(SpanMention(\"were involved in designing the original studies for which the present data were collected\", sentence=20544, chars=[47,135], words=[20,33]))),\n",
       "  AuthShortTask(AuthShort(SpanMention(\"JV\", sentence=20550, chars=[5,6], words=[2,2])), Task(SpanMention(\"participated in data collection\", sentence=20545, chars=[46,76], words=[19,22]))),\n",
       "  AuthShortTask(AuthShort(SpanMention(\"JV\", sentence=20550, chars=[5,6], words=[2,2])), Task(SpanMention(\"wrote the manuscript with feedback from all co-authors\", sentence=20546, chars=[17,70], words=[6,15]))),\n",
       "  AuthShortTask(AuthShort(SpanMention(\"PAMM\", sentence=20550, chars=[12,15], words=[4,4])), Task(SpanMention(\"designed the methodology and the analysis\", sentence=20541, chars=[32,72], words=[12,17]))),\n",
       "  AuthShortTask(AuthShort(SpanMention(\"PAMM\", sentence=20550, chars=[12,15], words=[4,4])), Task(SpanMention(\"analysed the data\", sentence=20542, chars=[5,21], words=[2,4]))),\n",
       "  AuthShortTask(AuthShort(SpanMention(\"PAMM\", sentence=20550, chars=[12,15], words=[4,4])), Task(SpanMention(\"contributed to data analysis\", sentence=20543, chars=[25,52], words=[10,13]))),\n",
       "  AuthShortTask(AuthShort(SpanMention(\"PAMM\", sentence=20550, chars=[12,15], words=[4,4])), Task(SpanMention(\"were involved in designing the original studies for which the present data were collected\", sentence=20544, chars=[47,135], words=[20,33]))),\n",
       "  AuthShortTask(AuthShort(SpanMention(\"PAMM\", sentence=20550, chars=[12,15], words=[4,4])), Task(SpanMention(\"participated in data collection\", sentence=20545, chars=[46,76], words=[19,22]))),\n",
       "  AuthShortTask(AuthShort(SpanMention(\"PAMM\", sentence=20550, chars=[12,15], words=[4,4])), Task(SpanMention(\"wrote the manuscript with feedback from all co-authors\", sentence=20546, chars=[17,70], words=[6,15]))),\n",
       "  AuthShortTask(AuthShort(SpanMention(\"RA\", sentence=20553, chars=[96,97], words=[20,20])), Task(SpanMention(\"designed the methodology and the analysis\", sentence=20541, chars=[32,72], words=[12,17]))),\n",
       "  AuthShortTask(AuthShort(SpanMention(\"RA\", sentence=20553, chars=[96,97], words=[20,20])), Task(SpanMention(\"analysed the data\", sentence=20542, chars=[5,21], words=[2,4]))),\n",
       "  AuthShortTask(AuthShort(SpanMention(\"RA\", sentence=20553, chars=[96,97], words=[20,20])), Task(SpanMention(\"contributed to data analysis\", sentence=20543, chars=[25,52], words=[10,13]))),\n",
       "  AuthShortTask(AuthShort(SpanMention(\"RA\", sentence=20553, chars=[96,97], words=[20,20])), Task(SpanMention(\"were involved in designing the original studies for which the present data were collected\", sentence=20544, chars=[47,135], words=[20,33]))),\n",
       "  AuthShortTask(AuthShort(SpanMention(\"RA\", sentence=20553, chars=[96,97], words=[20,20])), Task(SpanMention(\"participated in data collection\", sentence=20545, chars=[46,76], words=[19,22]))),\n",
       "  AuthShortTask(AuthShort(SpanMention(\"RA\", sentence=20553, chars=[96,97], words=[20,20])), Task(SpanMention(\"wrote the manuscript with feedback from all co-authors\", sentence=20546, chars=[17,70], words=[6,15]))),\n",
       "  AuthShortTask(AuthShort(SpanMention(\"JDP\", sentence=20558, chars=[5,7], words=[3,3])), Task(SpanMention(\"designed the methodology and the analysis\", sentence=20541, chars=[32,72], words=[12,17]))),\n",
       "  AuthShortTask(AuthShort(SpanMention(\"JDP\", sentence=20558, chars=[5,7], words=[3,3])), Task(SpanMention(\"analysed the data\", sentence=20542, chars=[5,21], words=[2,4]))),\n",
       "  AuthShortTask(AuthShort(SpanMention(\"JDP\", sentence=20558, chars=[5,7], words=[3,3])), Task(SpanMention(\"contributed to data analysis\", sentence=20543, chars=[25,52], words=[10,13]))),\n",
       "  AuthShortTask(AuthShort(SpanMention(\"JDP\", sentence=20558, chars=[5,7], words=[3,3])), Task(SpanMention(\"were involved in designing the original studies for which the present data were collected\", sentence=20544, chars=[47,135], words=[20,33]))),\n",
       "  AuthShortTask(AuthShort(SpanMention(\"JDP\", sentence=20558, chars=[5,7], words=[3,3])), Task(SpanMention(\"participated in data collection\", sentence=20545, chars=[46,76], words=[19,22]))),\n",
       "  AuthShortTask(AuthShort(SpanMention(\"JDP\", sentence=20558, chars=[5,7], words=[3,3])), Task(SpanMention(\"wrote the manuscript with feedback from all co-authors\", sentence=20546, chars=[17,70], words=[6,15]))),\n",
       "  AuthShortTask(AuthShort(SpanMention(\"JDP\", sentence=20559, chars=[23,25], words=[4,4])), Task(SpanMention(\"designed the methodology and the analysis\", sentence=20541, chars=[32,72], words=[12,17]))),\n",
       "  AuthShortTask(AuthShort(SpanMention(\"JDP\", sentence=20559, chars=[23,25], words=[4,4])), Task(SpanMention(\"analysed the data\", sentence=20542, chars=[5,21], words=[2,4]))),\n",
       "  AuthShortTask(AuthShort(SpanMention(\"JDP\", sentence=20559, chars=[23,25], words=[4,4])), Task(SpanMention(\"contributed to data analysis\", sentence=20543, chars=[25,52], words=[10,13]))),\n",
       "  AuthShortTask(AuthShort(SpanMention(\"JDP\", sentence=20559, chars=[23,25], words=[4,4])), Task(SpanMention(\"were involved in designing the original studies for which the present data were collected\", sentence=20544, chars=[47,135], words=[20,33]))),\n",
       "  AuthShortTask(AuthShort(SpanMention(\"JDP\", sentence=20559, chars=[23,25], words=[4,4])), Task(SpanMention(\"participated in data collection\", sentence=20545, chars=[46,76], words=[19,22]))),\n",
       "  AuthShortTask(AuthShort(SpanMention(\"JDP\", sentence=20559, chars=[23,25], words=[4,4])), Task(SpanMention(\"wrote the manuscript with feedback from all co-authors\", sentence=20546, chars=[17,70], words=[6,15]))),\n",
       "  AuthShortTask(AuthShort(SpanMention(\"DKM\", sentence=20559, chars=[110,112], words=[22,22])), Task(SpanMention(\"designed the methodology and the analysis\", sentence=20541, chars=[32,72], words=[12,17]))),\n",
       "  AuthShortTask(AuthShort(SpanMention(\"DKM\", sentence=20559, chars=[110,112], words=[22,22])), Task(SpanMention(\"analysed the data\", sentence=20542, chars=[5,21], words=[2,4]))),\n",
       "  AuthShortTask(AuthShort(SpanMention(\"DKM\", sentence=20559, chars=[110,112], words=[22,22])), Task(SpanMention(\"contributed to data analysis\", sentence=20543, chars=[25,52], words=[10,13]))),\n",
       "  AuthShortTask(AuthShort(SpanMention(\"DKM\", sentence=20559, chars=[110,112], words=[22,22])), Task(SpanMention(\"were involved in designing the original studies for which the present data were collected\", sentence=20544, chars=[47,135], words=[20,33]))),\n",
       "  AuthShortTask(AuthShort(SpanMention(\"DKM\", sentence=20559, chars=[110,112], words=[22,22])), Task(SpanMention(\"participated in data collection\", sentence=20545, chars=[46,76], words=[19,22]))),\n",
       "  AuthShortTask(AuthShort(SpanMention(\"DKM\", sentence=20559, chars=[110,112], words=[22,22])), Task(SpanMention(\"wrote the manuscript with feedback from all co-authors\", sentence=20546, chars=[17,70], words=[6,15]))),\n",
       "  AuthShortTask(AuthShort(SpanMention(\"EAS\", sentence=20559, chars=[118,120], words=[24,24])), Task(SpanMention(\"designed the methodology and the analysis\", sentence=20541, chars=[32,72], words=[12,17]))),\n",
       "  AuthShortTask(AuthShort(SpanMention(\"EAS\", sentence=20559, chars=[118,120], words=[24,24])), Task(SpanMention(\"analysed the data\", sentence=20542, chars=[5,21], words=[2,4]))),\n",
       "  AuthShortTask(AuthShort(SpanMention(\"EAS\", sentence=20559, chars=[118,120], words=[24,24])), Task(SpanMention(\"contributed to data analysis\", sentence=20543, chars=[25,52], words=[10,13]))),\n",
       "  AuthShortTask(AuthShort(SpanMention(\"EAS\", sentence=20559, chars=[118,120], words=[24,24])), Task(SpanMention(\"were involved in designing the original studies for which the present data were collected\", sentence=20544, chars=[47,135], words=[20,33]))),\n",
       "  AuthShortTask(AuthShort(SpanMention(\"EAS\", sentence=20559, chars=[118,120], words=[24,24])), Task(SpanMention(\"participated in data collection\", sentence=20545, chars=[46,76], words=[19,22]))),\n",
       "  AuthShortTask(AuthShort(SpanMention(\"EAS\", sentence=20559, chars=[118,120], words=[24,24])), Task(SpanMention(\"wrote the manuscript with feedback from all co-authors\", sentence=20546, chars=[17,70], words=[6,15]))),\n",
       "  AuthShortTask(AuthShort(SpanMention(\"JDP\", sentence=20559, chars=[253,255], words=[49,49])), Task(SpanMention(\"designed the methodology and the analysis\", sentence=20541, chars=[32,72], words=[12,17]))),\n",
       "  AuthShortTask(AuthShort(SpanMention(\"JDP\", sentence=20559, chars=[253,255], words=[49,49])), Task(SpanMention(\"analysed the data\", sentence=20542, chars=[5,21], words=[2,4]))),\n",
       "  AuthShortTask(AuthShort(SpanMention(\"JDP\", sentence=20559, chars=[253,255], words=[49,49])), Task(SpanMention(\"contributed to data analysis\", sentence=20543, chars=[25,52], words=[10,13]))),\n",
       "  AuthShortTask(AuthShort(SpanMention(\"JDP\", sentence=20559, chars=[253,255], words=[49,49])), Task(SpanMention(\"were involved in designing the original studies for which the present data were collected\", sentence=20544, chars=[47,135], words=[20,33]))),\n",
       "  AuthShortTask(AuthShort(SpanMention(\"JDP\", sentence=20559, chars=[253,255], words=[49,49])), Task(SpanMention(\"participated in data collection\", sentence=20545, chars=[46,76], words=[19,22]))),\n",
       "  AuthShortTask(AuthShort(SpanMention(\"JDP\", sentence=20559, chars=[253,255], words=[49,49])), Task(SpanMention(\"wrote the manuscript with feedback from all co-authors\", sentence=20546, chars=[17,70], words=[6,15]))),\n",
       "  AuthShortTask(AuthShort(SpanMention(\"DKM\", sentence=20559, chars=[261,263], words=[51,51])), Task(SpanMention(\"designed the methodology and the analysis\", sentence=20541, chars=[32,72], words=[12,17]))),\n",
       "  AuthShortTask(AuthShort(SpanMention(\"DKM\", sentence=20559, chars=[261,263], words=[51,51])), Task(SpanMention(\"analysed the data\", sentence=20542, chars=[5,21], words=[2,4]))),\n",
       "  AuthShortTask(AuthShort(SpanMention(\"DKM\", sentence=20559, chars=[261,263], words=[51,51])), Task(SpanMention(\"contributed to data analysis\", sentence=20543, chars=[25,52], words=[10,13]))),\n",
       "  AuthShortTask(AuthShort(SpanMention(\"DKM\", sentence=20559, chars=[261,263], words=[51,51])), Task(SpanMention(\"were involved in designing the original studies for which the present data were collected\", sentence=20544, chars=[47,135], words=[20,33]))),\n",
       "  AuthShortTask(AuthShort(SpanMention(\"DKM\", sentence=20559, chars=[261,263], words=[51,51])), Task(SpanMention(\"participated in data collection\", sentence=20545, chars=[46,76], words=[19,22]))),\n",
       "  AuthShortTask(AuthShort(SpanMention(\"DKM\", sentence=20559, chars=[261,263], words=[51,51])), Task(SpanMention(\"wrote the manuscript with feedback from all co-authors\", sentence=20546, chars=[17,70], words=[6,15]))),\n",
       "  AuthShortTask(AuthShort(SpanMention(\"DKM\", sentence=20559, chars=[339,341], words=[65,65])), Task(SpanMention(\"designed the methodology and the analysis\", sentence=20541, chars=[32,72], words=[12,17]))),\n",
       "  AuthShortTask(AuthShort(SpanMention(\"DKM\", sentence=20559, chars=[339,341], words=[65,65])), Task(SpanMention(\"analysed the data\", sentence=20542, chars=[5,21], words=[2,4]))),\n",
       "  AuthShortTask(AuthShort(SpanMention(\"DKM\", sentence=20559, chars=[339,341], words=[65,65])), Task(SpanMention(\"contributed to data analysis\", sentence=20543, chars=[25,52], words=[10,13]))),\n",
       "  AuthShortTask(AuthShort(SpanMention(\"DKM\", sentence=20559, chars=[339,341], words=[65,65])), Task(SpanMention(\"were involved in designing the original studies for which the present data were collected\", sentence=20544, chars=[47,135], words=[20,33]))),\n",
       "  AuthShortTask(AuthShort(SpanMention(\"DKM\", sentence=20559, chars=[339,341], words=[65,65])), Task(SpanMention(\"participated in data collection\", sentence=20545, chars=[46,76], words=[19,22]))),\n",
       "  AuthShortTask(AuthShort(SpanMention(\"DKM\", sentence=20559, chars=[339,341], words=[65,65])), Task(SpanMention(\"wrote the manuscript with feedback from all co-authors\", sentence=20546, chars=[17,70], words=[6,15]))),\n",
       "  AuthShortTask(AuthShort(SpanMention(\"EAS\", sentence=20559, chars=[419,421], words=[81,81])), Task(SpanMention(\"designed the methodology and the analysis\", sentence=20541, chars=[32,72], words=[12,17]))),\n",
       "  AuthShortTask(AuthShort(SpanMention(\"EAS\", sentence=20559, chars=[419,421], words=[81,81])), Task(SpanMention(\"analysed the data\", sentence=20542, chars=[5,21], words=[2,4]))),\n",
       "  AuthShortTask(AuthShort(SpanMention(\"EAS\", sentence=20559, chars=[419,421], words=[81,81])), Task(SpanMention(\"contributed to data analysis\", sentence=20543, chars=[25,52], words=[10,13]))),\n",
       "  AuthShortTask(AuthShort(SpanMention(\"EAS\", sentence=20559, chars=[419,421], words=[81,81])), Task(SpanMention(\"were involved in designing the original studies for which the present data were collected\", sentence=20544, chars=[47,135], words=[20,33]))),\n",
       "  AuthShortTask(AuthShort(SpanMention(\"EAS\", sentence=20559, chars=[419,421], words=[81,81])), Task(SpanMention(\"participated in data collection\", sentence=20545, chars=[46,76], words=[19,22]))),\n",
       "  AuthShortTask(AuthShort(SpanMention(\"EAS\", sentence=20559, chars=[419,421], words=[81,81])), Task(SpanMention(\"wrote the manuscript with feedback from all co-authors\", sentence=20546, chars=[17,70], words=[6,15]))),\n",
       "  AuthShortTask(AuthShort(SpanMention(\"JA\", sentence=20559, chars=[484,485], words=[95,95])), Task(SpanMention(\"designed the methodology and the analysis\", sentence=20541, chars=[32,72], words=[12,17]))),\n",
       "  AuthShortTask(AuthShort(SpanMention(\"JA\", sentence=20559, chars=[484,485], words=[95,95])), Task(SpanMention(\"analysed the data\", sentence=20542, chars=[5,21], words=[2,4]))),\n",
       "  AuthShortTask(AuthShort(SpanMention(\"JA\", sentence=20559, chars=[484,485], words=[95,95])), Task(SpanMention(\"contributed to data analysis\", sentence=20543, chars=[25,52], words=[10,13]))),\n",
       "  AuthShortTask(AuthShort(SpanMention(\"JA\", sentence=20559, chars=[484,485], words=[95,95])), Task(SpanMention(\"were involved in designing the original studies for which the present data were collected\", sentence=20544, chars=[47,135], words=[20,33]))),\n",
       "  AuthShortTask(AuthShort(SpanMention(\"JA\", sentence=20559, chars=[484,485], words=[95,95])), Task(SpanMention(\"participated in data collection\", sentence=20545, chars=[46,76], words=[19,22]))),\n",
       "  AuthShortTask(AuthShort(SpanMention(\"JA\", sentence=20559, chars=[484,485], words=[95,95])), Task(SpanMention(\"wrote the manuscript with feedback from all co-authors\", sentence=20546, chars=[17,70], words=[6,15]))),\n",
       "  AuthShortTask(AuthShort(SpanMention(\"AIL\", sentence=20559, chars=[516,518], words=[103,103])), Task(SpanMention(\"designed the methodology and the analysis\", sentence=20541, chars=[32,72], words=[12,17]))),\n",
       "  AuthShortTask(AuthShort(SpanMention(\"AIL\", sentence=20559, chars=[516,518], words=[103,103])), Task(SpanMention(\"analysed the data\", sentence=20542, chars=[5,21], words=[2,4]))),\n",
       "  AuthShortTask(AuthShort(SpanMention(\"AIL\", sentence=20559, chars=[516,518], words=[103,103])), Task(SpanMention(\"contributed to data analysis\", sentence=20543, chars=[25,52], words=[10,13]))),\n",
       "  AuthShortTask(AuthShort(SpanMention(\"AIL\", sentence=20559, chars=[516,518], words=[103,103])), Task(SpanMention(\"were involved in designing the original studies for which the present data were collected\", sentence=20544, chars=[47,135], words=[20,33]))),\n",
       "  AuthShortTask(AuthShort(SpanMention(\"AIL\", sentence=20559, chars=[516,518], words=[103,103])), Task(SpanMention(\"participated in data collection\", sentence=20545, chars=[46,76], words=[19,22]))),\n",
       "  AuthShortTask(AuthShort(SpanMention(\"AIL\", sentence=20559, chars=[516,518], words=[103,103])), Task(SpanMention(\"wrote the manuscript with feedback from all co-authors\", sentence=20546, chars=[17,70], words=[6,15]))),\n",
       "  AuthShortTask(AuthShort(SpanMention(\"MMC\", sentence=20559, chars=[598,600], words=[117,117])), Task(SpanMention(\"designed the methodology and the analysis\", sentence=20541, chars=[32,72], words=[12,17]))),\n",
       "  AuthShortTask(AuthShort(SpanMention(\"MMC\", sentence=20559, chars=[598,600], words=[117,117])), Task(SpanMention(\"analysed the data\", sentence=20542, chars=[5,21], words=[2,4]))),\n",
       "  AuthShortTask(AuthShort(SpanMention(\"MMC\", sentence=20559, chars=[598,600], words=[117,117])), Task(SpanMention(\"contributed to data analysis\", sentence=20543, chars=[25,52], words=[10,13]))),\n",
       "  AuthShortTask(AuthShort(SpanMention(\"MMC\", sentence=20559, chars=[598,600], words=[117,117])), Task(SpanMention(\"were involved in designing the original studies for which the present data were collected\", sentence=20544, chars=[47,135], words=[20,33]))),\n",
       "  AuthShortTask(AuthShort(SpanMention(\"MMC\", sentence=20559, chars=[598,600], words=[117,117])), Task(SpanMention(\"participated in data collection\", sentence=20545, chars=[46,76], words=[19,22]))),\n",
       "  AuthShortTask(AuthShort(SpanMention(\"MMC\", sentence=20559, chars=[598,600], words=[117,117])), Task(SpanMention(\"wrote the manuscript with feedback from all co-authors\", sentence=20546, chars=[17,70], words=[6,15]))),\n",
       "  AuthShortTask(AuthShort(SpanMention(\"IP\", sentence=20559, chars=[725,726], words=[140,140])), Task(SpanMention(\"designed the methodology and the analysis\", sentence=20541, chars=[32,72], words=[12,17]))),\n",
       "  AuthShortTask(AuthShort(SpanMention(\"IP\", sentence=20559, chars=[725,726], words=[140,140])), Task(SpanMention(\"analysed the data\", sentence=20542, chars=[5,21], words=[2,4]))),\n",
       "  AuthShortTask(AuthShort(SpanMention(\"IP\", sentence=20559, chars=[725,726], words=[140,140])), Task(SpanMention(\"contributed to data analysis\", sentence=20543, chars=[25,52], words=[10,13]))),\n",
       "  AuthShortTask(AuthShort(SpanMention(\"IP\", sentence=20559, chars=[725,726], words=[140,140])), Task(SpanMention(\"were involved in designing the original studies for which the present data were collected\", sentence=20544, chars=[47,135], words=[20,33]))),\n",
       "  AuthShortTask(AuthShort(SpanMention(\"IP\", sentence=20559, chars=[725,726], words=[140,140])), Task(SpanMention(\"participated in data collection\", sentence=20545, chars=[46,76], words=[19,22]))),\n",
       "  AuthShortTask(AuthShort(SpanMention(\"IP\", sentence=20559, chars=[725,726], words=[140,140])), Task(SpanMention(\"wrote the manuscript with feedback from all co-authors\", sentence=20546, chars=[17,70], words=[6,15]))),\n",
       "  AuthShortTask(AuthShort(SpanMention(\"PAMM\", sentence=20560, chars=[17,20], words=[8,8])), Task(SpanMention(\"designed the methodology and the analysis\", sentence=20541, chars=[32,72], words=[12,17]))),\n",
       "  AuthShortTask(AuthShort(SpanMention(\"PAMM\", sentence=20560, chars=[17,20], words=[8,8])), Task(SpanMention(\"analysed the data\", sentence=20542, chars=[5,21], words=[2,4]))),\n",
       "  AuthShortTask(AuthShort(SpanMention(\"PAMM\", sentence=20560, chars=[17,20], words=[8,8])), Task(SpanMention(\"contributed to data analysis\", sentence=20543, chars=[25,52], words=[10,13]))),\n",
       "  AuthShortTask(AuthShort(SpanMention(\"PAMM\", sentence=20560, chars=[17,20], words=[8,8])), Task(SpanMention(\"were involved in designing the original studies for which the present data were collected\", sentence=20544, chars=[47,135], words=[20,33]))),\n",
       "  AuthShortTask(AuthShort(SpanMention(\"PAMM\", sentence=20560, chars=[17,20], words=[8,8])), Task(SpanMention(\"participated in data collection\", sentence=20545, chars=[46,76], words=[19,22]))),\n",
       "  AuthShortTask(AuthShort(SpanMention(\"PAMM\", sentence=20560, chars=[17,20], words=[8,8])), Task(SpanMention(\"wrote the manuscript with feedback from all co-authors\", sentence=20546, chars=[17,70], words=[6,15]))),\n",
       "  AuthShortTask(AuthShort(SpanMention(\"MLK\", sentence=20560, chars=[94,96], words=[22,22])), Task(SpanMention(\"designed the methodology and the analysis\", sentence=20541, chars=[32,72], words=[12,17]))),\n",
       "  AuthShortTask(AuthShort(SpanMention(\"MLK\", sentence=20560, chars=[94,96], words=[22,22])), Task(SpanMention(\"analysed the data\", sentence=20542, chars=[5,21], words=[2,4]))),\n",
       "  AuthShortTask(AuthShort(SpanMention(\"MLK\", sentence=20560, chars=[94,96], words=[22,22])), Task(SpanMention(\"contributed to data analysis\", sentence=20543, chars=[25,52], words=[10,13]))),\n",
       "  AuthShortTask(AuthShort(SpanMention(\"MLK\", sentence=20560, chars=[94,96], words=[22,22])), Task(SpanMention(\"were involved in designing the original studies for which the present data were collected\", sentence=20544, chars=[47,135], words=[20,33]))),\n",
       "  AuthShortTask(AuthShort(SpanMention(\"MLK\", sentence=20560, chars=[94,96], words=[22,22])), Task(SpanMention(\"participated in data collection\", sentence=20545, chars=[46,76], words=[19,22]))),\n",
       "  AuthShortTask(AuthShort(SpanMention(\"MLK\", sentence=20560, chars=[94,96], words=[22,22])), Task(SpanMention(\"wrote the manuscript with feedback from all co-authors\", sentence=20546, chars=[17,70], words=[6,15]))),\n",
       "  AuthShortTask(AuthShort(SpanMention(\"SA\", sentence=20560, chars=[102,103], words=[24,24])), Task(SpanMention(\"designed the methodology and the analysis\", sentence=20541, chars=[32,72], words=[12,17]))),\n",
       "  AuthShortTask(AuthShort(SpanMention(\"SA\", sentence=20560, chars=[102,103], words=[24,24])), Task(SpanMention(\"analysed the data\", sentence=20542, chars=[5,21], words=[2,4]))),\n",
       "  AuthShortTask(AuthShort(SpanMention(\"SA\", sentence=20560, chars=[102,103], words=[24,24])), Task(SpanMention(\"contributed to data analysis\", sentence=20543, chars=[25,52], words=[10,13]))),\n",
       "  AuthShortTask(AuthShort(SpanMention(\"SA\", sentence=20560, chars=[102,103], words=[24,24])), Task(SpanMention(\"were involved in designing the original studies for which the present data were collected\", sentence=20544, chars=[47,135], words=[20,33]))),\n",
       "  AuthShortTask(AuthShort(SpanMention(\"SA\", sentence=20560, chars=[102,103], words=[24,24])), Task(SpanMention(\"participated in data collection\", sentence=20545, chars=[46,76], words=[19,22]))),\n",
       "  AuthShortTask(AuthShort(SpanMention(\"SA\", sentence=20560, chars=[102,103], words=[24,24])), Task(SpanMention(\"wrote the manuscript with feedback from all co-authors\", sentence=20546, chars=[17,70], words=[6,15]))),\n",
       "  AuthShortTask(AuthShort(SpanMention(\"MLK\", sentence=20560, chars=[203,205], words=[46,46])), Task(SpanMention(\"designed the methodology and the analysis\", sentence=20541, chars=[32,72], words=[12,17]))),\n",
       "  AuthShortTask(AuthShort(SpanMention(\"MLK\", sentence=20560, chars=[203,205], words=[46,46])), Task(SpanMention(\"analysed the data\", sentence=20542, chars=[5,21], words=[2,4]))),\n",
       "  AuthShortTask(AuthShort(SpanMention(\"MLK\", sentence=20560, chars=[203,205], words=[46,46])), Task(SpanMention(\"contributed to data analysis\", sentence=20543, chars=[25,52], words=[10,13]))),\n",
       "  AuthShortTask(AuthShort(SpanMention(\"MLK\", sentence=20560, chars=[203,205], words=[46,46])), Task(SpanMention(\"were involved in designing the original studies for which the present data were collected\", sentence=20544, chars=[47,135], words=[20,33]))),\n",
       "  AuthShortTask(AuthShort(SpanMention(\"MLK\", sentence=20560, chars=[203,205], words=[46,46])), Task(SpanMention(\"participated in data collection\", sentence=20545, chars=[46,76], words=[19,22]))),\n",
       "  AuthShortTask(AuthShort(SpanMention(\"MLK\", sentence=20560, chars=[203,205], words=[46,46])), Task(SpanMention(\"wrote the manuscript with feedback from all co-authors\", sentence=20546, chars=[17,70], words=[6,15]))),\n",
       "  AuthShortTask(AuthShort(SpanMention(\"SA\", sentence=20560, chars=[208,209], words=[48,48])), Task(SpanMention(\"designed the methodology and the analysis\", sentence=20541, chars=[32,72], words=[12,17]))),\n",
       "  AuthShortTask(AuthShort(SpanMention(\"SA\", sentence=20560, chars=[208,209], words=[48,48])), Task(SpanMention(\"analysed the data\", sentence=20542, chars=[5,21], words=[2,4]))),\n",
       "  AuthShortTask(AuthShort(SpanMention(\"SA\", sentence=20560, chars=[208,209], words=[48,48])), Task(SpanMention(\"contributed to data analysis\", sentence=20543, chars=[25,52], words=[10,13]))),\n",
       "  AuthShortTask(AuthShort(SpanMention(\"SA\", sentence=20560, chars=[208,209], words=[48,48])), Task(SpanMention(\"were involved in designing the original studies for which the present data were collected\", sentence=20544, chars=[47,135], words=[20,33]))),\n",
       "  AuthShortTask(AuthShort(SpanMention(\"SA\", sentence=20560, chars=[208,209], words=[48,48])), Task(SpanMention(\"participated in data collection\", sentence=20545, chars=[46,76], words=[19,22]))),\n",
       "  AuthShortTask(AuthShort(SpanMention(\"SA\", sentence=20560, chars=[208,209], words=[48,48])), Task(SpanMention(\"wrote the manuscript with feedback from all co-authors\", sentence=20546, chars=[17,70], words=[6,15]))),\n",
       "  AuthShortTask(AuthShort(SpanMention(\"JV\", sentence=20560, chars=[215,216], words=[50,50])), Task(SpanMention(\"designed the methodology and the analysis\", sentence=20541, chars=[32,72], words=[12,17]))),\n",
       "  AuthShortTask(AuthShort(SpanMention(\"JV\", sentence=20560, chars=[215,216], words=[50,50])), Task(SpanMention(\"analysed the data\", sentence=20542, chars=[5,21], words=[2,4]))),\n",
       "  AuthShortTask(AuthShort(SpanMention(\"JV\", sentence=20560, chars=[215,216], words=[50,50])), Task(SpanMention(\"contributed to data analysis\", sentence=20543, chars=[25,52], words=[10,13]))),\n",
       "  AuthShortTask(AuthShort(SpanMention(\"JV\", sentence=20560, chars=[215,216], words=[50,50])), Task(SpanMention(\"were involved in designing the original studies for which the present data were collected\", sentence=20544, chars=[47,135], words=[20,33]))),\n",
       "  AuthShortTask(AuthShort(SpanMention(\"JV\", sentence=20560, chars=[215,216], words=[50,50])), Task(SpanMention(\"participated in data collection\", sentence=20545, chars=[46,76], words=[19,22]))),\n",
       "  AuthShortTask(AuthShort(SpanMention(\"JV\", sentence=20560, chars=[215,216], words=[50,50])), Task(SpanMention(\"wrote the manuscript with feedback from all co-authors\", sentence=20546, chars=[17,70], words=[6,15]))),\n",
       "  AuthShortTask(AuthShort(SpanMention(\"MLK\", sentence=20560, chars=[317,319], words=[69,69])), Task(SpanMention(\"designed the methodology and the analysis\", sentence=20541, chars=[32,72], words=[12,17]))),\n",
       "  AuthShortTask(AuthShort(SpanMention(\"MLK\", sentence=20560, chars=[317,319], words=[69,69])), Task(SpanMention(\"analysed the data\", sentence=20542, chars=[5,21], words=[2,4]))),\n",
       "  AuthShortTask(AuthShort(SpanMention(\"MLK\", sentence=20560, chars=[317,319], words=[69,69])), Task(SpanMention(\"contributed to data analysis\", sentence=20543, chars=[25,52], words=[10,13]))),\n",
       "  AuthShortTask(AuthShort(SpanMention(\"MLK\", sentence=20560, chars=[317,319], words=[69,69])), Task(SpanMention(\"were involved in designing the original studies for which the present data were collected\", sentence=20544, chars=[47,135], words=[20,33]))),\n",
       "  AuthShortTask(AuthShort(SpanMention(\"MLK\", sentence=20560, chars=[317,319], words=[69,69])), Task(SpanMention(\"participated in data collection\", sentence=20545, chars=[46,76], words=[19,22]))),\n",
       "  AuthShortTask(AuthShort(SpanMention(\"MLK\", sentence=20560, chars=[317,319], words=[69,69])), Task(SpanMention(\"wrote the manuscript with feedback from all co-authors\", sentence=20546, chars=[17,70], words=[6,15]))),\n",
       "  AuthShortTask(AuthShort(SpanMention(\"LR\", sentence=20560, chars=[369,370], words=[79,79])), Task(SpanMention(\"designed the methodology and the analysis\", sentence=20541, chars=[32,72], words=[12,17]))),\n",
       "  AuthShortTask(AuthShort(SpanMention(\"LR\", sentence=20560, chars=[369,370], words=[79,79])), Task(SpanMention(\"analysed the data\", sentence=20542, chars=[5,21], words=[2,4]))),\n",
       "  AuthShortTask(AuthShort(SpanMention(\"LR\", sentence=20560, chars=[369,370], words=[79,79])), Task(SpanMention(\"contributed to data analysis\", sentence=20543, chars=[25,52], words=[10,13]))),\n",
       "  AuthShortTask(AuthShort(SpanMention(\"LR\", sentence=20560, chars=[369,370], words=[79,79])), Task(SpanMention(\"were involved in designing the original studies for which the present data were collected\", sentence=20544, chars=[47,135], words=[20,33]))),\n",
       "  AuthShortTask(AuthShort(SpanMention(\"LR\", sentence=20560, chars=[369,370], words=[79,79])), Task(SpanMention(\"participated in data collection\", sentence=20545, chars=[46,76], words=[19,22]))),\n",
       "  AuthShortTask(AuthShort(SpanMention(\"LR\", sentence=20560, chars=[369,370], words=[79,79])), Task(SpanMention(\"wrote the manuscript with feedback from all co-authors\", sentence=20546, chars=[17,70], words=[6,15]))),\n",
       "  AuthShortTask(AuthShort(SpanMention(\"RLCH\", sentence=20560, chars=[408,411], words=[88,88])), Task(SpanMention(\"designed the methodology and the analysis\", sentence=20541, chars=[32,72], words=[12,17]))),\n",
       "  AuthShortTask(AuthShort(SpanMention(\"RLCH\", sentence=20560, chars=[408,411], words=[88,88])), Task(SpanMention(\"analysed the data\", sentence=20542, chars=[5,21], words=[2,4]))),\n",
       "  AuthShortTask(AuthShort(SpanMention(\"RLCH\", sentence=20560, chars=[408,411], words=[88,88])), Task(SpanMention(\"contributed to data analysis\", sentence=20543, chars=[25,52], words=[10,13]))),\n",
       "  AuthShortTask(AuthShort(SpanMention(\"RLCH\", sentence=20560, chars=[408,411], words=[88,88])), Task(SpanMention(\"were involved in designing the original studies for which the present data were collected\", sentence=20544, chars=[47,135], words=[20,33]))),\n",
       "  AuthShortTask(AuthShort(SpanMention(\"RLCH\", sentence=20560, chars=[408,411], words=[88,88])), Task(SpanMention(\"participated in data collection\", sentence=20545, chars=[46,76], words=[19,22]))),\n",
       "  AuthShortTask(AuthShort(SpanMention(\"RLCH\", sentence=20560, chars=[408,411], words=[88,88])), Task(SpanMention(\"wrote the manuscript with feedback from all co-authors\", sentence=20546, chars=[17,70], words=[6,15]))),\n",
       "  AuthShortTask(AuthShort(SpanMention(\"RZ\", sentence=11014, chars=[0,1], words=[0,0])), Task(SpanMention(\"designed the research, discussed the results and wrote the paper\", sentence=11014, chars=[15,78], words=[5,15]))),\n",
       "  AuthShortTask(AuthShort(SpanMention(\"RZ\", sentence=11014, chars=[0,1], words=[0,0])), Task(SpanMention(\"wrote the computer code, performed simulations, and analyzed the data\", sentence=11016, chars=[4,72], words=[2,13]))),\n",
       "  AuthShortTask(AuthShort(SpanMention(\"TAE\", sentence=11014, chars=[4,6], words=[2,2])), Task(SpanMention(\"designed the research, discussed the results and wrote the paper\", sentence=11014, chars=[15,78], words=[5,15]))),\n",
       "  AuthShortTask(AuthShort(SpanMention(\"TAE\", sentence=11014, chars=[4,6], words=[2,2])), Task(SpanMention(\"wrote the computer code, performed simulations, and analyzed the data\", sentence=11016, chars=[4,72], words=[2,13]))),\n",
       "  AuthShortTask(AuthShort(SpanMention(\"AL\", sentence=11014, chars=[12,13], words=[4,4])), Task(SpanMention(\"designed the research, discussed the results and wrote the paper\", sentence=11014, chars=[15,78], words=[5,15]))),\n",
       "  AuthShortTask(AuthShort(SpanMention(\"AL\", sentence=11014, chars=[12,13], words=[4,4])), Task(SpanMention(\"wrote the computer code, performed simulations, and analyzed the data\", sentence=11016, chars=[4,72], words=[2,13]))),\n",
       "  AuthShortTask(AuthShort(SpanMention(\"RZ\", sentence=11016, chars=[1,2], words=[1,1])), Task(SpanMention(\"designed the research, discussed the results and wrote the paper\", sentence=11014, chars=[15,78], words=[5,15]))),\n",
       "  AuthShortTask(AuthShort(SpanMention(\"RZ\", sentence=11016, chars=[1,2], words=[1,1])), Task(SpanMention(\"wrote the computer code, performed simulations, and analyzed the data\", sentence=11016, chars=[4,72], words=[2,13]))),\n",
       "  AuthShortTask(AuthShort(SpanMention(\"RZ\", sentence=11745, chars=[157,158], words=[26,26])), Task(SpanMention(\"designed the research, discussed the results and wrote the paper\", sentence=11014, chars=[15,78], words=[5,15]))),\n",
       "  AuthShortTask(AuthShort(SpanMention(\"RZ\", sentence=11745, chars=[157,158], words=[26,26])), Task(SpanMention(\"wrote the computer code, performed simulations, and analyzed the data\", sentence=11016, chars=[4,72], words=[2,13]))),\n",
       "  AuthShortTask(AuthShort(SpanMention(\"AL\", sentence=11745, chars=[161,162], words=[28,28])), Task(SpanMention(\"designed the research, discussed the results and wrote the paper\", sentence=11014, chars=[15,78], words=[5,15]))),\n",
       "  AuthShortTask(AuthShort(SpanMention(\"AL\", sentence=11745, chars=[161,162], words=[28,28])), Task(SpanMention(\"wrote the computer code, performed simulations, and analyzed the data\", sentence=11016, chars=[4,72], words=[2,13]))),\n",
       "  AuthShortTask(AuthShort(SpanMention(\"RZ\", sentence=11749, chars=[102,103], words=[13,13])), Task(SpanMention(\"designed the research, discussed the results and wrote the paper\", sentence=11014, chars=[15,78], words=[5,15]))),\n",
       "  AuthShortTask(AuthShort(SpanMention(\"RZ\", sentence=11749, chars=[102,103], words=[13,13])), Task(SpanMention(\"wrote the computer code, performed simulations, and analyzed the data\", sentence=11016, chars=[4,72], words=[2,13]))),\n",
       "  AuthShortTask(AuthShort(SpanMention(\"TAE\", sentence=11749, chars=[131,133], words=[21,21])), Task(SpanMention(\"designed the research, discussed the results and wrote the paper\", sentence=11014, chars=[15,78], words=[5,15]))),\n",
       "  AuthShortTask(AuthShort(SpanMention(\"TAE\", sentence=11749, chars=[131,133], words=[21,21])), Task(SpanMention(\"wrote the computer code, performed simulations, and analyzed the data\", sentence=11016, chars=[4,72], words=[2,13]))),\n",
       "  AuthShortTask(AuthShort(SpanMention(\"TAE\", sentence=11749, chars=[173,175], words=[30,30])), Task(SpanMention(\"designed the research, discussed the results and wrote the paper\", sentence=11014, chars=[15,78], words=[5,15]))),\n",
       "  AuthShortTask(AuthShort(SpanMention(\"TAE\", sentence=11749, chars=[173,175], words=[30,30])), Task(SpanMention(\"wrote the computer code, performed simulations, and analyzed the data\", sentence=11016, chars=[4,72], words=[2,13]))),\n",
       "  AuthShortTask(AuthShort(SpanMention(\"JA\", sentence=14191, chars=[0,1], words=[0,0])), Task(SpanMention(\"designed the research, discussed the results and wrote the paper\", sentence=11014, chars=[15,78], words=[5,15]))),\n",
       "  AuthShortTask(AuthShort(SpanMention(\"JA\", sentence=14191, chars=[0,1], words=[0,0])), Task(SpanMention(\"wrote the computer code, performed simulations, and analyzed the data\", sentence=11016, chars=[4,72], words=[2,13])))]]"
      ]
     },
     "execution_count": 17,
     "metadata": {},
     "output_type": "execute_result"
    }
   ],
   "source": [
    "train_cands"
   ]
  },
  {
   "cell_type": "code",
   "execution_count": null,
   "metadata": {},
   "outputs": [
    {
     "data": {
      "text/plain": [
       "(1, 4)"
      ]
     },
     "execution_count": 8,
     "metadata": {},
     "output_type": "execute_result"
    }
   ],
   "source": [
    "train_cands = candidate_extractor.get_candidates()\n",
    "all_gold = labeler.get_gold_labels(train_cands)\n",
    "\n",
    "\n",
    "print(\"Gold labels found:\", all_gold[0].sum(), \"from\", len(export.documents))\n",
    "print(\"Documents successfully transfered:\")\n",
    "\n",
    "golds = []\n",
    "for k, v in zip(all_gold[0], train_cands[0]):\n",
    "    if k:\n",
    "        golds.append(v)\n",
    "        print(v.document.name)\n",
    "print(golds)"
   ]
  },
  {
   "cell_type": "code",
   "execution_count": null,
   "metadata": {},
   "outputs": [],
   "source": []
  }
 ],
 "metadata": {
  "kernelspec": {
   "display_name": "Python 3 (ipykernel)",
   "language": "python",
   "name": "python3"
  },
  "language_info": {
   "codemirror_mode": {
    "name": "ipython",
    "version": 3
   },
   "file_extension": ".py",
   "mimetype": "text/x-python",
   "name": "python",
   "nbconvert_exporter": "python",
   "pygments_lexer": "ipython3",
   "version": "3.8.16"
  },
  "orig_nbformat": 4
 },
 "nbformat": 4,
 "nbformat_minor": 2
}
