{
 "cells": [
  {
   "attachments": {},
   "cell_type": "markdown",
   "metadata": {},
   "source": [
    "# Labelfunction and model analysis"
   ]
  },
  {
   "attachments": {},
   "cell_type": "markdown",
   "metadata": {},
   "source": [
    "imports"
   ]
  },
  {
   "cell_type": "code",
   "execution_count": 1,
   "metadata": {},
   "outputs": [],
   "source": [
    "from fonduer.supervision import Labeler\n",
    "from fonduer.features import Featurizer\n",
    "from fonduer.candidates.models import Candidate\n",
    "\n",
    "from snorkel.labeling import LFAnalysis\n",
    "from snorkel.labeling.model import LabelModel\n",
    "\n",
    "from pipeline.utils import get_session, load_candidates\n",
    "from definitions.candidates import NameFullAbbr, NameFullTask\n",
    "from pipeline.lfs.dummy_lfs import dummy_lfs\n"
   ]
  },
  {
   "attachments": {},
   "cell_type": "markdown",
   "metadata": {},
   "source": [
    "Get session object"
   ]
  },
  {
   "cell_type": "code",
   "execution_count": 2,
   "metadata": {},
   "outputs": [
    {
     "name": "stderr",
     "output_type": "stream",
     "text": [
      "[2023-05-03 21:13:08,192][INFO] fonduer.meta:49 - Setting logging directory to: /tmp/2023-05-03_21-13-08\n"
     ]
    }
   ],
   "source": [
    "session = get_session(db_name=\"supervision\")"
   ]
  },
  {
   "attachments": {},
   "cell_type": "markdown",
   "metadata": {},
   "source": [
    "Define candidates and Labeler object"
   ]
  },
  {
   "cell_type": "code",
   "execution_count": 3,
   "metadata": {},
   "outputs": [],
   "source": [
    "candidates = [NameFullTask, NameFullAbbr]\n",
    "labeler = Labeler(session, candidates)"
   ]
  },
  {
   "attachments": {},
   "cell_type": "markdown",
   "metadata": {},
   "source": [
    "Load candidates and labels"
   ]
  },
  {
   "cell_type": "code",
   "execution_count": 4,
   "metadata": {},
   "outputs": [
    {
     "name": "stderr",
     "output_type": "stream",
     "text": [
      "/workspaces/bio-medRxiv/pipeline/utils.py:39: SAWarning: Coercing Subquery object into a select() for use in IN(); please pass a select() construct explicitly\n",
      "  cands = (session.query(candidate_class).filter(candidate_class.id.in_(sub_query)).order_by(candidate_class.id).all())\n"
     ]
    }
   ],
   "source": [
    "train_cands = load_candidates(session, 0, candidates)\n",
    "L_train_NFT, L_train_NFA = labeler.get_label_matrices(train_cands) # NFT --> NameFullTask, NFA --> NameFullAbbr"
   ]
  },
  {
   "attachments": {},
   "cell_type": "markdown",
   "metadata": {},
   "source": [
    "## LF analysis"
   ]
  },
  {
   "attachments": {},
   "cell_type": "markdown",
   "metadata": {},
   "source": [
    "NameFull + Abrreviation"
   ]
  },
  {
   "cell_type": "code",
   "execution_count": 7,
   "metadata": {},
   "outputs": [
    {
     "data": {
      "text/html": [
       "<div>\n",
       "<style scoped>\n",
       "    .dataframe tbody tr th:only-of-type {\n",
       "        vertical-align: middle;\n",
       "    }\n",
       "\n",
       "    .dataframe tbody tr th {\n",
       "        vertical-align: top;\n",
       "    }\n",
       "\n",
       "    .dataframe thead th {\n",
       "        text-align: right;\n",
       "    }\n",
       "</style>\n",
       "<table border=\"1\" class=\"dataframe\">\n",
       "  <thead>\n",
       "    <tr style=\"text-align: right;\">\n",
       "      <th></th>\n",
       "      <th>j</th>\n",
       "      <th>Polarity</th>\n",
       "      <th>Coverage</th>\n",
       "      <th>Overlaps</th>\n",
       "      <th>Conflicts</th>\n",
       "    </tr>\n",
       "  </thead>\n",
       "  <tbody>\n",
       "    <tr>\n",
       "      <th>dummy_lf_rand</th>\n",
       "      <td>0</td>\n",
       "      <td>[0, 1]</td>\n",
       "      <td>1.0</td>\n",
       "      <td>1.0</td>\n",
       "      <td>0.749063</td>\n",
       "    </tr>\n",
       "    <tr>\n",
       "      <th>dummy_lf_randi</th>\n",
       "      <td>1</td>\n",
       "      <td>[0, 1]</td>\n",
       "      <td>1.0</td>\n",
       "      <td>1.0</td>\n",
       "      <td>0.749063</td>\n",
       "    </tr>\n",
       "    <tr>\n",
       "      <th>dummy_lf_rando</th>\n",
       "      <td>2</td>\n",
       "      <td>[0, 1]</td>\n",
       "      <td>1.0</td>\n",
       "      <td>1.0</td>\n",
       "      <td>0.749063</td>\n",
       "    </tr>\n",
       "  </tbody>\n",
       "</table>\n",
       "</div>"
      ],
      "text/plain": [
       "                j Polarity  Coverage  Overlaps  Conflicts\n",
       "dummy_lf_rand   0   [0, 1]       1.0       1.0   0.749063\n",
       "dummy_lf_randi  1   [0, 1]       1.0       1.0   0.749063\n",
       "dummy_lf_rando  2   [0, 1]       1.0       1.0   0.749063"
      ]
     },
     "execution_count": 7,
     "metadata": {},
     "output_type": "execute_result"
    }
   ],
   "source": [
    "LFAnalysis(\n",
    "    L_train_NFA,\n",
    "    lfs=sorted(dummy_lfs, key=lambda lf: lf.name)\n",
    ").lf_summary()"
   ]
  },
  {
   "attachments": {},
   "cell_type": "markdown",
   "metadata": {},
   "source": [
    "NameFull + Task"
   ]
  },
  {
   "cell_type": "code",
   "execution_count": 8,
   "metadata": {},
   "outputs": [
    {
     "data": {
      "text/html": [
       "<div>\n",
       "<style scoped>\n",
       "    .dataframe tbody tr th:only-of-type {\n",
       "        vertical-align: middle;\n",
       "    }\n",
       "\n",
       "    .dataframe tbody tr th {\n",
       "        vertical-align: top;\n",
       "    }\n",
       "\n",
       "    .dataframe thead th {\n",
       "        text-align: right;\n",
       "    }\n",
       "</style>\n",
       "<table border=\"1\" class=\"dataframe\">\n",
       "  <thead>\n",
       "    <tr style=\"text-align: right;\">\n",
       "      <th></th>\n",
       "      <th>j</th>\n",
       "      <th>Polarity</th>\n",
       "      <th>Coverage</th>\n",
       "      <th>Overlaps</th>\n",
       "      <th>Conflicts</th>\n",
       "    </tr>\n",
       "  </thead>\n",
       "  <tbody>\n",
       "    <tr>\n",
       "      <th>dummy_lf_rand</th>\n",
       "      <td>0</td>\n",
       "      <td>[0, 1]</td>\n",
       "      <td>1.0</td>\n",
       "      <td>1.0</td>\n",
       "      <td>0.749727</td>\n",
       "    </tr>\n",
       "    <tr>\n",
       "      <th>dummy_lf_randi</th>\n",
       "      <td>1</td>\n",
       "      <td>[0, 1]</td>\n",
       "      <td>1.0</td>\n",
       "      <td>1.0</td>\n",
       "      <td>0.749727</td>\n",
       "    </tr>\n",
       "    <tr>\n",
       "      <th>dummy_lf_rando</th>\n",
       "      <td>2</td>\n",
       "      <td>[0, 1]</td>\n",
       "      <td>1.0</td>\n",
       "      <td>1.0</td>\n",
       "      <td>0.749727</td>\n",
       "    </tr>\n",
       "  </tbody>\n",
       "</table>\n",
       "</div>"
      ],
      "text/plain": [
       "                j Polarity  Coverage  Overlaps  Conflicts\n",
       "dummy_lf_rand   0   [0, 1]       1.0       1.0   0.749727\n",
       "dummy_lf_randi  1   [0, 1]       1.0       1.0   0.749727\n",
       "dummy_lf_rando  2   [0, 1]       1.0       1.0   0.749727"
      ]
     },
     "execution_count": 8,
     "metadata": {},
     "output_type": "execute_result"
    }
   ],
   "source": [
    "LFAnalysis(\n",
    "    L_train_NFT,\n",
    "    lfs=sorted(dummy_lfs, key=lambda lf: lf.name)\n",
    ").lf_summary()"
   ]
  },
  {
   "attachments": {},
   "cell_type": "markdown",
   "metadata": {},
   "source": [
    "## Model analysis"
   ]
  },
  {
   "attachments": {},
   "cell_type": "markdown",
   "metadata": {},
   "source": [
    "List of models\n",
    "\n",
    "| Modelname | Candidate | description | n_epochs |\n",
    "| --------- | --------- | ----------- | -------- |\n",
    "| label_model_v1_NFA | NameFullAbbr | label model with random label functions | 500 |\n",
    "| label_model_v1_NFT | NameFullTask | label model with random label functions | 500 |"
   ]
  },
  {
   "cell_type": "code",
   "execution_count": 9,
   "metadata": {},
   "outputs": [
    {
     "name": "stderr",
     "output_type": "stream",
     "text": [
      "[2023-05-03 21:14:19,579][INFO] root:905 - Computing O...\n",
      "[2023-05-03 21:14:19,582][INFO] root:911 - Estimating \\mu...\n",
      "  0%|          | 0/500 [00:00<?, ?epoch/s][2023-05-03 21:14:19,590][INFO] root:79 - [0 epochs]: TRAIN:[loss=2.302]\n",
      "[2023-05-03 21:14:19,654][INFO] root:79 - [100 epochs]: TRAIN:[loss=0.001]\n",
      " 30%|███       | 150/500 [00:00<00:00, 1499.08epoch/s][2023-05-03 21:14:19,720][INFO] root:79 - [200 epochs]: TRAIN:[loss=0.000]\n",
      " 60%|██████    | 300/500 [00:00<00:00, 1321.32epoch/s][2023-05-03 21:14:19,812][INFO] root:79 - [300 epochs]: TRAIN:[loss=0.000]\n",
      "[2023-05-03 21:14:19,876][INFO] root:79 - [400 epochs]: TRAIN:[loss=0.000]\n",
      "100%|██████████| 500/500 [00:00<00:00, 1412.25epoch/s]\n",
      "[2023-05-03 21:14:19,943][INFO] root:977 - Finished Training\n",
      "[2023-05-03 21:14:19,957][INFO] root:905 - Computing O...\n",
      "[2023-05-03 21:14:19,961][INFO] root:911 - Estimating \\mu...\n",
      "  0%|          | 0/500 [00:00<?, ?epoch/s][2023-05-03 21:14:19,963][INFO] root:79 - [0 epochs]: TRAIN:[loss=2.301]\n",
      "[2023-05-03 21:14:20,028][INFO] root:79 - [100 epochs]: TRAIN:[loss=0.000]\n",
      " 31%|███       | 155/500 [00:00<00:00, 1546.41epoch/s][2023-05-03 21:14:20,093][INFO] root:79 - [200 epochs]: TRAIN:[loss=0.000]\n",
      "[2023-05-03 21:14:20,161][INFO] root:79 - [300 epochs]: TRAIN:[loss=0.000]\n",
      " 62%|██████▏   | 310/500 [00:00<00:00, 1493.98epoch/s][2023-05-03 21:14:20,226][INFO] root:79 - [400 epochs]: TRAIN:[loss=0.000]\n",
      "100%|██████████| 500/500 [00:00<00:00, 1513.37epoch/s]\n",
      "[2023-05-03 21:14:20,294][INFO] root:977 - Finished Training\n"
     ]
    },
    {
     "name": "stdout",
     "output_type": "stream",
     "text": [
      "Fit and saved models\n"
     ]
    }
   ],
   "source": [
    "from pathlib import Path\n",
    "\n",
    "gen_model_NFT = LabelModel(cardinality=2)\n",
    "gen_model_NFA = LabelModel(cardinality=2)\n",
    "\n",
    "\n",
    "if Path(\"models/label_model_NFA_v1.pkl\").is_file() and Path(\"models/label_model_NFT_v1.pkl\").is_file():\n",
    "    gen_model_NFA.load(source=\"models/label_model_NFA_v1.pkl\")\n",
    "    gen_model_NFT.load(source=\"models/label_model_NFT_v1.pkl\")\n",
    "    print(\"Loaded Models\")\n",
    "else:\n",
    "    gen_model_NFT.fit(L_train_NFT, n_epochs=500, log_freq=100)\n",
    "    gen_model_NFT.save(\"models/label_model_NFT_v1.pkl\")\n",
    "\n",
    "    gen_model_NFA.fit(L_train_NFA, n_epochs=500, log_freq=100)\n",
    "    gen_model_NFA.save(\"models/label_model_NFA_v1.pkl\")\n",
    "    print(\"Fit and saved models\")"
   ]
  },
  {
   "attachments": {},
   "cell_type": "markdown",
   "metadata": {},
   "source": [
    "### Generating train marginals"
   ]
  },
  {
   "cell_type": "code",
   "execution_count": 10,
   "metadata": {},
   "outputs": [],
   "source": [
    "train_marginals_NFA = gen_model_NFA.predict_proba(L_train_NFA)\n",
    "train_marginals_NFT = gen_model_NFT.predict_proba(L_train_NFT)"
   ]
  },
  {
   "cell_type": "code",
   "execution_count": 11,
   "metadata": {},
   "outputs": [
    {
     "data": {
      "image/png": "[encoded data removed]",
      "text/plain": [
       "<Figure size 1200x400 with 2 Axes>"
      ]
     },
     "metadata": {},
     "output_type": "display_data"
    }
   ],
   "source": [
    "import matplotlib.pyplot as plt\n",
    "\n",
    "fig, ax = plt.subplots(1,2)\n",
    "fig.set_figheight(4)\n",
    "fig.set_figwidth(12)\n",
    "fig.set_tight_layout(\"w_pad\")\n",
    "\n",
    "bins=20\n",
    "\n",
    "ax[0].hist(train_marginals_NFA[:, 0], bins=bins)\n",
    "ax[0].set_title(\"NFA(TRUE)\")\n",
    "\n",
    "ax[1].hist(train_marginals_NFT[:, 0], bins=bins)\n",
    "ax[1].set_title(\"NFT(TRUE)\")\n",
    "plt.show()"
   ]
  },
  {
   "attachments": {},
   "cell_type": "markdown",
   "metadata": {},
   "source": [
    "### Iterate on LFs"
   ]
  },
  {
   "cell_type": "code",
   "execution_count": 12,
   "metadata": {},
   "outputs": [
    {
     "name": "stderr",
     "output_type": "stream",
     "text": [
      "/workspaces/bio-medRxiv/pipeline/utils.py:39: SAWarning: Coercing Subquery object into a select() for use in IN(); please pass a select() construct explicitly\n",
      "  cands = (session.query(candidate_class).filter(candidate_class.id.in_(sub_query)).order_by(candidate_class.id).all())\n",
      "/usr/local/lib/python3.8/site-packages/fonduer/utils/utils_udf.py:217: SAWarning: Coercing Subquery object into a select() for use in IN(); please pass a select() construct explicitly\n",
      "  .filter(candidate_class.id.in_(sub_query))\n",
      "[2023-05-03 21:14:30,468][INFO] fonduer.supervision.labeler:330 - Clearing Labels (split 1)\n",
      "/usr/local/lib/python3.8/site-packages/fonduer/supervision/labeler.py:340: SAWarning: Coercing Subquery object into a select() for use in IN(); please pass a select() construct explicitly\n",
      "  query = self.session.query(table).filter(table.candidate_id.in_(sub_query))\n",
      "[2023-05-03 21:14:30,667][INFO] fonduer.utils.udf:67 - Running UDF...\n"
     ]
    },
    {
     "data": {
      "application/vnd.jupyter.widget-view+json": {
       "model_id": "23ec2e7b39cb49f486e03eee8a67ebd3",
       "version_major": 2,
       "version_minor": 0
      },
      "text/plain": [
       "  0%|          | 0/1 [00:00<?, ?it/s]"
      ]
     },
     "metadata": {},
     "output_type": "display_data"
    }
   ],
   "source": [
    "dev_cands = load_candidates(session, split=1, candidate_list=candidates)\n",
    "\n",
    "L_dev_NFA, L_dev_NFT = labeler.get_label_matrices(dev_cands)"
   ]
  },
  {
   "attachments": {},
   "cell_type": "markdown",
   "metadata": {},
   "source": [
    "## Discriminative Model"
   ]
  },
  {
   "attachments": {},
   "cell_type": "markdown",
   "metadata": {},
   "source": [
    "extract words from train_cands and count them"
   ]
  },
  {
   "cell_type": "code",
   "execution_count": 13,
   "metadata": {},
   "outputs": [],
   "source": [
    "import numpy as np\n",
    "# calculate the diff between true and false prediction probability of each candidate\n",
    "# the bigger the difference the more certain the model is\n",
    "# Example True = 0.4 False = 0.6\n",
    "# diff = 0.6 - 0.4 = 0.2 --> model is very unsure \n",
    "diffs = train_marginals_NFT.max(axis=1) - train_marginals_NFT.min(axis=1)\n",
    "\n",
    "# filter out all candidates where labelmodel is very unsure\n",
    "# unsure is a diff of smaller then 0.000001\n",
    "train_idxs = np.where(diffs > 0.2)[0].astype(np.int64)\n",
    "filtered = train_marginals_NFT[train_idxs, 1]\n",
    "\n",
    "# Cast continous values to binary for logistic regression model\n",
    "y = np.where(filtered > 0.5, 1, 0)"
   ]
  },
  {
   "attachments": {},
   "cell_type": "markdown",
   "metadata": {},
   "source": [
    "Get feature matrix and filter with previous filter"
   ]
  },
  {
   "cell_type": "code",
   "execution_count": 14,
   "metadata": {},
   "outputs": [],
   "source": [
    "featurizer = Featurizer(session, candidates)"
   ]
  },
  {
   "cell_type": "code",
   "execution_count": 15,
   "metadata": {},
   "outputs": [],
   "source": [
    "F_train_NFT = featurizer.get_feature_matrices(train_cands)[0]\n",
    "X = F_train_NFT[train_idxs, :]\n"
   ]
  },
  {
   "cell_type": "markdown",
   "metadata": {},
   "source": [
    "train logistic regression model"
   ]
  },
  {
   "cell_type": "code",
   "execution_count": 19,
   "metadata": {},
   "outputs": [],
   "source": [
    "from sklearn.linear_model import LogisticRegression, BayesianRidge\n",
    "\n",
    "clf = LogisticRegression(max_iter=200).fit(X, y)"
   ]
  },
  {
   "cell_type": "code",
   "execution_count": 20,
   "metadata": {},
   "outputs": [
    {
     "name": "stderr",
     "output_type": "stream",
     "text": [
      "/workspaces/bio-medRxiv/pipeline/utils.py:39: SAWarning: Coercing Subquery object into a select() for use in IN(); please pass a select() construct explicitly\n",
      "  cands = (session.query(candidate_class).filter(candidate_class.id.in_(sub_query)).order_by(candidate_class.id).all())\n"
     ]
    }
   ],
   "source": [
    "test_cands = load_candidates(session, 2, candidates)\n",
    "F_test_NFT = featurizer.get_feature_matrices(test_cands)[0]\n",
    "\n",
    "preds = clf.predict(F_test_NFT)"
   ]
  },
  {
   "cell_type": "code",
   "execution_count": 23,
   "metadata": {},
   "outputs": [],
   "source": [
    "reg = BayesianRidge().fit(X.toarray(), y)"
   ]
  },
  {
   "cell_type": "code",
   "execution_count": null,
   "metadata": {},
   "outputs": [],
   "source": []
  }
 ],
 "metadata": {
  "kernelspec": {
   "display_name": "Python 3",
   "language": "python",
   "name": "python3"
  },
  "language_info": {
   "codemirror_mode": {
    "name": "ipython",
    "version": 3
   },
   "file_extension": ".py",
   "mimetype": "text/x-python",
   "name": "python",
   "nbconvert_exporter": "python",
   "pygments_lexer": "ipython3",
   "version": "3.8.16"
  },
  "orig_nbformat": 4
 },
 "nbformat": 4,
 "nbformat_minor": 2
}
